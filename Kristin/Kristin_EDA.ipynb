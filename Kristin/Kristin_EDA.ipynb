{
 "cells": [
  {
   "cell_type": "markdown",
   "metadata": {},
   "source": [
    "## Introduction\n",
    "\n",
    "KKBox's Churn dataset consist of churn, member, transaction, and user information.\n",
    "<br>Number of Observations\n",
    "1. churn: 20,000\n",
    "2. member: 17,660\n",
    "3. transaction: 23,588\n",
    "4. user: 277,101"
   ]
  },
  {
   "cell_type": "code",
   "execution_count": 1,
   "metadata": {},
   "outputs": [],
   "source": [
    "#loading the requisite libraries\n",
    "\n",
    "import numpy as np\n",
    "import pandas as pd\n",
    "import matplotlib.pyplot as plt\n",
    "import seaborn as sns\n",
    "from sklearn import preprocessing\n",
    "\n",
    "%matplotlib inline"
   ]
  },
  {
   "cell_type": "code",
   "execution_count": 2,
   "metadata": {},
   "outputs": [],
   "source": [
    "#loading the requisite files\n",
    "\n",
    "churn_df = pd.read_csv('trunc_churn.csv')\n",
    "members_df = pd.read_csv('trunc_members.csv')\n",
    "transact_df = pd.read_csv('trunc_transaction.csv')\n",
    "users_df = pd.read_csv('trunc_users.csv')"
   ]
  },
  {
   "cell_type": "markdown",
   "metadata": {},
   "source": [
    "First let's have a look at the various datasets supplied"
   ]
  },
  {
   "cell_type": "code",
   "execution_count": 3,
   "metadata": {},
   "outputs": [
    {
     "data": {
      "text/html": [
       "<div>\n",
       "<style scoped>\n",
       "    .dataframe tbody tr th:only-of-type {\n",
       "        vertical-align: middle;\n",
       "    }\n",
       "\n",
       "    .dataframe tbody tr th {\n",
       "        vertical-align: top;\n",
       "    }\n",
       "\n",
       "    .dataframe thead th {\n",
       "        text-align: right;\n",
       "    }\n",
       "</style>\n",
       "<table border=\"1\" class=\"dataframe\">\n",
       "  <thead>\n",
       "    <tr style=\"text-align: right;\">\n",
       "      <th></th>\n",
       "      <th>msno</th>\n",
       "      <th>is_churn</th>\n",
       "    </tr>\n",
       "  </thead>\n",
       "  <tbody>\n",
       "    <tr>\n",
       "      <th>15637</th>\n",
       "      <td>n+vAXxhh32ejDnRzkJviGAln/NnNtY6eTxvpbn/Qjms=</td>\n",
       "      <td>0</td>\n",
       "    </tr>\n",
       "    <tr>\n",
       "      <th>8690</th>\n",
       "      <td>yQ9JlojFKPRNoqVwn+BW3HxtyKwSBId2IZKEXQMDXZc=</td>\n",
       "      <td>0</td>\n",
       "    </tr>\n",
       "    <tr>\n",
       "      <th>4353</th>\n",
       "      <td>AeoeT3B2aA+mu4w8+3n3v0uhnw1e5s9ozq0otxXQiPg=</td>\n",
       "      <td>0</td>\n",
       "    </tr>\n",
       "    <tr>\n",
       "      <th>15946</th>\n",
       "      <td>jA8Zscba2vzt/dj4RLb7kBHpJ+mcpG8icYIYKJZ3fmE=</td>\n",
       "      <td>0</td>\n",
       "    </tr>\n",
       "    <tr>\n",
       "      <th>5440</th>\n",
       "      <td>dGVh2tyYfm+7yLlLUxJH5EX7PJq7Ux1Tb966uPNqQIU=</td>\n",
       "      <td>1</td>\n",
       "    </tr>\n",
       "    <tr>\n",
       "      <th>16653</th>\n",
       "      <td>Qgzvof7FGkvV5ZsKICB+elPls43lQqzpqcFy5F3apqg=</td>\n",
       "      <td>0</td>\n",
       "    </tr>\n",
       "    <tr>\n",
       "      <th>10407</th>\n",
       "      <td>ip4e/ZqAIBpbSckgNEUtXEBDH9mcfbr4SfAbvciqpk0=</td>\n",
       "      <td>0</td>\n",
       "    </tr>\n",
       "    <tr>\n",
       "      <th>580</th>\n",
       "      <td>vg+QL04sOCSObeXU69EJiHO2NImLRK67ahyuBpVzFeA=</td>\n",
       "      <td>0</td>\n",
       "    </tr>\n",
       "    <tr>\n",
       "      <th>15129</th>\n",
       "      <td>lvEKtUexkUh5MeEu5c1hpuIsZfFen8Td3dScEKmowJw=</td>\n",
       "      <td>0</td>\n",
       "    </tr>\n",
       "    <tr>\n",
       "      <th>5871</th>\n",
       "      <td>f6JRIzIrVVKB0aaHLVt6G5ME8AFXw6ry7E0odAoclwk=</td>\n",
       "      <td>0</td>\n",
       "    </tr>\n",
       "  </tbody>\n",
       "</table>\n",
       "</div>"
      ],
      "text/plain": [
       "                                               msno  is_churn\n",
       "15637  n+vAXxhh32ejDnRzkJviGAln/NnNtY6eTxvpbn/Qjms=         0\n",
       "8690   yQ9JlojFKPRNoqVwn+BW3HxtyKwSBId2IZKEXQMDXZc=         0\n",
       "4353   AeoeT3B2aA+mu4w8+3n3v0uhnw1e5s9ozq0otxXQiPg=         0\n",
       "15946  jA8Zscba2vzt/dj4RLb7kBHpJ+mcpG8icYIYKJZ3fmE=         0\n",
       "5440   dGVh2tyYfm+7yLlLUxJH5EX7PJq7Ux1Tb966uPNqQIU=         1\n",
       "16653  Qgzvof7FGkvV5ZsKICB+elPls43lQqzpqcFy5F3apqg=         0\n",
       "10407  ip4e/ZqAIBpbSckgNEUtXEBDH9mcfbr4SfAbvciqpk0=         0\n",
       "580    vg+QL04sOCSObeXU69EJiHO2NImLRK67ahyuBpVzFeA=         0\n",
       "15129  lvEKtUexkUh5MeEu5c1hpuIsZfFen8Td3dScEKmowJw=         0\n",
       "5871   f6JRIzIrVVKB0aaHLVt6G5ME8AFXw6ry7E0odAoclwk=         0"
      ]
     },
     "execution_count": 3,
     "metadata": {},
     "output_type": "execute_result"
    }
   ],
   "source": [
    "churn_df.sample(10)"
   ]
  },
  {
   "cell_type": "code",
   "execution_count": 4,
   "metadata": {},
   "outputs": [
    {
     "data": {
      "text/plain": [
       "(20000, 2)"
      ]
     },
     "execution_count": 4,
     "metadata": {},
     "output_type": "execute_result"
    }
   ],
   "source": [
    "churn_df.shape"
   ]
  },
  {
   "cell_type": "code",
   "execution_count": 5,
   "metadata": {},
   "outputs": [
    {
     "data": {
      "text/html": [
       "<div>\n",
       "<style scoped>\n",
       "    .dataframe tbody tr th:only-of-type {\n",
       "        vertical-align: middle;\n",
       "    }\n",
       "\n",
       "    .dataframe tbody tr th {\n",
       "        vertical-align: top;\n",
       "    }\n",
       "\n",
       "    .dataframe thead th {\n",
       "        text-align: right;\n",
       "    }\n",
       "</style>\n",
       "<table border=\"1\" class=\"dataframe\">\n",
       "  <thead>\n",
       "    <tr style=\"text-align: right;\">\n",
       "      <th></th>\n",
       "      <th>msno</th>\n",
       "      <th>city</th>\n",
       "      <th>bd</th>\n",
       "      <th>gender</th>\n",
       "      <th>registered_via</th>\n",
       "      <th>registration_init_time</th>\n",
       "    </tr>\n",
       "  </thead>\n",
       "  <tbody>\n",
       "    <tr>\n",
       "      <th>6914</th>\n",
       "      <td>OIZfuyvsz+YzkI24sMqBM1tOCC7aLEL5pCQJagZ8YBA=</td>\n",
       "      <td>6</td>\n",
       "      <td>34</td>\n",
       "      <td>female</td>\n",
       "      <td>3</td>\n",
       "      <td>20141128</td>\n",
       "    </tr>\n",
       "    <tr>\n",
       "      <th>4558</th>\n",
       "      <td>gJqHatTYZCqARtAXinEm2ei3X1KTtlF9DjPAVXJPnTc=</td>\n",
       "      <td>9</td>\n",
       "      <td>32</td>\n",
       "      <td>male</td>\n",
       "      <td>7</td>\n",
       "      <td>20100620</td>\n",
       "    </tr>\n",
       "    <tr>\n",
       "      <th>5389</th>\n",
       "      <td>4+WbKpOeXYQzhuJYRqfSCC5C0IsRJ1EI5roNyGSCbPM=</td>\n",
       "      <td>1</td>\n",
       "      <td>0</td>\n",
       "      <td>NaN</td>\n",
       "      <td>7</td>\n",
       "      <td>20170228</td>\n",
       "    </tr>\n",
       "    <tr>\n",
       "      <th>16269</th>\n",
       "      <td>YbDd9donFGGfJ5z/oUXtVOM36MG6BF0Us6cInT30D80=</td>\n",
       "      <td>13</td>\n",
       "      <td>24</td>\n",
       "      <td>female</td>\n",
       "      <td>3</td>\n",
       "      <td>20140623</td>\n",
       "    </tr>\n",
       "    <tr>\n",
       "      <th>10349</th>\n",
       "      <td>+DfGrv4JmepHNCKYhRHRGNgZeD92ObcrBmWrbBjj7zw=</td>\n",
       "      <td>13</td>\n",
       "      <td>22</td>\n",
       "      <td>male</td>\n",
       "      <td>9</td>\n",
       "      <td>20070516</td>\n",
       "    </tr>\n",
       "    <tr>\n",
       "      <th>9970</th>\n",
       "      <td>1YI+HPeWmn9zl8jCaxQupW++PuA9fC1tgZ45Q8DE8ks=</td>\n",
       "      <td>1</td>\n",
       "      <td>0</td>\n",
       "      <td>NaN</td>\n",
       "      <td>7</td>\n",
       "      <td>20130909</td>\n",
       "    </tr>\n",
       "    <tr>\n",
       "      <th>11737</th>\n",
       "      <td>8v1z5yqFRhkHY/JLklHnHix/4q6kyQ0sEx0yuB7To9c=</td>\n",
       "      <td>4</td>\n",
       "      <td>21</td>\n",
       "      <td>male</td>\n",
       "      <td>3</td>\n",
       "      <td>20120530</td>\n",
       "    </tr>\n",
       "    <tr>\n",
       "      <th>1564</th>\n",
       "      <td>NXCLN3YLYJEs4OX0h40gp3hjbWR4oOm5JERxHZ3Uf+8=</td>\n",
       "      <td>1</td>\n",
       "      <td>0</td>\n",
       "      <td>NaN</td>\n",
       "      <td>7</td>\n",
       "      <td>20110520</td>\n",
       "    </tr>\n",
       "    <tr>\n",
       "      <th>16651</th>\n",
       "      <td>2tCu+zc6YkQa0Io6szO2ABvB3/IxOH/KZMbVnqeiDfI=</td>\n",
       "      <td>1</td>\n",
       "      <td>0</td>\n",
       "      <td>NaN</td>\n",
       "      <td>7</td>\n",
       "      <td>20131118</td>\n",
       "    </tr>\n",
       "    <tr>\n",
       "      <th>16403</th>\n",
       "      <td>pNqCZnuwM9F+jGi1dYF6C/tUzoOK9WRIrmvKV8r06XY=</td>\n",
       "      <td>1</td>\n",
       "      <td>0</td>\n",
       "      <td>NaN</td>\n",
       "      <td>7</td>\n",
       "      <td>20151027</td>\n",
       "    </tr>\n",
       "  </tbody>\n",
       "</table>\n",
       "</div>"
      ],
      "text/plain": [
       "                                               msno  city  bd  gender  \\\n",
       "6914   OIZfuyvsz+YzkI24sMqBM1tOCC7aLEL5pCQJagZ8YBA=     6  34  female   \n",
       "4558   gJqHatTYZCqARtAXinEm2ei3X1KTtlF9DjPAVXJPnTc=     9  32    male   \n",
       "5389   4+WbKpOeXYQzhuJYRqfSCC5C0IsRJ1EI5roNyGSCbPM=     1   0     NaN   \n",
       "16269  YbDd9donFGGfJ5z/oUXtVOM36MG6BF0Us6cInT30D80=    13  24  female   \n",
       "10349  +DfGrv4JmepHNCKYhRHRGNgZeD92ObcrBmWrbBjj7zw=    13  22    male   \n",
       "9970   1YI+HPeWmn9zl8jCaxQupW++PuA9fC1tgZ45Q8DE8ks=     1   0     NaN   \n",
       "11737  8v1z5yqFRhkHY/JLklHnHix/4q6kyQ0sEx0yuB7To9c=     4  21    male   \n",
       "1564   NXCLN3YLYJEs4OX0h40gp3hjbWR4oOm5JERxHZ3Uf+8=     1   0     NaN   \n",
       "16651  2tCu+zc6YkQa0Io6szO2ABvB3/IxOH/KZMbVnqeiDfI=     1   0     NaN   \n",
       "16403  pNqCZnuwM9F+jGi1dYF6C/tUzoOK9WRIrmvKV8r06XY=     1   0     NaN   \n",
       "\n",
       "       registered_via  registration_init_time  \n",
       "6914                3                20141128  \n",
       "4558                7                20100620  \n",
       "5389                7                20170228  \n",
       "16269               3                20140623  \n",
       "10349               9                20070516  \n",
       "9970                7                20130909  \n",
       "11737               3                20120530  \n",
       "1564                7                20110520  \n",
       "16651               7                20131118  \n",
       "16403               7                20151027  "
      ]
     },
     "execution_count": 5,
     "metadata": {},
     "output_type": "execute_result"
    }
   ],
   "source": [
    "members_df.sample(10)"
   ]
  },
  {
   "cell_type": "code",
   "execution_count": 6,
   "metadata": {},
   "outputs": [
    {
     "data": {
      "text/plain": [
       "(17660, 6)"
      ]
     },
     "execution_count": 6,
     "metadata": {},
     "output_type": "execute_result"
    }
   ],
   "source": [
    "members_df.shape"
   ]
  },
  {
   "cell_type": "code",
   "execution_count": 7,
   "metadata": {},
   "outputs": [
    {
     "data": {
      "text/html": [
       "<div>\n",
       "<style scoped>\n",
       "    .dataframe tbody tr th:only-of-type {\n",
       "        vertical-align: middle;\n",
       "    }\n",
       "\n",
       "    .dataframe tbody tr th {\n",
       "        vertical-align: top;\n",
       "    }\n",
       "\n",
       "    .dataframe thead th {\n",
       "        text-align: right;\n",
       "    }\n",
       "</style>\n",
       "<table border=\"1\" class=\"dataframe\">\n",
       "  <thead>\n",
       "    <tr style=\"text-align: right;\">\n",
       "      <th></th>\n",
       "      <th>msno</th>\n",
       "      <th>payment_method_id</th>\n",
       "      <th>payment_plan_days</th>\n",
       "      <th>plan_list_price</th>\n",
       "      <th>actual_amount_paid</th>\n",
       "      <th>is_auto_renew</th>\n",
       "      <th>transaction_date</th>\n",
       "      <th>membership_expire_date</th>\n",
       "      <th>is_cancel</th>\n",
       "    </tr>\n",
       "  </thead>\n",
       "  <tbody>\n",
       "    <tr>\n",
       "      <th>1640</th>\n",
       "      <td>NMuDEwn4o96fhrkX6OCeOzzInfsKeR96UzOvSBEqprI=</td>\n",
       "      <td>37</td>\n",
       "      <td>30</td>\n",
       "      <td>149</td>\n",
       "      <td>149</td>\n",
       "      <td>1</td>\n",
       "      <td>20170321</td>\n",
       "      <td>20170427</td>\n",
       "      <td>0</td>\n",
       "    </tr>\n",
       "    <tr>\n",
       "      <th>112</th>\n",
       "      <td>16mlNT+cNH09213wo8lzcV9G+GNNHe6eJv8eAT4sO8o=</td>\n",
       "      <td>41</td>\n",
       "      <td>30</td>\n",
       "      <td>129</td>\n",
       "      <td>129</td>\n",
       "      <td>1</td>\n",
       "      <td>20170309</td>\n",
       "      <td>20170409</td>\n",
       "      <td>0</td>\n",
       "    </tr>\n",
       "    <tr>\n",
       "      <th>7179</th>\n",
       "      <td>OXMzmOyTrZ+6STG69CB9n4q4V1xINZphRrFRpoFVRno=</td>\n",
       "      <td>41</td>\n",
       "      <td>30</td>\n",
       "      <td>100</td>\n",
       "      <td>100</td>\n",
       "      <td>1</td>\n",
       "      <td>20170325</td>\n",
       "      <td>20170425</td>\n",
       "      <td>0</td>\n",
       "    </tr>\n",
       "    <tr>\n",
       "      <th>10604</th>\n",
       "      <td>smLDNJXQZGFmHmty3E31f8/eeCpE4pjkhxdFaJIeLN8=</td>\n",
       "      <td>41</td>\n",
       "      <td>30</td>\n",
       "      <td>149</td>\n",
       "      <td>149</td>\n",
       "      <td>1</td>\n",
       "      <td>20170318</td>\n",
       "      <td>20170418</td>\n",
       "      <td>0</td>\n",
       "    </tr>\n",
       "    <tr>\n",
       "      <th>2249</th>\n",
       "      <td>YHQpRfrj6fW7Bk6KRrFrkOH4blTlAdMX6b9JuD+3Ld4=</td>\n",
       "      <td>40</td>\n",
       "      <td>30</td>\n",
       "      <td>149</td>\n",
       "      <td>149</td>\n",
       "      <td>1</td>\n",
       "      <td>20170303</td>\n",
       "      <td>20170410</td>\n",
       "      <td>0</td>\n",
       "    </tr>\n",
       "    <tr>\n",
       "      <th>2007</th>\n",
       "      <td>O3rNjTDHCgI53nG8fMgFpR942Jitd8ziqFtxCJtNrck=</td>\n",
       "      <td>41</td>\n",
       "      <td>30</td>\n",
       "      <td>129</td>\n",
       "      <td>129</td>\n",
       "      <td>1</td>\n",
       "      <td>20170331</td>\n",
       "      <td>20170430</td>\n",
       "      <td>0</td>\n",
       "    </tr>\n",
       "    <tr>\n",
       "      <th>20856</th>\n",
       "      <td>MCxGQjX0V2+7yLfcmo9U/afjjGkIccwPceyqZMwCJ5I=</td>\n",
       "      <td>37</td>\n",
       "      <td>30</td>\n",
       "      <td>149</td>\n",
       "      <td>149</td>\n",
       "      <td>1</td>\n",
       "      <td>20170323</td>\n",
       "      <td>20170430</td>\n",
       "      <td>0</td>\n",
       "    </tr>\n",
       "    <tr>\n",
       "      <th>16431</th>\n",
       "      <td>GEGxAEVXA6WZM9LlUgaoa88pocPgALzlDf95/UIrNPI=</td>\n",
       "      <td>41</td>\n",
       "      <td>30</td>\n",
       "      <td>149</td>\n",
       "      <td>149</td>\n",
       "      <td>1</td>\n",
       "      <td>20170310</td>\n",
       "      <td>20170410</td>\n",
       "      <td>0</td>\n",
       "    </tr>\n",
       "    <tr>\n",
       "      <th>6539</th>\n",
       "      <td>r24gG6LkD75hZImFcaWvyptaEYu7VOhMsQ29ZYrGIZY=</td>\n",
       "      <td>41</td>\n",
       "      <td>30</td>\n",
       "      <td>99</td>\n",
       "      <td>99</td>\n",
       "      <td>1</td>\n",
       "      <td>20170317</td>\n",
       "      <td>20170417</td>\n",
       "      <td>0</td>\n",
       "    </tr>\n",
       "    <tr>\n",
       "      <th>18658</th>\n",
       "      <td>2sqn6KXOGWOVWqb6Ht+TO81zL8PxMrhXblS2p47nNgM=</td>\n",
       "      <td>41</td>\n",
       "      <td>30</td>\n",
       "      <td>99</td>\n",
       "      <td>99</td>\n",
       "      <td>1</td>\n",
       "      <td>20170304</td>\n",
       "      <td>20170404</td>\n",
       "      <td>0</td>\n",
       "    </tr>\n",
       "  </tbody>\n",
       "</table>\n",
       "</div>"
      ],
      "text/plain": [
       "                                               msno  payment_method_id  \\\n",
       "1640   NMuDEwn4o96fhrkX6OCeOzzInfsKeR96UzOvSBEqprI=                 37   \n",
       "112    16mlNT+cNH09213wo8lzcV9G+GNNHe6eJv8eAT4sO8o=                 41   \n",
       "7179   OXMzmOyTrZ+6STG69CB9n4q4V1xINZphRrFRpoFVRno=                 41   \n",
       "10604  smLDNJXQZGFmHmty3E31f8/eeCpE4pjkhxdFaJIeLN8=                 41   \n",
       "2249   YHQpRfrj6fW7Bk6KRrFrkOH4blTlAdMX6b9JuD+3Ld4=                 40   \n",
       "2007   O3rNjTDHCgI53nG8fMgFpR942Jitd8ziqFtxCJtNrck=                 41   \n",
       "20856  MCxGQjX0V2+7yLfcmo9U/afjjGkIccwPceyqZMwCJ5I=                 37   \n",
       "16431  GEGxAEVXA6WZM9LlUgaoa88pocPgALzlDf95/UIrNPI=                 41   \n",
       "6539   r24gG6LkD75hZImFcaWvyptaEYu7VOhMsQ29ZYrGIZY=                 41   \n",
       "18658  2sqn6KXOGWOVWqb6Ht+TO81zL8PxMrhXblS2p47nNgM=                 41   \n",
       "\n",
       "       payment_plan_days  plan_list_price  actual_amount_paid  is_auto_renew  \\\n",
       "1640                  30              149                 149              1   \n",
       "112                   30              129                 129              1   \n",
       "7179                  30              100                 100              1   \n",
       "10604                 30              149                 149              1   \n",
       "2249                  30              149                 149              1   \n",
       "2007                  30              129                 129              1   \n",
       "20856                 30              149                 149              1   \n",
       "16431                 30              149                 149              1   \n",
       "6539                  30               99                  99              1   \n",
       "18658                 30               99                  99              1   \n",
       "\n",
       "       transaction_date  membership_expire_date  is_cancel  \n",
       "1640           20170321                20170427          0  \n",
       "112            20170309                20170409          0  \n",
       "7179           20170325                20170425          0  \n",
       "10604          20170318                20170418          0  \n",
       "2249           20170303                20170410          0  \n",
       "2007           20170331                20170430          0  \n",
       "20856          20170323                20170430          0  \n",
       "16431          20170310                20170410          0  \n",
       "6539           20170317                20170417          0  \n",
       "18658          20170304                20170404          0  "
      ]
     },
     "execution_count": 7,
     "metadata": {},
     "output_type": "execute_result"
    }
   ],
   "source": [
    "transact_df.sample(10)"
   ]
  },
  {
   "cell_type": "code",
   "execution_count": 8,
   "metadata": {},
   "outputs": [
    {
     "data": {
      "text/plain": [
       "(23588, 9)"
      ]
     },
     "execution_count": 8,
     "metadata": {},
     "output_type": "execute_result"
    }
   ],
   "source": [
    "transact_df.shape"
   ]
  },
  {
   "cell_type": "code",
   "execution_count": 9,
   "metadata": {},
   "outputs": [
    {
     "data": {
      "text/html": [
       "<div>\n",
       "<style scoped>\n",
       "    .dataframe tbody tr th:only-of-type {\n",
       "        vertical-align: middle;\n",
       "    }\n",
       "\n",
       "    .dataframe tbody tr th {\n",
       "        vertical-align: top;\n",
       "    }\n",
       "\n",
       "    .dataframe thead th {\n",
       "        text-align: right;\n",
       "    }\n",
       "</style>\n",
       "<table border=\"1\" class=\"dataframe\">\n",
       "  <thead>\n",
       "    <tr style=\"text-align: right;\">\n",
       "      <th></th>\n",
       "      <th>msno</th>\n",
       "      <th>date</th>\n",
       "      <th>num_25</th>\n",
       "      <th>num_50</th>\n",
       "      <th>num_75</th>\n",
       "      <th>num_985</th>\n",
       "      <th>num_100</th>\n",
       "      <th>num_unq</th>\n",
       "      <th>total_secs</th>\n",
       "    </tr>\n",
       "  </thead>\n",
       "  <tbody>\n",
       "    <tr>\n",
       "      <th>195640</th>\n",
       "      <td>GPf1aG5b7F9bcBRRYLYROM9BV3juKcIOMyHZBZnXnPE=</td>\n",
       "      <td>20170307</td>\n",
       "      <td>1</td>\n",
       "      <td>0</td>\n",
       "      <td>1</td>\n",
       "      <td>0</td>\n",
       "      <td>4</td>\n",
       "      <td>4</td>\n",
       "      <td>1002.578</td>\n",
       "    </tr>\n",
       "    <tr>\n",
       "      <th>219577</th>\n",
       "      <td>n5kxrgD0bQsXZi5fpH/bpbqh29XQIu4gyJqhvqI4HJA=</td>\n",
       "      <td>20170310</td>\n",
       "      <td>7</td>\n",
       "      <td>4</td>\n",
       "      <td>2</td>\n",
       "      <td>2</td>\n",
       "      <td>23</td>\n",
       "      <td>34</td>\n",
       "      <td>6561.526</td>\n",
       "    </tr>\n",
       "    <tr>\n",
       "      <th>253870</th>\n",
       "      <td>KO8cmdgvl7VkiuUseWgjs1qhdKBkwWUTugejX2MAKAM=</td>\n",
       "      <td>20170308</td>\n",
       "      <td>3</td>\n",
       "      <td>1</td>\n",
       "      <td>0</td>\n",
       "      <td>0</td>\n",
       "      <td>20</td>\n",
       "      <td>17</td>\n",
       "      <td>4801.576</td>\n",
       "    </tr>\n",
       "    <tr>\n",
       "      <th>31665</th>\n",
       "      <td>P3fhGf20o7wg7hDAMaNyCFCCdH9Hn56Qj5NK8UKwleU=</td>\n",
       "      <td>20170331</td>\n",
       "      <td>2</td>\n",
       "      <td>0</td>\n",
       "      <td>0</td>\n",
       "      <td>0</td>\n",
       "      <td>12</td>\n",
       "      <td>7</td>\n",
       "      <td>3927.971</td>\n",
       "    </tr>\n",
       "    <tr>\n",
       "      <th>245670</th>\n",
       "      <td>pNDrdgB40z1/Pv1CDfy09lN4kuVoa8QMIC7epwXPNls=</td>\n",
       "      <td>20170308</td>\n",
       "      <td>7</td>\n",
       "      <td>0</td>\n",
       "      <td>0</td>\n",
       "      <td>1</td>\n",
       "      <td>9</td>\n",
       "      <td>9</td>\n",
       "      <td>2354.597</td>\n",
       "    </tr>\n",
       "    <tr>\n",
       "      <th>39595</th>\n",
       "      <td>FeDhQlvcpr7HcuUR9SaDimfBb+XOuWbcIOw14DxiPVY=</td>\n",
       "      <td>20170308</td>\n",
       "      <td>3</td>\n",
       "      <td>1</td>\n",
       "      <td>1</td>\n",
       "      <td>0</td>\n",
       "      <td>1</td>\n",
       "      <td>5</td>\n",
       "      <td>538.355</td>\n",
       "    </tr>\n",
       "    <tr>\n",
       "      <th>188733</th>\n",
       "      <td>O/PuKLgNdJ2xIkz++oFumRpallfxqh95tMHRWno9CS0=</td>\n",
       "      <td>20170301</td>\n",
       "      <td>12</td>\n",
       "      <td>3</td>\n",
       "      <td>3</td>\n",
       "      <td>3</td>\n",
       "      <td>64</td>\n",
       "      <td>71</td>\n",
       "      <td>17367.391</td>\n",
       "    </tr>\n",
       "    <tr>\n",
       "      <th>206304</th>\n",
       "      <td>nycv/Od+h9gMlf9WnruXQ8Hg8rcprJZGe8qGcgI8Tms=</td>\n",
       "      <td>20170308</td>\n",
       "      <td>3</td>\n",
       "      <td>1</td>\n",
       "      <td>0</td>\n",
       "      <td>1</td>\n",
       "      <td>97</td>\n",
       "      <td>32</td>\n",
       "      <td>25845.324</td>\n",
       "    </tr>\n",
       "    <tr>\n",
       "      <th>174868</th>\n",
       "      <td>j9R8r9ETzmYfKQUEbt1f/OQb048teXsWSzLB2J39LhI=</td>\n",
       "      <td>20170313</td>\n",
       "      <td>0</td>\n",
       "      <td>0</td>\n",
       "      <td>0</td>\n",
       "      <td>0</td>\n",
       "      <td>14</td>\n",
       "      <td>14</td>\n",
       "      <td>3359.790</td>\n",
       "    </tr>\n",
       "    <tr>\n",
       "      <th>49088</th>\n",
       "      <td>+TFy16iewlC5bG98o3PU94UjAjH1tNWeUZ4pSsdLQD0=</td>\n",
       "      <td>20170323</td>\n",
       "      <td>6</td>\n",
       "      <td>4</td>\n",
       "      <td>1</td>\n",
       "      <td>0</td>\n",
       "      <td>18</td>\n",
       "      <td>25</td>\n",
       "      <td>4826.726</td>\n",
       "    </tr>\n",
       "  </tbody>\n",
       "</table>\n",
       "</div>"
      ],
      "text/plain": [
       "                                                msno      date  num_25  \\\n",
       "195640  GPf1aG5b7F9bcBRRYLYROM9BV3juKcIOMyHZBZnXnPE=  20170307       1   \n",
       "219577  n5kxrgD0bQsXZi5fpH/bpbqh29XQIu4gyJqhvqI4HJA=  20170310       7   \n",
       "253870  KO8cmdgvl7VkiuUseWgjs1qhdKBkwWUTugejX2MAKAM=  20170308       3   \n",
       "31665   P3fhGf20o7wg7hDAMaNyCFCCdH9Hn56Qj5NK8UKwleU=  20170331       2   \n",
       "245670  pNDrdgB40z1/Pv1CDfy09lN4kuVoa8QMIC7epwXPNls=  20170308       7   \n",
       "39595   FeDhQlvcpr7HcuUR9SaDimfBb+XOuWbcIOw14DxiPVY=  20170308       3   \n",
       "188733  O/PuKLgNdJ2xIkz++oFumRpallfxqh95tMHRWno9CS0=  20170301      12   \n",
       "206304  nycv/Od+h9gMlf9WnruXQ8Hg8rcprJZGe8qGcgI8Tms=  20170308       3   \n",
       "174868  j9R8r9ETzmYfKQUEbt1f/OQb048teXsWSzLB2J39LhI=  20170313       0   \n",
       "49088   +TFy16iewlC5bG98o3PU94UjAjH1tNWeUZ4pSsdLQD0=  20170323       6   \n",
       "\n",
       "        num_50  num_75  num_985  num_100  num_unq  total_secs  \n",
       "195640       0       1        0        4        4    1002.578  \n",
       "219577       4       2        2       23       34    6561.526  \n",
       "253870       1       0        0       20       17    4801.576  \n",
       "31665        0       0        0       12        7    3927.971  \n",
       "245670       0       0        1        9        9    2354.597  \n",
       "39595        1       1        0        1        5     538.355  \n",
       "188733       3       3        3       64       71   17367.391  \n",
       "206304       1       0        1       97       32   25845.324  \n",
       "174868       0       0        0       14       14    3359.790  \n",
       "49088        4       1        0       18       25    4826.726  "
      ]
     },
     "execution_count": 9,
     "metadata": {},
     "output_type": "execute_result"
    }
   ],
   "source": [
    "users_df.sample(10)"
   ]
  },
  {
   "cell_type": "code",
   "execution_count": 10,
   "metadata": {},
   "outputs": [
    {
     "data": {
      "text/plain": [
       "(277101, 9)"
      ]
     },
     "execution_count": 10,
     "metadata": {},
     "output_type": "execute_result"
    }
   ],
   "source": [
    "users_df.shape"
   ]
  },
  {
   "cell_type": "code",
   "execution_count": 11,
   "metadata": {},
   "outputs": [
    {
     "data": {
      "text/plain": [
       "15457"
      ]
     },
     "execution_count": 11,
     "metadata": {},
     "output_type": "execute_result"
    }
   ],
   "source": [
    "len(users_df['msno'].unique())"
   ]
  },
  {
   "cell_type": "code",
   "execution_count": 12,
   "metadata": {},
   "outputs": [
    {
     "data": {
      "text/plain": [
       "338349"
      ]
     },
     "execution_count": 12,
     "metadata": {},
     "output_type": "execute_result"
    }
   ],
   "source": [
    "users_df.shape[0] + transact_df.shape[0] + members_df.shape[0] + churn_df.shape[0]"
   ]
  },
  {
   "cell_type": "markdown",
   "metadata": {},
   "source": [
    "## Data Processessing\n",
    "\n",
    "We notice that several of the dataframes have a column that is likely to be a timestamp. From the dictionary, we are told  they are supplied in the YYYY/MM/DD format. The following code chunk will convert them into date time stamps."
   ]
  },
  {
   "cell_type": "code",
   "execution_count": 13,
   "metadata": {},
   "outputs": [],
   "source": [
    "col_list = [(members_df,'registration_init_time'), (transact_df,'transaction_date'),\n",
    "            (transact_df,'membership_expire_date'),(users_df,'date')]\n",
    "\n",
    "for df, col in col_list:\n",
    "    df[col] = pd.to_datetime(df[col],format='%Y%m%d')"
   ]
  },
  {
   "cell_type": "code",
   "execution_count": 14,
   "metadata": {},
   "outputs": [
    {
     "data": {
      "text/html": [
       "<div>\n",
       "<style scoped>\n",
       "    .dataframe tbody tr th:only-of-type {\n",
       "        vertical-align: middle;\n",
       "    }\n",
       "\n",
       "    .dataframe tbody tr th {\n",
       "        vertical-align: top;\n",
       "    }\n",
       "\n",
       "    .dataframe thead th {\n",
       "        text-align: right;\n",
       "    }\n",
       "</style>\n",
       "<table border=\"1\" class=\"dataframe\">\n",
       "  <thead>\n",
       "    <tr style=\"text-align: right;\">\n",
       "      <th></th>\n",
       "      <th>msno</th>\n",
       "      <th>date</th>\n",
       "      <th>num_25</th>\n",
       "      <th>num_50</th>\n",
       "      <th>num_75</th>\n",
       "      <th>num_985</th>\n",
       "      <th>num_100</th>\n",
       "      <th>num_unq</th>\n",
       "      <th>total_secs</th>\n",
       "    </tr>\n",
       "  </thead>\n",
       "  <tbody>\n",
       "    <tr>\n",
       "      <th>194120</th>\n",
       "      <td>E+rdFgoNMkeJKrCsHbb9ewZG3diitIPFlvXn6A6PY78=</td>\n",
       "      <td>2017-03-30</td>\n",
       "      <td>1</td>\n",
       "      <td>5</td>\n",
       "      <td>10</td>\n",
       "      <td>0</td>\n",
       "      <td>0</td>\n",
       "      <td>16</td>\n",
       "      <td>2264.452</td>\n",
       "    </tr>\n",
       "    <tr>\n",
       "      <th>217443</th>\n",
       "      <td>nxaBspl+lcEgrbcMEDfvrV33h6oGGqgXRcjpSzVigX0=</td>\n",
       "      <td>2017-03-18</td>\n",
       "      <td>8</td>\n",
       "      <td>0</td>\n",
       "      <td>0</td>\n",
       "      <td>0</td>\n",
       "      <td>13</td>\n",
       "      <td>21</td>\n",
       "      <td>3227.603</td>\n",
       "    </tr>\n",
       "    <tr>\n",
       "      <th>76299</th>\n",
       "      <td>Wi7G80sluFy4MzYY2VGqy6VA5H1unoXMZ7e/mLmM4TY=</td>\n",
       "      <td>2017-03-29</td>\n",
       "      <td>0</td>\n",
       "      <td>0</td>\n",
       "      <td>3</td>\n",
       "      <td>0</td>\n",
       "      <td>2</td>\n",
       "      <td>5</td>\n",
       "      <td>957.856</td>\n",
       "    </tr>\n",
       "    <tr>\n",
       "      <th>125819</th>\n",
       "      <td>aGuX2yFv9erXtpvBNuYwjBEJy79gmChzjcTgrij2WDk=</td>\n",
       "      <td>2017-03-15</td>\n",
       "      <td>0</td>\n",
       "      <td>0</td>\n",
       "      <td>0</td>\n",
       "      <td>0</td>\n",
       "      <td>5</td>\n",
       "      <td>5</td>\n",
       "      <td>1252.938</td>\n",
       "    </tr>\n",
       "    <tr>\n",
       "      <th>196984</th>\n",
       "      <td>/fNTEF3bXCEvKHbpBOXbA5uTs581kPQp+ktwxAXmchY=</td>\n",
       "      <td>2017-03-09</td>\n",
       "      <td>5</td>\n",
       "      <td>0</td>\n",
       "      <td>0</td>\n",
       "      <td>0</td>\n",
       "      <td>5</td>\n",
       "      <td>9</td>\n",
       "      <td>1477.113</td>\n",
       "    </tr>\n",
       "    <tr>\n",
       "      <th>258953</th>\n",
       "      <td>fk5GycBV4PmNvRHlRtpfVam4UkbsrEEvp5hgBDKpERU=</td>\n",
       "      <td>2017-03-05</td>\n",
       "      <td>7</td>\n",
       "      <td>4</td>\n",
       "      <td>0</td>\n",
       "      <td>0</td>\n",
       "      <td>20</td>\n",
       "      <td>21</td>\n",
       "      <td>5112.621</td>\n",
       "    </tr>\n",
       "    <tr>\n",
       "      <th>247612</th>\n",
       "      <td>kTCGR98+7FoAmFtYsEnxvxA+rUDw/ur7Jy5u9I/wLMw=</td>\n",
       "      <td>2017-03-17</td>\n",
       "      <td>59</td>\n",
       "      <td>9</td>\n",
       "      <td>8</td>\n",
       "      <td>6</td>\n",
       "      <td>67</td>\n",
       "      <td>125</td>\n",
       "      <td>18982.126</td>\n",
       "    </tr>\n",
       "    <tr>\n",
       "      <th>92818</th>\n",
       "      <td>9+tMTyN+PIgG1kijGFo7l6Kb0Syl2/IXiCToB0gVOKg=</td>\n",
       "      <td>2017-03-08</td>\n",
       "      <td>20</td>\n",
       "      <td>6</td>\n",
       "      <td>4</td>\n",
       "      <td>1</td>\n",
       "      <td>44</td>\n",
       "      <td>25</td>\n",
       "      <td>10043.681</td>\n",
       "    </tr>\n",
       "    <tr>\n",
       "      <th>259845</th>\n",
       "      <td>mnJyNjI3gUUYqNI7FO1VAF6N+iJlgkRKEJ0mMOoxb0U=</td>\n",
       "      <td>2017-03-08</td>\n",
       "      <td>0</td>\n",
       "      <td>0</td>\n",
       "      <td>0</td>\n",
       "      <td>0</td>\n",
       "      <td>4</td>\n",
       "      <td>4</td>\n",
       "      <td>873.520</td>\n",
       "    </tr>\n",
       "    <tr>\n",
       "      <th>20739</th>\n",
       "      <td>cQBqsLBetSXsUXVNUJphNmejGk7J7Lh7soyJ6W6YepM=</td>\n",
       "      <td>2017-03-29</td>\n",
       "      <td>2</td>\n",
       "      <td>2</td>\n",
       "      <td>0</td>\n",
       "      <td>0</td>\n",
       "      <td>4</td>\n",
       "      <td>6</td>\n",
       "      <td>1108.058</td>\n",
       "    </tr>\n",
       "  </tbody>\n",
       "</table>\n",
       "</div>"
      ],
      "text/plain": [
       "                                                msno       date  num_25  \\\n",
       "194120  E+rdFgoNMkeJKrCsHbb9ewZG3diitIPFlvXn6A6PY78= 2017-03-30       1   \n",
       "217443  nxaBspl+lcEgrbcMEDfvrV33h6oGGqgXRcjpSzVigX0= 2017-03-18       8   \n",
       "76299   Wi7G80sluFy4MzYY2VGqy6VA5H1unoXMZ7e/mLmM4TY= 2017-03-29       0   \n",
       "125819  aGuX2yFv9erXtpvBNuYwjBEJy79gmChzjcTgrij2WDk= 2017-03-15       0   \n",
       "196984  /fNTEF3bXCEvKHbpBOXbA5uTs581kPQp+ktwxAXmchY= 2017-03-09       5   \n",
       "258953  fk5GycBV4PmNvRHlRtpfVam4UkbsrEEvp5hgBDKpERU= 2017-03-05       7   \n",
       "247612  kTCGR98+7FoAmFtYsEnxvxA+rUDw/ur7Jy5u9I/wLMw= 2017-03-17      59   \n",
       "92818   9+tMTyN+PIgG1kijGFo7l6Kb0Syl2/IXiCToB0gVOKg= 2017-03-08      20   \n",
       "259845  mnJyNjI3gUUYqNI7FO1VAF6N+iJlgkRKEJ0mMOoxb0U= 2017-03-08       0   \n",
       "20739   cQBqsLBetSXsUXVNUJphNmejGk7J7Lh7soyJ6W6YepM= 2017-03-29       2   \n",
       "\n",
       "        num_50  num_75  num_985  num_100  num_unq  total_secs  \n",
       "194120       5      10        0        0       16    2264.452  \n",
       "217443       0       0        0       13       21    3227.603  \n",
       "76299        0       3        0        2        5     957.856  \n",
       "125819       0       0        0        5        5    1252.938  \n",
       "196984       0       0        0        5        9    1477.113  \n",
       "258953       4       0        0       20       21    5112.621  \n",
       "247612       9       8        6       67      125   18982.126  \n",
       "92818        6       4        1       44       25   10043.681  \n",
       "259845       0       0        0        4        4     873.520  \n",
       "20739        2       0        0        4        6    1108.058  "
      ]
     },
     "execution_count": 14,
     "metadata": {},
     "output_type": "execute_result"
    }
   ],
   "source": [
    "users_df.sample(10)"
   ]
  },
  {
   "cell_type": "markdown",
   "metadata": {},
   "source": [
    "## Merge Data"
   ]
  },
  {
   "cell_type": "markdown",
   "metadata": {},
   "source": [
    "* Merged both members and transact dataframe to yield customers.\n",
    "* Merged customers dataframe and churn to yield final df. \n",
    "* Open to explore users later on, if there's time."
   ]
  },
  {
   "cell_type": "code",
   "execution_count": 15,
   "metadata": {},
   "outputs": [],
   "source": [
    "customers = members_df.merge(transact_df, on=\"msno\", how = \"outer\")"
   ]
  },
  {
   "cell_type": "code",
   "execution_count": 16,
   "metadata": {},
   "outputs": [
    {
     "data": {
      "text/plain": [
       "41248"
      ]
     },
     "execution_count": 16,
     "metadata": {},
     "output_type": "execute_result"
    }
   ],
   "source": [
    "transact_df.shape[0] + members_df.shape[0]"
   ]
  },
  {
   "cell_type": "code",
   "execution_count": 17,
   "metadata": {},
   "outputs": [
    {
     "data": {
      "text/plain": [
       "(24334, 14)"
      ]
     },
     "execution_count": 17,
     "metadata": {},
     "output_type": "execute_result"
    }
   ],
   "source": [
    "customers.shape"
   ]
  },
  {
   "cell_type": "code",
   "execution_count": 18,
   "metadata": {},
   "outputs": [
    {
     "data": {
      "text/html": [
       "<div>\n",
       "<style scoped>\n",
       "    .dataframe tbody tr th:only-of-type {\n",
       "        vertical-align: middle;\n",
       "    }\n",
       "\n",
       "    .dataframe tbody tr th {\n",
       "        vertical-align: top;\n",
       "    }\n",
       "\n",
       "    .dataframe thead th {\n",
       "        text-align: right;\n",
       "    }\n",
       "</style>\n",
       "<table border=\"1\" class=\"dataframe\">\n",
       "  <thead>\n",
       "    <tr style=\"text-align: right;\">\n",
       "      <th></th>\n",
       "      <th>msno</th>\n",
       "      <th>city</th>\n",
       "      <th>bd</th>\n",
       "      <th>gender</th>\n",
       "      <th>registered_via</th>\n",
       "      <th>registration_init_time</th>\n",
       "      <th>payment_method_id</th>\n",
       "      <th>payment_plan_days</th>\n",
       "      <th>plan_list_price</th>\n",
       "      <th>actual_amount_paid</th>\n",
       "      <th>is_auto_renew</th>\n",
       "      <th>transaction_date</th>\n",
       "      <th>membership_expire_date</th>\n",
       "      <th>is_cancel</th>\n",
       "    </tr>\n",
       "  </thead>\n",
       "  <tbody>\n",
       "    <tr>\n",
       "      <th>16833</th>\n",
       "      <td>SsBQ5frVPzKsZNwPkUtYs7le/+9bEjy/A/Cluisf5qU=</td>\n",
       "      <td>1.0</td>\n",
       "      <td>0.0</td>\n",
       "      <td>NaN</td>\n",
       "      <td>7.0</td>\n",
       "      <td>2017-02-07</td>\n",
       "      <td>41.0</td>\n",
       "      <td>30.0</td>\n",
       "      <td>99.0</td>\n",
       "      <td>99.0</td>\n",
       "      <td>1.0</td>\n",
       "      <td>2017-03-06</td>\n",
       "      <td>2017-04-06</td>\n",
       "      <td>0.0</td>\n",
       "    </tr>\n",
       "    <tr>\n",
       "      <th>15226</th>\n",
       "      <td>x8GetECKxq6WwVg0tf0fCLz0xles5rsijokaoWDGDHk=</td>\n",
       "      <td>1.0</td>\n",
       "      <td>0.0</td>\n",
       "      <td>NaN</td>\n",
       "      <td>7.0</td>\n",
       "      <td>2016-06-09</td>\n",
       "      <td>41.0</td>\n",
       "      <td>30.0</td>\n",
       "      <td>99.0</td>\n",
       "      <td>99.0</td>\n",
       "      <td>1.0</td>\n",
       "      <td>2017-03-09</td>\n",
       "      <td>2017-04-09</td>\n",
       "      <td>0.0</td>\n",
       "    </tr>\n",
       "    <tr>\n",
       "      <th>570</th>\n",
       "      <td>x7+r04Nhwcc5Vh+871m8SHhEK910MdKibDb7FrPLLkM=</td>\n",
       "      <td>13.0</td>\n",
       "      <td>29.0</td>\n",
       "      <td>male</td>\n",
       "      <td>9.0</td>\n",
       "      <td>2006-06-23</td>\n",
       "      <td>37.0</td>\n",
       "      <td>30.0</td>\n",
       "      <td>149.0</td>\n",
       "      <td>149.0</td>\n",
       "      <td>1.0</td>\n",
       "      <td>2017-03-24</td>\n",
       "      <td>2017-04-23</td>\n",
       "      <td>0.0</td>\n",
       "    </tr>\n",
       "    <tr>\n",
       "      <th>14990</th>\n",
       "      <td>6sOfVN5gzas8AXh5pKRrp5ZLW2eccn0ytaXcYzVyP0c=</td>\n",
       "      <td>15.0</td>\n",
       "      <td>31.0</td>\n",
       "      <td>female</td>\n",
       "      <td>7.0</td>\n",
       "      <td>2012-11-06</td>\n",
       "      <td>41.0</td>\n",
       "      <td>30.0</td>\n",
       "      <td>149.0</td>\n",
       "      <td>149.0</td>\n",
       "      <td>1.0</td>\n",
       "      <td>2015-04-21</td>\n",
       "      <td>2018-05-20</td>\n",
       "      <td>0.0</td>\n",
       "    </tr>\n",
       "    <tr>\n",
       "      <th>6512</th>\n",
       "      <td>bUSzuouJ24XGhGrtBVXKesMCxx9vIkbocs1LVVfbuec=</td>\n",
       "      <td>1.0</td>\n",
       "      <td>0.0</td>\n",
       "      <td>NaN</td>\n",
       "      <td>7.0</td>\n",
       "      <td>2010-10-06</td>\n",
       "      <td>41.0</td>\n",
       "      <td>30.0</td>\n",
       "      <td>99.0</td>\n",
       "      <td>99.0</td>\n",
       "      <td>1.0</td>\n",
       "      <td>2017-03-08</td>\n",
       "      <td>2017-04-08</td>\n",
       "      <td>0.0</td>\n",
       "    </tr>\n",
       "    <tr>\n",
       "      <th>1342</th>\n",
       "      <td>6jDr4MkHnMcHkioLVB2GPLGJdkE8whAzkIAMYs90JaM=</td>\n",
       "      <td>5.0</td>\n",
       "      <td>21.0</td>\n",
       "      <td>female</td>\n",
       "      <td>3.0</td>\n",
       "      <td>2013-09-09</td>\n",
       "      <td>39.0</td>\n",
       "      <td>30.0</td>\n",
       "      <td>149.0</td>\n",
       "      <td>149.0</td>\n",
       "      <td>1.0</td>\n",
       "      <td>2017-02-28</td>\n",
       "      <td>2017-04-15</td>\n",
       "      <td>0.0</td>\n",
       "    </tr>\n",
       "    <tr>\n",
       "      <th>14515</th>\n",
       "      <td>+ajCOv3puu+HNxpgT91rXzlnvHJ+KejU61Q2VwCvH/w=</td>\n",
       "      <td>5.0</td>\n",
       "      <td>0.0</td>\n",
       "      <td>male</td>\n",
       "      <td>9.0</td>\n",
       "      <td>2011-11-15</td>\n",
       "      <td>39.0</td>\n",
       "      <td>30.0</td>\n",
       "      <td>149.0</td>\n",
       "      <td>149.0</td>\n",
       "      <td>1.0</td>\n",
       "      <td>2017-02-28</td>\n",
       "      <td>2017-04-11</td>\n",
       "      <td>0.0</td>\n",
       "    </tr>\n",
       "    <tr>\n",
       "      <th>12099</th>\n",
       "      <td>FjEfd3IcDwh0gwgDk70UX/h0nm8GB8CWQfNczntOvoQ=</td>\n",
       "      <td>1.0</td>\n",
       "      <td>0.0</td>\n",
       "      <td>NaN</td>\n",
       "      <td>7.0</td>\n",
       "      <td>2016-12-30</td>\n",
       "      <td>41.0</td>\n",
       "      <td>30.0</td>\n",
       "      <td>99.0</td>\n",
       "      <td>99.0</td>\n",
       "      <td>1.0</td>\n",
       "      <td>2017-03-31</td>\n",
       "      <td>2017-04-30</td>\n",
       "      <td>0.0</td>\n",
       "    </tr>\n",
       "    <tr>\n",
       "      <th>11113</th>\n",
       "      <td>KItPdWx7rzQmjsMWmiGvdT7YpuY3q2e2ioE/V0+aPWM=</td>\n",
       "      <td>1.0</td>\n",
       "      <td>0.0</td>\n",
       "      <td>NaN</td>\n",
       "      <td>7.0</td>\n",
       "      <td>2013-06-12</td>\n",
       "      <td>41.0</td>\n",
       "      <td>30.0</td>\n",
       "      <td>99.0</td>\n",
       "      <td>99.0</td>\n",
       "      <td>1.0</td>\n",
       "      <td>2017-03-25</td>\n",
       "      <td>2017-04-25</td>\n",
       "      <td>0.0</td>\n",
       "    </tr>\n",
       "    <tr>\n",
       "      <th>12917</th>\n",
       "      <td>d0/uvzfQ1Nj8nh/gV2ALfJwz0X7sPHcxIKZt/9W9l+g=</td>\n",
       "      <td>1.0</td>\n",
       "      <td>0.0</td>\n",
       "      <td>NaN</td>\n",
       "      <td>7.0</td>\n",
       "      <td>2011-08-16</td>\n",
       "      <td>41.0</td>\n",
       "      <td>30.0</td>\n",
       "      <td>129.0</td>\n",
       "      <td>129.0</td>\n",
       "      <td>1.0</td>\n",
       "      <td>2017-03-25</td>\n",
       "      <td>2017-04-26</td>\n",
       "      <td>0.0</td>\n",
       "    </tr>\n",
       "  </tbody>\n",
       "</table>\n",
       "</div>"
      ],
      "text/plain": [
       "                                               msno  city    bd  gender  \\\n",
       "16833  SsBQ5frVPzKsZNwPkUtYs7le/+9bEjy/A/Cluisf5qU=   1.0   0.0     NaN   \n",
       "15226  x8GetECKxq6WwVg0tf0fCLz0xles5rsijokaoWDGDHk=   1.0   0.0     NaN   \n",
       "570    x7+r04Nhwcc5Vh+871m8SHhEK910MdKibDb7FrPLLkM=  13.0  29.0    male   \n",
       "14990  6sOfVN5gzas8AXh5pKRrp5ZLW2eccn0ytaXcYzVyP0c=  15.0  31.0  female   \n",
       "6512   bUSzuouJ24XGhGrtBVXKesMCxx9vIkbocs1LVVfbuec=   1.0   0.0     NaN   \n",
       "1342   6jDr4MkHnMcHkioLVB2GPLGJdkE8whAzkIAMYs90JaM=   5.0  21.0  female   \n",
       "14515  +ajCOv3puu+HNxpgT91rXzlnvHJ+KejU61Q2VwCvH/w=   5.0   0.0    male   \n",
       "12099  FjEfd3IcDwh0gwgDk70UX/h0nm8GB8CWQfNczntOvoQ=   1.0   0.0     NaN   \n",
       "11113  KItPdWx7rzQmjsMWmiGvdT7YpuY3q2e2ioE/V0+aPWM=   1.0   0.0     NaN   \n",
       "12917  d0/uvzfQ1Nj8nh/gV2ALfJwz0X7sPHcxIKZt/9W9l+g=   1.0   0.0     NaN   \n",
       "\n",
       "       registered_via registration_init_time  payment_method_id  \\\n",
       "16833             7.0             2017-02-07               41.0   \n",
       "15226             7.0             2016-06-09               41.0   \n",
       "570               9.0             2006-06-23               37.0   \n",
       "14990             7.0             2012-11-06               41.0   \n",
       "6512              7.0             2010-10-06               41.0   \n",
       "1342              3.0             2013-09-09               39.0   \n",
       "14515             9.0             2011-11-15               39.0   \n",
       "12099             7.0             2016-12-30               41.0   \n",
       "11113             7.0             2013-06-12               41.0   \n",
       "12917             7.0             2011-08-16               41.0   \n",
       "\n",
       "       payment_plan_days  plan_list_price  actual_amount_paid  is_auto_renew  \\\n",
       "16833               30.0             99.0                99.0            1.0   \n",
       "15226               30.0             99.0                99.0            1.0   \n",
       "570                 30.0            149.0               149.0            1.0   \n",
       "14990               30.0            149.0               149.0            1.0   \n",
       "6512                30.0             99.0                99.0            1.0   \n",
       "1342                30.0            149.0               149.0            1.0   \n",
       "14515               30.0            149.0               149.0            1.0   \n",
       "12099               30.0             99.0                99.0            1.0   \n",
       "11113               30.0             99.0                99.0            1.0   \n",
       "12917               30.0            129.0               129.0            1.0   \n",
       "\n",
       "      transaction_date membership_expire_date  is_cancel  \n",
       "16833       2017-03-06             2017-04-06        0.0  \n",
       "15226       2017-03-09             2017-04-09        0.0  \n",
       "570         2017-03-24             2017-04-23        0.0  \n",
       "14990       2015-04-21             2018-05-20        0.0  \n",
       "6512        2017-03-08             2017-04-08        0.0  \n",
       "1342        2017-02-28             2017-04-15        0.0  \n",
       "14515       2017-02-28             2017-04-11        0.0  \n",
       "12099       2017-03-31             2017-04-30        0.0  \n",
       "11113       2017-03-25             2017-04-25        0.0  \n",
       "12917       2017-03-25             2017-04-26        0.0  "
      ]
     },
     "execution_count": 18,
     "metadata": {},
     "output_type": "execute_result"
    }
   ],
   "source": [
    "customers.sample(10)"
   ]
  },
  {
   "cell_type": "code",
   "execution_count": 19,
   "metadata": {},
   "outputs": [
    {
     "data": {
      "text/plain": [
       "(20000, 2)"
      ]
     },
     "execution_count": 19,
     "metadata": {},
     "output_type": "execute_result"
    }
   ],
   "source": [
    "churn_df.shape"
   ]
  },
  {
   "cell_type": "code",
   "execution_count": 20,
   "metadata": {},
   "outputs": [
    {
     "data": {
      "text/html": [
       "<div>\n",
       "<style scoped>\n",
       "    .dataframe tbody tr th:only-of-type {\n",
       "        vertical-align: middle;\n",
       "    }\n",
       "\n",
       "    .dataframe tbody tr th {\n",
       "        vertical-align: top;\n",
       "    }\n",
       "\n",
       "    .dataframe thead th {\n",
       "        text-align: right;\n",
       "    }\n",
       "</style>\n",
       "<table border=\"1\" class=\"dataframe\">\n",
       "  <thead>\n",
       "    <tr style=\"text-align: right;\">\n",
       "      <th></th>\n",
       "      <th>msno</th>\n",
       "      <th>city</th>\n",
       "      <th>bd</th>\n",
       "      <th>gender</th>\n",
       "      <th>registered_via</th>\n",
       "      <th>registration_init_time</th>\n",
       "      <th>payment_method_id</th>\n",
       "      <th>payment_plan_days</th>\n",
       "      <th>plan_list_price</th>\n",
       "      <th>actual_amount_paid</th>\n",
       "      <th>is_auto_renew</th>\n",
       "      <th>transaction_date</th>\n",
       "      <th>membership_expire_date</th>\n",
       "      <th>is_cancel</th>\n",
       "      <th>is_churn</th>\n",
       "    </tr>\n",
       "  </thead>\n",
       "  <tbody>\n",
       "    <tr>\n",
       "      <th>12928</th>\n",
       "      <td>yy4nFWM9dNpeK3q4yQPMFvNQ5n/0uOVs+1HXxQzLyTo=</td>\n",
       "      <td>1.0</td>\n",
       "      <td>0.0</td>\n",
       "      <td>NaN</td>\n",
       "      <td>4.0</td>\n",
       "      <td>2016-05-30</td>\n",
       "      <td>NaN</td>\n",
       "      <td>NaN</td>\n",
       "      <td>NaN</td>\n",
       "      <td>NaN</td>\n",
       "      <td>NaN</td>\n",
       "      <td>NaT</td>\n",
       "      <td>NaT</td>\n",
       "      <td>NaN</td>\n",
       "      <td>1</td>\n",
       "    </tr>\n",
       "    <tr>\n",
       "      <th>9474</th>\n",
       "      <td>AaZZU258Oc2XAEWKQbDIDJdmw68gcSKj/q5LfppUHuE=</td>\n",
       "      <td>1.0</td>\n",
       "      <td>0.0</td>\n",
       "      <td>NaN</td>\n",
       "      <td>7.0</td>\n",
       "      <td>2016-02-18</td>\n",
       "      <td>41.0</td>\n",
       "      <td>30.0</td>\n",
       "      <td>99.0</td>\n",
       "      <td>99.0</td>\n",
       "      <td>1.0</td>\n",
       "      <td>2017-03-18</td>\n",
       "      <td>2017-04-18</td>\n",
       "      <td>0.0</td>\n",
       "      <td>0</td>\n",
       "    </tr>\n",
       "    <tr>\n",
       "      <th>7552</th>\n",
       "      <td>w9jOZEXsnwMb0DGGWrsjf+jOgxvzv+2AGqUPl7J0Pqg=</td>\n",
       "      <td>4.0</td>\n",
       "      <td>33.0</td>\n",
       "      <td>male</td>\n",
       "      <td>9.0</td>\n",
       "      <td>2004-09-22</td>\n",
       "      <td>40.0</td>\n",
       "      <td>30.0</td>\n",
       "      <td>149.0</td>\n",
       "      <td>149.0</td>\n",
       "      <td>1.0</td>\n",
       "      <td>2017-03-04</td>\n",
       "      <td>2017-04-10</td>\n",
       "      <td>0.0</td>\n",
       "      <td>0</td>\n",
       "    </tr>\n",
       "    <tr>\n",
       "      <th>9907</th>\n",
       "      <td>QbhQFd5gWNzSrdTsd2o0mKboes8Vmqnc4bAliaAKsMs=</td>\n",
       "      <td>1.0</td>\n",
       "      <td>0.0</td>\n",
       "      <td>NaN</td>\n",
       "      <td>7.0</td>\n",
       "      <td>2016-05-28</td>\n",
       "      <td>41.0</td>\n",
       "      <td>30.0</td>\n",
       "      <td>99.0</td>\n",
       "      <td>99.0</td>\n",
       "      <td>1.0</td>\n",
       "      <td>2017-03-16</td>\n",
       "      <td>2017-04-16</td>\n",
       "      <td>0.0</td>\n",
       "      <td>0</td>\n",
       "    </tr>\n",
       "    <tr>\n",
       "      <th>23156</th>\n",
       "      <td>2GZUdk9Hviwpp5coMGltKszStxKQ8dbKkn6/UjZ7YrI=</td>\n",
       "      <td>NaN</td>\n",
       "      <td>NaN</td>\n",
       "      <td>NaN</td>\n",
       "      <td>NaN</td>\n",
       "      <td>NaT</td>\n",
       "      <td>39.0</td>\n",
       "      <td>30.0</td>\n",
       "      <td>149.0</td>\n",
       "      <td>149.0</td>\n",
       "      <td>1.0</td>\n",
       "      <td>2017-02-28</td>\n",
       "      <td>2017-04-08</td>\n",
       "      <td>0.0</td>\n",
       "      <td>0</td>\n",
       "    </tr>\n",
       "    <tr>\n",
       "      <th>5869</th>\n",
       "      <td>r3Ypkm082bPuoNm795VYgfyvUv/978cfvVrBK60kYTE=</td>\n",
       "      <td>1.0</td>\n",
       "      <td>0.0</td>\n",
       "      <td>NaN</td>\n",
       "      <td>7.0</td>\n",
       "      <td>2016-09-23</td>\n",
       "      <td>41.0</td>\n",
       "      <td>30.0</td>\n",
       "      <td>99.0</td>\n",
       "      <td>99.0</td>\n",
       "      <td>1.0</td>\n",
       "      <td>2017-03-22</td>\n",
       "      <td>2017-04-22</td>\n",
       "      <td>0.0</td>\n",
       "      <td>0</td>\n",
       "    </tr>\n",
       "    <tr>\n",
       "      <th>24369</th>\n",
       "      <td>MKwP/f03tB78CbTT7Qm10xTEbphLqhPtm5/Fj6zfu0Y=</td>\n",
       "      <td>NaN</td>\n",
       "      <td>NaN</td>\n",
       "      <td>NaN</td>\n",
       "      <td>NaN</td>\n",
       "      <td>NaT</td>\n",
       "      <td>NaN</td>\n",
       "      <td>NaN</td>\n",
       "      <td>NaN</td>\n",
       "      <td>NaN</td>\n",
       "      <td>NaN</td>\n",
       "      <td>NaT</td>\n",
       "      <td>NaT</td>\n",
       "      <td>NaN</td>\n",
       "      <td>1</td>\n",
       "    </tr>\n",
       "    <tr>\n",
       "      <th>21719</th>\n",
       "      <td>+o4GOFxDT8BOHVMqN4fCbq8pNPzaD0EyVJxWDFq7NJc=</td>\n",
       "      <td>1.0</td>\n",
       "      <td>0.0</td>\n",
       "      <td>NaN</td>\n",
       "      <td>7.0</td>\n",
       "      <td>2010-11-09</td>\n",
       "      <td>41.0</td>\n",
       "      <td>30.0</td>\n",
       "      <td>99.0</td>\n",
       "      <td>99.0</td>\n",
       "      <td>1.0</td>\n",
       "      <td>2017-03-21</td>\n",
       "      <td>2017-04-22</td>\n",
       "      <td>0.0</td>\n",
       "      <td>0</td>\n",
       "    </tr>\n",
       "    <tr>\n",
       "      <th>11308</th>\n",
       "      <td>r6oKCDI+P83gB+euBvvoP5b4STKIdDX6DkPD4TClB0U=</td>\n",
       "      <td>5.0</td>\n",
       "      <td>25.0</td>\n",
       "      <td>female</td>\n",
       "      <td>3.0</td>\n",
       "      <td>2013-02-13</td>\n",
       "      <td>36.0</td>\n",
       "      <td>30.0</td>\n",
       "      <td>180.0</td>\n",
       "      <td>180.0</td>\n",
       "      <td>1.0</td>\n",
       "      <td>2017-03-09</td>\n",
       "      <td>2017-03-08</td>\n",
       "      <td>1.0</td>\n",
       "      <td>0</td>\n",
       "    </tr>\n",
       "    <tr>\n",
       "      <th>13564</th>\n",
       "      <td>f9T5Tm5zdEG2hc+CE62DaZDNyqraAgeDbMz7Z+P3uPo=</td>\n",
       "      <td>1.0</td>\n",
       "      <td>0.0</td>\n",
       "      <td>NaN</td>\n",
       "      <td>7.0</td>\n",
       "      <td>2016-06-15</td>\n",
       "      <td>41.0</td>\n",
       "      <td>30.0</td>\n",
       "      <td>99.0</td>\n",
       "      <td>99.0</td>\n",
       "      <td>1.0</td>\n",
       "      <td>2017-03-14</td>\n",
       "      <td>2017-04-14</td>\n",
       "      <td>0.0</td>\n",
       "      <td>0</td>\n",
       "    </tr>\n",
       "  </tbody>\n",
       "</table>\n",
       "</div>"
      ],
      "text/plain": [
       "                                               msno  city    bd  gender  \\\n",
       "12928  yy4nFWM9dNpeK3q4yQPMFvNQ5n/0uOVs+1HXxQzLyTo=   1.0   0.0     NaN   \n",
       "9474   AaZZU258Oc2XAEWKQbDIDJdmw68gcSKj/q5LfppUHuE=   1.0   0.0     NaN   \n",
       "7552   w9jOZEXsnwMb0DGGWrsjf+jOgxvzv+2AGqUPl7J0Pqg=   4.0  33.0    male   \n",
       "9907   QbhQFd5gWNzSrdTsd2o0mKboes8Vmqnc4bAliaAKsMs=   1.0   0.0     NaN   \n",
       "23156  2GZUdk9Hviwpp5coMGltKszStxKQ8dbKkn6/UjZ7YrI=   NaN   NaN     NaN   \n",
       "5869   r3Ypkm082bPuoNm795VYgfyvUv/978cfvVrBK60kYTE=   1.0   0.0     NaN   \n",
       "24369  MKwP/f03tB78CbTT7Qm10xTEbphLqhPtm5/Fj6zfu0Y=   NaN   NaN     NaN   \n",
       "21719  +o4GOFxDT8BOHVMqN4fCbq8pNPzaD0EyVJxWDFq7NJc=   1.0   0.0     NaN   \n",
       "11308  r6oKCDI+P83gB+euBvvoP5b4STKIdDX6DkPD4TClB0U=   5.0  25.0  female   \n",
       "13564  f9T5Tm5zdEG2hc+CE62DaZDNyqraAgeDbMz7Z+P3uPo=   1.0   0.0     NaN   \n",
       "\n",
       "       registered_via registration_init_time  payment_method_id  \\\n",
       "12928             4.0             2016-05-30                NaN   \n",
       "9474              7.0             2016-02-18               41.0   \n",
       "7552              9.0             2004-09-22               40.0   \n",
       "9907              7.0             2016-05-28               41.0   \n",
       "23156             NaN                    NaT               39.0   \n",
       "5869              7.0             2016-09-23               41.0   \n",
       "24369             NaN                    NaT                NaN   \n",
       "21719             7.0             2010-11-09               41.0   \n",
       "11308             3.0             2013-02-13               36.0   \n",
       "13564             7.0             2016-06-15               41.0   \n",
       "\n",
       "       payment_plan_days  plan_list_price  actual_amount_paid  is_auto_renew  \\\n",
       "12928                NaN              NaN                 NaN            NaN   \n",
       "9474                30.0             99.0                99.0            1.0   \n",
       "7552                30.0            149.0               149.0            1.0   \n",
       "9907                30.0             99.0                99.0            1.0   \n",
       "23156               30.0            149.0               149.0            1.0   \n",
       "5869                30.0             99.0                99.0            1.0   \n",
       "24369                NaN              NaN                 NaN            NaN   \n",
       "21719               30.0             99.0                99.0            1.0   \n",
       "11308               30.0            180.0               180.0            1.0   \n",
       "13564               30.0             99.0                99.0            1.0   \n",
       "\n",
       "      transaction_date membership_expire_date  is_cancel  is_churn  \n",
       "12928              NaT                    NaT        NaN         1  \n",
       "9474        2017-03-18             2017-04-18        0.0         0  \n",
       "7552        2017-03-04             2017-04-10        0.0         0  \n",
       "9907        2017-03-16             2017-04-16        0.0         0  \n",
       "23156       2017-02-28             2017-04-08        0.0         0  \n",
       "5869        2017-03-22             2017-04-22        0.0         0  \n",
       "24369              NaT                    NaT        NaN         1  \n",
       "21719       2017-03-21             2017-04-22        0.0         0  \n",
       "11308       2017-03-09             2017-03-08        1.0         0  \n",
       "13564       2017-03-14             2017-04-14        0.0         0  "
      ]
     },
     "execution_count": 20,
     "metadata": {},
     "output_type": "execute_result"
    }
   ],
   "source": [
    "df = customers.merge(churn_df, on = 'msno', how = 'outer')\n",
    "df.sample(10)"
   ]
  },
  {
   "cell_type": "markdown",
   "metadata": {},
   "source": [
    "Bd column contains age 0. Replaced age 0 with null value"
   ]
  },
  {
   "cell_type": "code",
   "execution_count": 21,
   "metadata": {},
   "outputs": [
    {
     "data": {
      "text/plain": [
       "(24372, 15)"
      ]
     },
     "execution_count": 21,
     "metadata": {},
     "output_type": "execute_result"
    }
   ],
   "source": [
    "df.shape"
   ]
  },
  {
   "cell_type": "code",
   "execution_count": 22,
   "metadata": {},
   "outputs": [],
   "source": [
    "df['bd'] = df['bd'].replace(0,np.nan)"
   ]
  },
  {
   "cell_type": "markdown",
   "metadata": {},
   "source": [
    "## Data Exploration\n",
    "\n",
    "The following are a starter demonstration of what you can do in your exploration of this dataset.\n",
    "It's common to examine and then organize your features under categorical or numerical. Pandas has a built in method to transform into a pandas datetime object that we used earlier. If you use R, you'll want to look into the xts or lubridate library instead."
   ]
  },
  {
   "cell_type": "code",
   "execution_count": 23,
   "metadata": {},
   "outputs": [
    {
     "data": {
      "text/html": [
       "<div>\n",
       "<style scoped>\n",
       "    .dataframe tbody tr th:only-of-type {\n",
       "        vertical-align: middle;\n",
       "    }\n",
       "\n",
       "    .dataframe tbody tr th {\n",
       "        vertical-align: top;\n",
       "    }\n",
       "\n",
       "    .dataframe thead th {\n",
       "        text-align: right;\n",
       "    }\n",
       "</style>\n",
       "<table border=\"1\" class=\"dataframe\">\n",
       "  <thead>\n",
       "    <tr style=\"text-align: right;\">\n",
       "      <th></th>\n",
       "      <th>city</th>\n",
       "      <th>bd</th>\n",
       "      <th>registered_via</th>\n",
       "      <th>payment_method_id</th>\n",
       "      <th>payment_plan_days</th>\n",
       "      <th>plan_list_price</th>\n",
       "      <th>actual_amount_paid</th>\n",
       "      <th>is_auto_renew</th>\n",
       "      <th>is_cancel</th>\n",
       "      <th>is_churn</th>\n",
       "    </tr>\n",
       "  </thead>\n",
       "  <tbody>\n",
       "    <tr>\n",
       "      <th>count</th>\n",
       "      <td>21847.000000</td>\n",
       "      <td>10430.000000</td>\n",
       "      <td>21847.000000</td>\n",
       "      <td>23588.000000</td>\n",
       "      <td>23588.000000</td>\n",
       "      <td>23588.000000</td>\n",
       "      <td>23588.000000</td>\n",
       "      <td>23588.000000</td>\n",
       "      <td>23588.000000</td>\n",
       "      <td>24372.000000</td>\n",
       "    </tr>\n",
       "    <tr>\n",
       "      <th>mean</th>\n",
       "      <td>6.250790</td>\n",
       "      <td>30.179482</td>\n",
       "      <td>6.881952</td>\n",
       "      <td>38.894353</td>\n",
       "      <td>33.477065</td>\n",
       "      <td>145.801594</td>\n",
       "      <td>145.277260</td>\n",
       "      <td>0.917246</td>\n",
       "      <td>0.028150</td>\n",
       "      <td>0.123379</td>\n",
       "    </tr>\n",
       "    <tr>\n",
       "      <th>std</th>\n",
       "      <td>6.532179</td>\n",
       "      <td>13.497509</td>\n",
       "      <td>1.949450</td>\n",
       "      <td>3.853128</td>\n",
       "      <td>30.832811</td>\n",
       "      <td>128.894447</td>\n",
       "      <td>129.060597</td>\n",
       "      <td>0.275516</td>\n",
       "      <td>0.165405</td>\n",
       "      <td>0.328879</td>\n",
       "    </tr>\n",
       "    <tr>\n",
       "      <th>min</th>\n",
       "      <td>1.000000</td>\n",
       "      <td>-46.000000</td>\n",
       "      <td>3.000000</td>\n",
       "      <td>10.000000</td>\n",
       "      <td>0.000000</td>\n",
       "      <td>0.000000</td>\n",
       "      <td>0.000000</td>\n",
       "      <td>0.000000</td>\n",
       "      <td>0.000000</td>\n",
       "      <td>0.000000</td>\n",
       "    </tr>\n",
       "    <tr>\n",
       "      <th>25%</th>\n",
       "      <td>1.000000</td>\n",
       "      <td>24.000000</td>\n",
       "      <td>7.000000</td>\n",
       "      <td>39.000000</td>\n",
       "      <td>30.000000</td>\n",
       "      <td>99.000000</td>\n",
       "      <td>99.000000</td>\n",
       "      <td>1.000000</td>\n",
       "      <td>0.000000</td>\n",
       "      <td>0.000000</td>\n",
       "    </tr>\n",
       "    <tr>\n",
       "      <th>50%</th>\n",
       "      <td>4.000000</td>\n",
       "      <td>28.000000</td>\n",
       "      <td>7.000000</td>\n",
       "      <td>41.000000</td>\n",
       "      <td>30.000000</td>\n",
       "      <td>149.000000</td>\n",
       "      <td>149.000000</td>\n",
       "      <td>1.000000</td>\n",
       "      <td>0.000000</td>\n",
       "      <td>0.000000</td>\n",
       "    </tr>\n",
       "    <tr>\n",
       "      <th>75%</th>\n",
       "      <td>13.000000</td>\n",
       "      <td>34.000000</td>\n",
       "      <td>9.000000</td>\n",
       "      <td>41.000000</td>\n",
       "      <td>30.000000</td>\n",
       "      <td>149.000000</td>\n",
       "      <td>149.000000</td>\n",
       "      <td>1.000000</td>\n",
       "      <td>0.000000</td>\n",
       "      <td>0.000000</td>\n",
       "    </tr>\n",
       "    <tr>\n",
       "      <th>max</th>\n",
       "      <td>22.000000</td>\n",
       "      <td>1043.000000</td>\n",
       "      <td>13.000000</td>\n",
       "      <td>41.000000</td>\n",
       "      <td>450.000000</td>\n",
       "      <td>1788.000000</td>\n",
       "      <td>1788.000000</td>\n",
       "      <td>1.000000</td>\n",
       "      <td>1.000000</td>\n",
       "      <td>1.000000</td>\n",
       "    </tr>\n",
       "  </tbody>\n",
       "</table>\n",
       "</div>"
      ],
      "text/plain": [
       "               city            bd  registered_via  payment_method_id  \\\n",
       "count  21847.000000  10430.000000    21847.000000       23588.000000   \n",
       "mean       6.250790     30.179482        6.881952          38.894353   \n",
       "std        6.532179     13.497509        1.949450           3.853128   \n",
       "min        1.000000    -46.000000        3.000000          10.000000   \n",
       "25%        1.000000     24.000000        7.000000          39.000000   \n",
       "50%        4.000000     28.000000        7.000000          41.000000   \n",
       "75%       13.000000     34.000000        9.000000          41.000000   \n",
       "max       22.000000   1043.000000       13.000000          41.000000   \n",
       "\n",
       "       payment_plan_days  plan_list_price  actual_amount_paid  is_auto_renew  \\\n",
       "count       23588.000000     23588.000000        23588.000000   23588.000000   \n",
       "mean           33.477065       145.801594          145.277260       0.917246   \n",
       "std            30.832811       128.894447          129.060597       0.275516   \n",
       "min             0.000000         0.000000            0.000000       0.000000   \n",
       "25%            30.000000        99.000000           99.000000       1.000000   \n",
       "50%            30.000000       149.000000          149.000000       1.000000   \n",
       "75%            30.000000       149.000000          149.000000       1.000000   \n",
       "max           450.000000      1788.000000         1788.000000       1.000000   \n",
       "\n",
       "          is_cancel      is_churn  \n",
       "count  23588.000000  24372.000000  \n",
       "mean       0.028150      0.123379  \n",
       "std        0.165405      0.328879  \n",
       "min        0.000000      0.000000  \n",
       "25%        0.000000      0.000000  \n",
       "50%        0.000000      0.000000  \n",
       "75%        0.000000      0.000000  \n",
       "max        1.000000      1.000000  "
      ]
     },
     "execution_count": 23,
     "metadata": {},
     "output_type": "execute_result"
    }
   ],
   "source": [
    "df.describe()"
   ]
  },
  {
   "cell_type": "code",
   "execution_count": 24,
   "metadata": {},
   "outputs": [
    {
     "data": {
      "text/plain": [
       "msno                              object\n",
       "city                             float64\n",
       "bd                               float64\n",
       "gender                            object\n",
       "registered_via                   float64\n",
       "registration_init_time    datetime64[ns]\n",
       "payment_method_id                float64\n",
       "payment_plan_days                float64\n",
       "plan_list_price                  float64\n",
       "actual_amount_paid               float64\n",
       "is_auto_renew                    float64\n",
       "transaction_date          datetime64[ns]\n",
       "membership_expire_date    datetime64[ns]\n",
       "is_cancel                        float64\n",
       "is_churn                           int64\n",
       "dtype: object"
      ]
     },
     "execution_count": 24,
     "metadata": {},
     "output_type": "execute_result"
    }
   ],
   "source": [
    "df.dtypes"
   ]
  },
  {
   "cell_type": "code",
   "execution_count": 25,
   "metadata": {},
   "outputs": [],
   "source": [
    "col_list = df.columns\n",
    "null_list = {}\n",
    "for i in df:\n",
    "    for e in col_list:\n",
    "        null_list[e] = (df[e].isnull().sum())/len(df)"
   ]
  },
  {
   "cell_type": "code",
   "execution_count": 26,
   "metadata": {},
   "outputs": [
    {
     "data": {
      "text/plain": [
       "[('msno', 0.0),\n",
       " ('is_churn', 0.0),\n",
       " ('payment_method_id', 0.0321680617101592),\n",
       " ('payment_plan_days', 0.0321680617101592),\n",
       " ('plan_list_price', 0.0321680617101592),\n",
       " ('actual_amount_paid', 0.0321680617101592),\n",
       " ('is_auto_renew', 0.0321680617101592),\n",
       " ('transaction_date', 0.0321680617101592),\n",
       " ('membership_expire_date', 0.0321680617101592),\n",
       " ('is_cancel', 0.0321680617101592),\n",
       " ('city', 0.10360249466601018),\n",
       " ('registered_via', 0.10360249466601018),\n",
       " ('registration_init_time', 0.10360249466601018),\n",
       " ('bd', 0.5720498933202035),\n",
       " ('gender', 0.5735680288856064)]"
      ]
     },
     "execution_count": 26,
     "metadata": {},
     "output_type": "execute_result"
    }
   ],
   "source": [
    "sorted(null_list.items(), key=lambda x: x[1])"
   ]
  },
  {
   "cell_type": "markdown",
   "metadata": {},
   "source": [
    "### <font color = \"green\">City</font> Value Counts:\n",
    "Although Cities 16 and 20 had the lowest churn, they consisted less than 0.15% of the members.\n",
    "<br>Notably, City 1.0 makes up 43.67% of the member population, and had one of lowest churn rates at only 10.97%.\n",
    "<br>\n",
    "<br>Segmented the City whether there is **high** or **low** member population: df[city_member_pop]"
   ]
  },
  {
   "cell_type": "code",
   "execution_count": 27,
   "metadata": {
    "scrolled": true
   },
   "outputs": [
    {
     "name": "stderr",
     "output_type": "stream",
     "text": [
      "/Users/thisbekristin/opt/miniconda3/lib/python3.7/site-packages/seaborn/_decorators.py:43: FutureWarning: Pass the following variable as a keyword arg: x. From version 0.12, the only valid positional argument will be `data`, and passing other arguments without an explicit keyword will result in an error or misinterpretation.\n",
      "  FutureWarning\n"
     ]
    },
    {
     "data": {
      "text/plain": [
       "<AxesSubplot:xlabel='city', ylabel='count'>"
      ]
     },
     "execution_count": 27,
     "metadata": {},
     "output_type": "execute_result"
    },
    {
     "data": {
      "image/png": "[encoded data removed]",
      "text/plain": [
       "<Figure size 432x288 with 1 Axes>"
      ]
     },
     "metadata": {
      "needs_background": "light"
     },
     "output_type": "display_data"
    }
   ],
   "source": [
    "sns.countplot(df['city'])"
   ]
  },
  {
   "cell_type": "code",
   "execution_count": 28,
   "metadata": {
    "scrolled": true
   },
   "outputs": [
    {
     "data": {
      "text/plain": [
       "<AxesSubplot:xlabel='city'>"
      ]
     },
     "execution_count": 28,
     "metadata": {},
     "output_type": "execute_result"
    },
    {
     "data": {
      "image/png": "[encoded data removed]",
      "text/plain": [
       "<Figure size 432x288 with 1 Axes>"
      ]
     },
     "metadata": {
      "needs_background": "light"
     },
     "output_type": "display_data"
    }
   ],
   "source": [
    "df.groupby('city')[['is_churn']].mean().sort_values(ascending=False, by='is_churn').plot.bar(color='g')"
   ]
  },
  {
   "cell_type": "code",
   "execution_count": 29,
   "metadata": {},
   "outputs": [],
   "source": [
    "df['city_member_pop'] = pd.cut(df['city'], bins = [0,1,22],labels=['high','low'])"
   ]
  },
  {
   "cell_type": "code",
   "execution_count": 30,
   "metadata": {},
   "outputs": [
    {
     "data": {
      "text/plain": [
       "low     11204\n",
       "high    10643\n",
       "Name: city_member_pop, dtype: int64"
      ]
     },
     "execution_count": 30,
     "metadata": {},
     "output_type": "execute_result"
    }
   ],
   "source": [
    "df['city_member_pop'].value_counts()"
   ]
  },
  {
   "cell_type": "code",
   "execution_count": 31,
   "metadata": {},
   "outputs": [
    {
     "data": {
      "text/html": [
       "<div>\n",
       "<style scoped>\n",
       "    .dataframe tbody tr th:only-of-type {\n",
       "        vertical-align: middle;\n",
       "    }\n",
       "\n",
       "    .dataframe tbody tr th {\n",
       "        vertical-align: top;\n",
       "    }\n",
       "\n",
       "    .dataframe thead th {\n",
       "        text-align: right;\n",
       "    }\n",
       "</style>\n",
       "<table border=\"1\" class=\"dataframe\">\n",
       "  <thead>\n",
       "    <tr style=\"text-align: right;\">\n",
       "      <th></th>\n",
       "      <th>is_churn</th>\n",
       "      <th>is_auto_renew</th>\n",
       "    </tr>\n",
       "    <tr>\n",
       "      <th>city_member_pop</th>\n",
       "      <th></th>\n",
       "      <th></th>\n",
       "    </tr>\n",
       "  </thead>\n",
       "  <tbody>\n",
       "    <tr>\n",
       "      <th>high</th>\n",
       "      <td>0.109743</td>\n",
       "      <td>0.938006</td>\n",
       "    </tr>\n",
       "    <tr>\n",
       "      <th>low</th>\n",
       "      <td>0.145216</td>\n",
       "      <td>0.878274</td>\n",
       "    </tr>\n",
       "  </tbody>\n",
       "</table>\n",
       "</div>"
      ],
      "text/plain": [
       "                 is_churn  is_auto_renew\n",
       "city_member_pop                         \n",
       "high             0.109743       0.938006\n",
       "low              0.145216       0.878274"
      ]
     },
     "execution_count": 31,
     "metadata": {},
     "output_type": "execute_result"
    }
   ],
   "source": [
    "df.groupby('city_member_pop')[['is_churn','is_auto_renew']].mean()"
   ]
  },
  {
   "cell_type": "markdown",
   "metadata": {},
   "source": [
    "### <font color = \"red\"> Bd (Age)</font> Null Values:\n",
    "After replacing 0 with NaN, more than half of the ages are null. "
   ]
  },
  {
   "cell_type": "code",
   "execution_count": 32,
   "metadata": {},
   "outputs": [
    {
     "data": {
      "text/plain": [
       "NaN     0.572050\n",
       "27.0    0.025234\n",
       "25.0    0.024783\n",
       "26.0    0.023182\n",
       "29.0    0.023141\n",
       "          ...   \n",
       "4.0     0.000041\n",
       "81.0    0.000041\n",
       "72.0    0.000041\n",
       "66.0    0.000041\n",
       "71.0    0.000041\n",
       "Name: bd, Length: 76, dtype: float64"
      ]
     },
     "execution_count": 32,
     "metadata": {},
     "output_type": "execute_result"
    }
   ],
   "source": [
    "df['bd'].value_counts(dropna=False,normalize = True)"
   ]
  },
  {
   "cell_type": "code",
   "execution_count": 33,
   "metadata": {},
   "outputs": [
    {
     "data": {
      "text/plain": [
       "<AxesSubplot:xlabel='bd', ylabel='Count'>"
      ]
     },
     "execution_count": 33,
     "metadata": {},
     "output_type": "execute_result"
    },
    {
     "data": {
      "image/png": "[encoded data removed]",
      "text/plain": [
       "<Figure size 432x288 with 1 Axes>"
      ]
     },
     "metadata": {
      "needs_background": "light"
     },
     "output_type": "display_data"
    }
   ],
   "source": [
    "bd_df = df.loc[np.abs(df.bd - df.bd.mean())/ df.bd.std() < 3]\n",
    "sns.histplot(bd_df['bd'])"
   ]
  },
  {
   "cell_type": "code",
   "execution_count": 34,
   "metadata": {},
   "outputs": [
    {
     "data": {
      "text/html": [
       "<div>\n",
       "<style scoped>\n",
       "    .dataframe tbody tr th:only-of-type {\n",
       "        vertical-align: middle;\n",
       "    }\n",
       "\n",
       "    .dataframe tbody tr th {\n",
       "        vertical-align: top;\n",
       "    }\n",
       "\n",
       "    .dataframe thead tr th {\n",
       "        text-align: left;\n",
       "    }\n",
       "\n",
       "    .dataframe thead tr:last-of-type th {\n",
       "        text-align: right;\n",
       "    }\n",
       "</style>\n",
       "<table border=\"1\" class=\"dataframe\">\n",
       "  <thead>\n",
       "    <tr>\n",
       "      <th></th>\n",
       "      <th colspan=\"2\" halign=\"left\">bd</th>\n",
       "    </tr>\n",
       "    <tr>\n",
       "      <th></th>\n",
       "      <th>mean</th>\n",
       "      <th>median</th>\n",
       "    </tr>\n",
       "    <tr>\n",
       "      <th>city</th>\n",
       "      <th></th>\n",
       "      <th></th>\n",
       "    </tr>\n",
       "  </thead>\n",
       "  <tbody>\n",
       "    <tr>\n",
       "      <th>1.0</th>\n",
       "      <td>27.562893</td>\n",
       "      <td>25.0</td>\n",
       "    </tr>\n",
       "    <tr>\n",
       "      <th>3.0</th>\n",
       "      <td>30.116667</td>\n",
       "      <td>28.0</td>\n",
       "    </tr>\n",
       "    <tr>\n",
       "      <th>4.0</th>\n",
       "      <td>29.090246</td>\n",
       "      <td>27.0</td>\n",
       "    </tr>\n",
       "    <tr>\n",
       "      <th>5.0</th>\n",
       "      <td>31.563512</td>\n",
       "      <td>30.0</td>\n",
       "    </tr>\n",
       "    <tr>\n",
       "      <th>6.0</th>\n",
       "      <td>29.845255</td>\n",
       "      <td>28.0</td>\n",
       "    </tr>\n",
       "    <tr>\n",
       "      <th>7.0</th>\n",
       "      <td>29.080000</td>\n",
       "      <td>27.5</td>\n",
       "    </tr>\n",
       "    <tr>\n",
       "      <th>8.0</th>\n",
       "      <td>27.373494</td>\n",
       "      <td>26.0</td>\n",
       "    </tr>\n",
       "    <tr>\n",
       "      <th>9.0</th>\n",
       "      <td>29.471014</td>\n",
       "      <td>28.0</td>\n",
       "    </tr>\n",
       "    <tr>\n",
       "      <th>10.0</th>\n",
       "      <td>29.568627</td>\n",
       "      <td>28.0</td>\n",
       "    </tr>\n",
       "    <tr>\n",
       "      <th>11.0</th>\n",
       "      <td>28.321739</td>\n",
       "      <td>27.0</td>\n",
       "    </tr>\n",
       "    <tr>\n",
       "      <th>12.0</th>\n",
       "      <td>27.644928</td>\n",
       "      <td>27.0</td>\n",
       "    </tr>\n",
       "    <tr>\n",
       "      <th>13.0</th>\n",
       "      <td>30.784322</td>\n",
       "      <td>29.0</td>\n",
       "    </tr>\n",
       "    <tr>\n",
       "      <th>14.0</th>\n",
       "      <td>30.647436</td>\n",
       "      <td>29.0</td>\n",
       "    </tr>\n",
       "    <tr>\n",
       "      <th>15.0</th>\n",
       "      <td>29.441712</td>\n",
       "      <td>29.0</td>\n",
       "    </tr>\n",
       "    <tr>\n",
       "      <th>16.0</th>\n",
       "      <td>29.476190</td>\n",
       "      <td>29.0</td>\n",
       "    </tr>\n",
       "    <tr>\n",
       "      <th>17.0</th>\n",
       "      <td>29.850000</td>\n",
       "      <td>27.5</td>\n",
       "    </tr>\n",
       "    <tr>\n",
       "      <th>18.0</th>\n",
       "      <td>28.156250</td>\n",
       "      <td>27.0</td>\n",
       "    </tr>\n",
       "    <tr>\n",
       "      <th>20.0</th>\n",
       "      <td>29.111111</td>\n",
       "      <td>32.0</td>\n",
       "    </tr>\n",
       "    <tr>\n",
       "      <th>21.0</th>\n",
       "      <td>25.872727</td>\n",
       "      <td>25.0</td>\n",
       "    </tr>\n",
       "    <tr>\n",
       "      <th>22.0</th>\n",
       "      <td>29.871622</td>\n",
       "      <td>29.0</td>\n",
       "    </tr>\n",
       "  </tbody>\n",
       "</table>\n",
       "</div>"
      ],
      "text/plain": [
       "             bd       \n",
       "           mean median\n",
       "city                  \n",
       "1.0   27.562893   25.0\n",
       "3.0   30.116667   28.0\n",
       "4.0   29.090246   27.0\n",
       "5.0   31.563512   30.0\n",
       "6.0   29.845255   28.0\n",
       "7.0   29.080000   27.5\n",
       "8.0   27.373494   26.0\n",
       "9.0   29.471014   28.0\n",
       "10.0  29.568627   28.0\n",
       "11.0  28.321739   27.0\n",
       "12.0  27.644928   27.0\n",
       "13.0  30.784322   29.0\n",
       "14.0  30.647436   29.0\n",
       "15.0  29.441712   29.0\n",
       "16.0  29.476190   29.0\n",
       "17.0  29.850000   27.5\n",
       "18.0  28.156250   27.0\n",
       "20.0  29.111111   32.0\n",
       "21.0  25.872727   25.0\n",
       "22.0  29.871622   29.0"
      ]
     },
     "execution_count": 34,
     "metadata": {},
     "output_type": "execute_result"
    }
   ],
   "source": [
    "bd_df.groupby('city')[['bd']].agg([np.mean,np.median])"
   ]
  },
  {
   "cell_type": "markdown",
   "metadata": {},
   "source": [
    "Created categories based on age group:\n",
    "* Minor: <= 18\n",
    "* Adult: 19 - 60\n",
    "* Senior: 60+"
   ]
  },
  {
   "cell_type": "code",
   "execution_count": 35,
   "metadata": {},
   "outputs": [
    {
     "name": "stderr",
     "output_type": "stream",
     "text": [
      "/Users/thisbekristin/opt/miniconda3/lib/python3.7/site-packages/ipykernel_launcher.py:2: SettingWithCopyWarning: \n",
      "A value is trying to be set on a copy of a slice from a DataFrame.\n",
      "Try using .loc[row_indexer,col_indexer] = value instead\n",
      "\n",
      "See the caveats in the documentation: https://pandas.pydata.org/pandas-docs/stable/user_guide/indexing.html#returning-a-view-versus-a-copy\n",
      "  \n"
     ]
    }
   ],
   "source": [
    "df['age_group'] = pd.cut(df['bd'],bins = [13,21,37,53,71],labels=['GenZ','Millennial','GenX','Boomer'])\n",
    "bd_df['age_group'] = pd.cut(bd_df['bd'],bins = [13,21,37,53,71],labels=['GenZ','Millennial','GenX','Boomer'])"
   ]
  },
  {
   "cell_type": "code",
   "execution_count": 36,
   "metadata": {},
   "outputs": [
    {
     "data": {
      "text/plain": [
       "NaN           13969\n",
       "Millennial     7315\n",
       "GenX           1522\n",
       "GenZ           1394\n",
       "Boomer          172\n",
       "Name: age_group, dtype: int64"
      ]
     },
     "execution_count": 36,
     "metadata": {},
     "output_type": "execute_result"
    }
   ],
   "source": [
    "df['age_group'].value_counts(dropna=False)"
   ]
  },
  {
   "cell_type": "code",
   "execution_count": 37,
   "metadata": {},
   "outputs": [
    {
     "data": {
      "text/html": [
       "<div>\n",
       "<style scoped>\n",
       "    .dataframe tbody tr th:only-of-type {\n",
       "        vertical-align: middle;\n",
       "    }\n",
       "\n",
       "    .dataframe tbody tr th {\n",
       "        vertical-align: top;\n",
       "    }\n",
       "\n",
       "    .dataframe thead tr th {\n",
       "        text-align: left;\n",
       "    }\n",
       "\n",
       "    .dataframe thead tr:last-of-type th {\n",
       "        text-align: right;\n",
       "    }\n",
       "</style>\n",
       "<table border=\"1\" class=\"dataframe\">\n",
       "  <thead>\n",
       "    <tr>\n",
       "      <th></th>\n",
       "      <th colspan=\"2\" halign=\"left\">bd</th>\n",
       "    </tr>\n",
       "    <tr>\n",
       "      <th></th>\n",
       "      <th>amin</th>\n",
       "      <th>amax</th>\n",
       "    </tr>\n",
       "    <tr>\n",
       "      <th>age_group</th>\n",
       "      <th></th>\n",
       "      <th></th>\n",
       "    </tr>\n",
       "  </thead>\n",
       "  <tbody>\n",
       "    <tr>\n",
       "      <th>GenZ</th>\n",
       "      <td>14.0</td>\n",
       "      <td>21.0</td>\n",
       "    </tr>\n",
       "    <tr>\n",
       "      <th>Millennial</th>\n",
       "      <td>22.0</td>\n",
       "      <td>37.0</td>\n",
       "    </tr>\n",
       "    <tr>\n",
       "      <th>GenX</th>\n",
       "      <td>38.0</td>\n",
       "      <td>53.0</td>\n",
       "    </tr>\n",
       "    <tr>\n",
       "      <th>Boomer</th>\n",
       "      <td>54.0</td>\n",
       "      <td>69.0</td>\n",
       "    </tr>\n",
       "  </tbody>\n",
       "</table>\n",
       "</div>"
      ],
      "text/plain": [
       "              bd      \n",
       "            amin  amax\n",
       "age_group             \n",
       "GenZ        14.0  21.0\n",
       "Millennial  22.0  37.0\n",
       "GenX        38.0  53.0\n",
       "Boomer      54.0  69.0"
      ]
     },
     "execution_count": 37,
     "metadata": {},
     "output_type": "execute_result"
    }
   ],
   "source": [
    "bd_df.groupby('age_group')[['bd']].agg([np.min,np.max])"
   ]
  },
  {
   "cell_type": "code",
   "execution_count": 38,
   "metadata": {},
   "outputs": [
    {
     "data": {
      "text/html": [
       "<div>\n",
       "<style scoped>\n",
       "    .dataframe tbody tr th:only-of-type {\n",
       "        vertical-align: middle;\n",
       "    }\n",
       "\n",
       "    .dataframe tbody tr th {\n",
       "        vertical-align: top;\n",
       "    }\n",
       "\n",
       "    .dataframe thead th {\n",
       "        text-align: right;\n",
       "    }\n",
       "</style>\n",
       "<table border=\"1\" class=\"dataframe\">\n",
       "  <thead>\n",
       "    <tr style=\"text-align: right;\">\n",
       "      <th></th>\n",
       "      <th>is_churn</th>\n",
       "      <th>is_auto_renew</th>\n",
       "    </tr>\n",
       "    <tr>\n",
       "      <th>age_group</th>\n",
       "      <th></th>\n",
       "      <th></th>\n",
       "    </tr>\n",
       "  </thead>\n",
       "  <tbody>\n",
       "    <tr>\n",
       "      <th>GenZ</th>\n",
       "      <td>0.263271</td>\n",
       "      <td>0.555112</td>\n",
       "    </tr>\n",
       "    <tr>\n",
       "      <th>Millennial</th>\n",
       "      <td>0.138483</td>\n",
       "      <td>0.899233</td>\n",
       "    </tr>\n",
       "    <tr>\n",
       "      <th>GenX</th>\n",
       "      <td>0.142576</td>\n",
       "      <td>0.952607</td>\n",
       "    </tr>\n",
       "    <tr>\n",
       "      <th>Boomer</th>\n",
       "      <td>0.116959</td>\n",
       "      <td>0.950920</td>\n",
       "    </tr>\n",
       "  </tbody>\n",
       "</table>\n",
       "</div>"
      ],
      "text/plain": [
       "            is_churn  is_auto_renew\n",
       "age_group                          \n",
       "GenZ        0.263271       0.555112\n",
       "Millennial  0.138483       0.899233\n",
       "GenX        0.142576       0.952607\n",
       "Boomer      0.116959       0.950920"
      ]
     },
     "execution_count": 38,
     "metadata": {},
     "output_type": "execute_result"
    }
   ],
   "source": [
    "bd_df.groupby('age_group')[['is_churn','is_auto_renew']].mean()"
   ]
  },
  {
   "cell_type": "code",
   "execution_count": 39,
   "metadata": {},
   "outputs": [
    {
     "data": {
      "text/plain": [
       "(10407, 17)"
      ]
     },
     "execution_count": 39,
     "metadata": {},
     "output_type": "execute_result"
    }
   ],
   "source": [
    "bd_df.shape"
   ]
  },
  {
   "cell_type": "markdown",
   "metadata": {},
   "source": [
    "### <font color = \"red\">Gender</font> Null Values:\n",
    "Since gender is missing more than half of its values, it will not be a useful customer segment"
   ]
  },
  {
   "cell_type": "code",
   "execution_count": 40,
   "metadata": {
    "scrolled": true
   },
   "outputs": [
    {
     "name": "stderr",
     "output_type": "stream",
     "text": [
      "/Users/thisbekristin/opt/miniconda3/lib/python3.7/site-packages/seaborn/_decorators.py:43: FutureWarning: Pass the following variable as a keyword arg: x. From version 0.12, the only valid positional argument will be `data`, and passing other arguments without an explicit keyword will result in an error or misinterpretation.\n",
      "  FutureWarning\n"
     ]
    },
    {
     "data": {
      "text/plain": [
       "<AxesSubplot:xlabel='gender', ylabel='count'>"
      ]
     },
     "execution_count": 40,
     "metadata": {},
     "output_type": "execute_result"
    },
    {
     "data": {
      "image/png": "[encoded data removed]",
      "text/plain": [
       "<Figure size 432x288 with 1 Axes>"
      ]
     },
     "metadata": {
      "needs_background": "light"
     },
     "output_type": "display_data"
    }
   ],
   "source": [
    "sns.countplot(df['gender'])"
   ]
  },
  {
   "cell_type": "markdown",
   "metadata": {},
   "source": [
    "### <font color = \"green\">Registered_Via</font> Value Counts:\n",
    "Despite 13 having the lowest churn, there are less people under that plan. More members were registered_via 7.0, and yielded the lowest churn considering the number enrolled.\n"
   ]
  },
  {
   "cell_type": "code",
   "execution_count": 41,
   "metadata": {},
   "outputs": [
    {
     "data": {
      "text/plain": [
       "7.0     11624\n",
       "9.0      6052\n",
       "3.0      2809\n",
       "NaN      2525\n",
       "4.0      1291\n",
       "13.0       71\n",
       "Name: registered_via, dtype: int64"
      ]
     },
     "execution_count": 41,
     "metadata": {},
     "output_type": "execute_result"
    }
   ],
   "source": [
    "df['registered_via'].value_counts(dropna=False)"
   ]
  },
  {
   "cell_type": "code",
   "execution_count": 42,
   "metadata": {},
   "outputs": [
    {
     "data": {
      "text/plain": [
       "<AxesSubplot:xlabel='registered_via', ylabel='count'>"
      ]
     },
     "execution_count": 42,
     "metadata": {},
     "output_type": "execute_result"
    },
    {
     "data": {
      "image/png": "[encoded data removed]",
      "text/plain": [
       "<Figure size 432x288 with 1 Axes>"
      ]
     },
     "metadata": {
      "needs_background": "light"
     },
     "output_type": "display_data"
    }
   ],
   "source": [
    "pop_registered_via = pd.DataFrame(df['registered_via'].value_counts(dropna=False)).reset_index()\n",
    "pop_registered_via.columns = ['registered_via','count']\n",
    "sns.barplot(x='registered_via',y='count',data=pop_registered_via)"
   ]
  },
  {
   "cell_type": "code",
   "execution_count": 43,
   "metadata": {},
   "outputs": [
    {
     "data": {
      "text/html": [
       "<div>\n",
       "<style scoped>\n",
       "    .dataframe tbody tr th:only-of-type {\n",
       "        vertical-align: middle;\n",
       "    }\n",
       "\n",
       "    .dataframe tbody tr th {\n",
       "        vertical-align: top;\n",
       "    }\n",
       "\n",
       "    .dataframe thead th {\n",
       "        text-align: right;\n",
       "    }\n",
       "</style>\n",
       "<table border=\"1\" class=\"dataframe\">\n",
       "  <thead>\n",
       "    <tr style=\"text-align: right;\">\n",
       "      <th></th>\n",
       "      <th>registered_via</th>\n",
       "      <th>is_churn</th>\n",
       "      <th>is_auto_renew</th>\n",
       "    </tr>\n",
       "  </thead>\n",
       "  <tbody>\n",
       "    <tr>\n",
       "      <th>0</th>\n",
       "      <td>4.0</td>\n",
       "      <td>0.249419</td>\n",
       "      <td>0.630796</td>\n",
       "    </tr>\n",
       "    <tr>\n",
       "      <th>1</th>\n",
       "      <td>3.0</td>\n",
       "      <td>0.170879</td>\n",
       "      <td>0.760477</td>\n",
       "    </tr>\n",
       "    <tr>\n",
       "      <th>2</th>\n",
       "      <td>9.0</td>\n",
       "      <td>0.144085</td>\n",
       "      <td>0.854514</td>\n",
       "    </tr>\n",
       "    <tr>\n",
       "      <th>3</th>\n",
       "      <td>7.0</td>\n",
       "      <td>0.096266</td>\n",
       "      <td>0.994274</td>\n",
       "    </tr>\n",
       "    <tr>\n",
       "      <th>4</th>\n",
       "      <td>13.0</td>\n",
       "      <td>0.028169</td>\n",
       "      <td>1.000000</td>\n",
       "    </tr>\n",
       "  </tbody>\n",
       "</table>\n",
       "</div>"
      ],
      "text/plain": [
       "   registered_via  is_churn  is_auto_renew\n",
       "0             4.0  0.249419       0.630796\n",
       "1             3.0  0.170879       0.760477\n",
       "2             9.0  0.144085       0.854514\n",
       "3             7.0  0.096266       0.994274\n",
       "4            13.0  0.028169       1.000000"
      ]
     },
     "execution_count": 43,
     "metadata": {},
     "output_type": "execute_result"
    }
   ],
   "source": [
    "registered_via = pd.DataFrame(df.groupby('registered_via')[['is_churn','is_auto_renew']].agg('mean').sort_values(by='is_churn',ascending=False)).reset_index()\n",
    "registered_via"
   ]
  },
  {
   "cell_type": "code",
   "execution_count": 44,
   "metadata": {},
   "outputs": [
    {
     "data": {
      "text/plain": [
       "<AxesSubplot:xlabel='registered_via', ylabel='is_churn'>"
      ]
     },
     "execution_count": 44,
     "metadata": {},
     "output_type": "execute_result"
    },
    {
     "data": {
      "image/png": "[encoded data removed]",
      "text/plain": [
       "<Figure size 432x288 with 1 Axes>"
      ]
     },
     "metadata": {
      "needs_background": "light"
     },
     "output_type": "display_data"
    }
   ],
   "source": [
    "sns.barplot(x='registered_via', y='is_churn', data=registered_via)"
   ]
  },
  {
   "cell_type": "markdown",
   "metadata": {},
   "source": [
    "### Payment_Method_id Value Counts:\n",
    "The most payment_method_id used is **41**."
   ]
  },
  {
   "cell_type": "code",
   "execution_count": 45,
   "metadata": {},
   "outputs": [
    {
     "data": {
      "text/plain": [
       "41.0    13302\n",
       "39.0     2840\n",
       "40.0     1590\n",
       "36.0     1512\n",
       "38.0      982\n",
       "NaN       784\n",
       "37.0      769\n",
       "34.0      631\n",
       "29.0      418\n",
       "30.0      396\n",
       "33.0      298\n",
       "31.0      224\n",
       "32.0      194\n",
       "15.0       52\n",
       "19.0       49\n",
       "17.0       45\n",
       "21.0       45\n",
       "27.0       43\n",
       "28.0       43\n",
       "23.0       42\n",
       "Name: payment_method_id, dtype: int64"
      ]
     },
     "execution_count": 45,
     "metadata": {},
     "output_type": "execute_result"
    }
   ],
   "source": [
    "df['payment_method_id'].value_counts(dropna=False).head(20)"
   ]
  },
  {
   "cell_type": "code",
   "execution_count": 46,
   "metadata": {},
   "outputs": [
    {
     "data": {
      "text/plain": [
       "<AxesSubplot:xlabel='payment_method_id', ylabel='count'>"
      ]
     },
     "execution_count": 46,
     "metadata": {},
     "output_type": "execute_result"
    },
    {
     "data": {
      "image/png": "[encoded data removed]",
      "text/plain": [
       "<Figure size 432x288 with 1 Axes>"
      ]
     },
     "metadata": {
      "needs_background": "light"
     },
     "output_type": "display_data"
    }
   ],
   "source": [
    "pop_payment = pd.DataFrame(df['payment_method_id'].value_counts(dropna=False)).reset_index().head(13)\n",
    "pop_payment.columns = ['payment_method_id','count']\n",
    "sns.barplot(x='payment_method_id',y='count',data=pop_payment)"
   ]
  },
  {
   "cell_type": "markdown",
   "metadata": {},
   "source": [
    "#### Further exploration for payment methods over 36"
   ]
  },
  {
   "cell_type": "code",
   "execution_count": 47,
   "metadata": {},
   "outputs": [],
   "source": [
    "payment = df[df['payment_method_id'] >= 36]"
   ]
  },
  {
   "cell_type": "code",
   "execution_count": 48,
   "metadata": {},
   "outputs": [
    {
     "data": {
      "text/html": [
       "<div>\n",
       "<style scoped>\n",
       "    .dataframe tbody tr th:only-of-type {\n",
       "        vertical-align: middle;\n",
       "    }\n",
       "\n",
       "    .dataframe tbody tr th {\n",
       "        vertical-align: top;\n",
       "    }\n",
       "\n",
       "    .dataframe thead th {\n",
       "        text-align: right;\n",
       "    }\n",
       "</style>\n",
       "<table border=\"1\" class=\"dataframe\">\n",
       "  <thead>\n",
       "    <tr style=\"text-align: right;\">\n",
       "      <th></th>\n",
       "      <th></th>\n",
       "      <th>is_churn</th>\n",
       "      <th>is_auto_renew</th>\n",
       "    </tr>\n",
       "    <tr>\n",
       "      <th>payment_method_id</th>\n",
       "      <th>city_member_pop</th>\n",
       "      <th></th>\n",
       "      <th></th>\n",
       "    </tr>\n",
       "  </thead>\n",
       "  <tbody>\n",
       "    <tr>\n",
       "      <th rowspan=\"2\" valign=\"top\">36.0</th>\n",
       "      <th>high</th>\n",
       "      <td>0.113786</td>\n",
       "      <td>0.671772</td>\n",
       "    </tr>\n",
       "    <tr>\n",
       "      <th>low</th>\n",
       "      <td>0.093839</td>\n",
       "      <td>0.729858</td>\n",
       "    </tr>\n",
       "    <tr>\n",
       "      <th rowspan=\"2\" valign=\"top\">37.0</th>\n",
       "      <th>high</th>\n",
       "      <td>NaN</td>\n",
       "      <td>NaN</td>\n",
       "    </tr>\n",
       "    <tr>\n",
       "      <th>low</th>\n",
       "      <td>0.038360</td>\n",
       "      <td>1.000000</td>\n",
       "    </tr>\n",
       "    <tr>\n",
       "      <th rowspan=\"2\" valign=\"top\">38.0</th>\n",
       "      <th>high</th>\n",
       "      <td>0.318681</td>\n",
       "      <td>0.000000</td>\n",
       "    </tr>\n",
       "    <tr>\n",
       "      <th>low</th>\n",
       "      <td>0.280389</td>\n",
       "      <td>0.000000</td>\n",
       "    </tr>\n",
       "    <tr>\n",
       "      <th rowspan=\"2\" valign=\"top\">39.0</th>\n",
       "      <th>high</th>\n",
       "      <td>0.000000</td>\n",
       "      <td>1.000000</td>\n",
       "    </tr>\n",
       "    <tr>\n",
       "      <th>low</th>\n",
       "      <td>0.056835</td>\n",
       "      <td>1.000000</td>\n",
       "    </tr>\n",
       "    <tr>\n",
       "      <th rowspan=\"2\" valign=\"top\">40.0</th>\n",
       "      <th>high</th>\n",
       "      <td>0.000000</td>\n",
       "      <td>1.000000</td>\n",
       "    </tr>\n",
       "    <tr>\n",
       "      <th>low</th>\n",
       "      <td>0.072289</td>\n",
       "      <td>1.000000</td>\n",
       "    </tr>\n",
       "    <tr>\n",
       "      <th rowspan=\"2\" valign=\"top\">41.0</th>\n",
       "      <th>high</th>\n",
       "      <td>0.076143</td>\n",
       "      <td>1.000000</td>\n",
       "    </tr>\n",
       "    <tr>\n",
       "      <th>low</th>\n",
       "      <td>0.141543</td>\n",
       "      <td>1.000000</td>\n",
       "    </tr>\n",
       "  </tbody>\n",
       "</table>\n",
       "</div>"
      ],
      "text/plain": [
       "                                   is_churn  is_auto_renew\n",
       "payment_method_id city_member_pop                         \n",
       "36.0              high             0.113786       0.671772\n",
       "                  low              0.093839       0.729858\n",
       "37.0              high                  NaN            NaN\n",
       "                  low              0.038360       1.000000\n",
       "38.0              high             0.318681       0.000000\n",
       "                  low              0.280389       0.000000\n",
       "39.0              high             0.000000       1.000000\n",
       "                  low              0.056835       1.000000\n",
       "40.0              high             0.000000       1.000000\n",
       "                  low              0.072289       1.000000\n",
       "41.0              high             0.076143       1.000000\n",
       "                  low              0.141543       1.000000"
      ]
     },
     "execution_count": 48,
     "metadata": {},
     "output_type": "execute_result"
    }
   ],
   "source": [
    "payment.groupby(['payment_method_id','city_member_pop'])[['is_churn','is_auto_renew']].mean().sort_values(by='payment_method_id',ascending=True)"
   ]
  },
  {
   "cell_type": "markdown",
   "metadata": {},
   "source": [
    "### Payment_Plan_Days\n",
    "Popular length of membership plan is **30** days"
   ]
  },
  {
   "cell_type": "code",
   "execution_count": 49,
   "metadata": {},
   "outputs": [
    {
     "data": {
      "text/plain": [
       "30.0     23067\n",
       "NaN        784\n",
       "410.0       82\n",
       "90.0        76\n",
       "195.0       67\n",
       "180.0       63\n",
       "0.0         40\n",
       "240.0       38\n",
       "60.0        36\n",
       "7.0         30\n",
       "360.0       29\n",
       "100.0       18\n",
       "120.0       14\n",
       "395.0        6\n",
       "200.0        5\n",
       "400.0        4\n",
       "1.0          3\n",
       "450.0        2\n",
       "80.0         2\n",
       "365.0        2\n",
       "70.0         1\n",
       "415.0        1\n",
       "14.0         1\n",
       "110.0        1\n",
       "Name: payment_plan_days, dtype: int64"
      ]
     },
     "execution_count": 49,
     "metadata": {},
     "output_type": "execute_result"
    }
   ],
   "source": [
    "df['payment_plan_days'].value_counts(dropna=False)"
   ]
  },
  {
   "cell_type": "code",
   "execution_count": 50,
   "metadata": {},
   "outputs": [
    {
     "data": {
      "text/plain": [
       "24372"
      ]
     },
     "execution_count": 50,
     "metadata": {},
     "output_type": "execute_result"
    }
   ],
   "source": [
    "len(df['payment_plan_days'])"
   ]
  },
  {
   "cell_type": "code",
   "execution_count": 51,
   "metadata": {},
   "outputs": [
    {
     "data": {
      "text/html": [
       "<div>\n",
       "<style scoped>\n",
       "    .dataframe tbody tr th:only-of-type {\n",
       "        vertical-align: middle;\n",
       "    }\n",
       "\n",
       "    .dataframe tbody tr th {\n",
       "        vertical-align: top;\n",
       "    }\n",
       "\n",
       "    .dataframe thead th {\n",
       "        text-align: right;\n",
       "    }\n",
       "</style>\n",
       "<table border=\"1\" class=\"dataframe\">\n",
       "  <thead>\n",
       "    <tr style=\"text-align: right;\">\n",
       "      <th></th>\n",
       "      <th>is_churn</th>\n",
       "    </tr>\n",
       "    <tr>\n",
       "      <th>payment_plan_days</th>\n",
       "      <th></th>\n",
       "    </tr>\n",
       "  </thead>\n",
       "  <tbody>\n",
       "    <tr>\n",
       "      <th>30.0</th>\n",
       "      <td>0.083365</td>\n",
       "    </tr>\n",
       "    <tr>\n",
       "      <th>0.0</th>\n",
       "      <td>0.175000</td>\n",
       "    </tr>\n",
       "    <tr>\n",
       "      <th>7.0</th>\n",
       "      <td>0.444444</td>\n",
       "    </tr>\n",
       "    <tr>\n",
       "      <th>90.0</th>\n",
       "      <td>0.947368</td>\n",
       "    </tr>\n",
       "    <tr>\n",
       "      <th>14.0</th>\n",
       "      <td>1.000000</td>\n",
       "    </tr>\n",
       "    <tr>\n",
       "      <th>110.0</th>\n",
       "      <td>1.000000</td>\n",
       "    </tr>\n",
       "    <tr>\n",
       "      <th>120.0</th>\n",
       "      <td>1.000000</td>\n",
       "    </tr>\n",
       "    <tr>\n",
       "      <th>180.0</th>\n",
       "      <td>1.000000</td>\n",
       "    </tr>\n",
       "    <tr>\n",
       "      <th>195.0</th>\n",
       "      <td>1.000000</td>\n",
       "    </tr>\n",
       "    <tr>\n",
       "      <th>360.0</th>\n",
       "      <td>1.000000</td>\n",
       "    </tr>\n",
       "    <tr>\n",
       "      <th>365.0</th>\n",
       "      <td>1.000000</td>\n",
       "    </tr>\n",
       "    <tr>\n",
       "      <th>410.0</th>\n",
       "      <td>1.000000</td>\n",
       "    </tr>\n",
       "    <tr>\n",
       "      <th>450.0</th>\n",
       "      <td>1.000000</td>\n",
       "    </tr>\n",
       "  </tbody>\n",
       "</table>\n",
       "</div>"
      ],
      "text/plain": [
       "                   is_churn\n",
       "payment_plan_days          \n",
       "30.0               0.083365\n",
       "0.0                0.175000\n",
       "7.0                0.444444\n",
       "90.0               0.947368\n",
       "14.0               1.000000\n",
       "110.0              1.000000\n",
       "120.0              1.000000\n",
       "180.0              1.000000\n",
       "195.0              1.000000\n",
       "360.0              1.000000\n",
       "365.0              1.000000\n",
       "410.0              1.000000\n",
       "450.0              1.000000"
      ]
     },
     "execution_count": 51,
     "metadata": {},
     "output_type": "execute_result"
    }
   ],
   "source": [
    "payment.groupby(['payment_plan_days'])[['is_churn']].mean().sort_values(by='is_churn',ascending=True)"
   ]
  },
  {
   "cell_type": "code",
   "execution_count": 52,
   "metadata": {},
   "outputs": [
    {
     "data": {
      "text/html": [
       "<div>\n",
       "<style scoped>\n",
       "    .dataframe tbody tr th:only-of-type {\n",
       "        vertical-align: middle;\n",
       "    }\n",
       "\n",
       "    .dataframe tbody tr th {\n",
       "        vertical-align: top;\n",
       "    }\n",
       "\n",
       "    .dataframe thead th {\n",
       "        text-align: right;\n",
       "    }\n",
       "</style>\n",
       "<table border=\"1\" class=\"dataframe\">\n",
       "  <thead>\n",
       "    <tr style=\"text-align: right;\">\n",
       "      <th></th>\n",
       "      <th>is_churn</th>\n",
       "      <th>is_auto_renew</th>\n",
       "    </tr>\n",
       "    <tr>\n",
       "      <th>registered_via</th>\n",
       "      <th></th>\n",
       "      <th></th>\n",
       "    </tr>\n",
       "  </thead>\n",
       "  <tbody>\n",
       "    <tr>\n",
       "      <th>13.0</th>\n",
       "      <td>0.014286</td>\n",
       "      <td>1.000000</td>\n",
       "    </tr>\n",
       "    <tr>\n",
       "      <th>9.0</th>\n",
       "      <td>0.074416</td>\n",
       "      <td>0.891182</td>\n",
       "    </tr>\n",
       "    <tr>\n",
       "      <th>3.0</th>\n",
       "      <td>0.084376</td>\n",
       "      <td>0.798547</td>\n",
       "    </tr>\n",
       "    <tr>\n",
       "      <th>7.0</th>\n",
       "      <td>0.086528</td>\n",
       "      <td>0.997293</td>\n",
       "    </tr>\n",
       "    <tr>\n",
       "      <th>4.0</th>\n",
       "      <td>0.117813</td>\n",
       "      <td>0.679548</td>\n",
       "    </tr>\n",
       "  </tbody>\n",
       "</table>\n",
       "</div>"
      ],
      "text/plain": [
       "                is_churn  is_auto_renew\n",
       "registered_via                         \n",
       "13.0            0.014286       1.000000\n",
       "9.0             0.074416       0.891182\n",
       "3.0             0.084376       0.798547\n",
       "7.0             0.086528       0.997293\n",
       "4.0             0.117813       0.679548"
      ]
     },
     "execution_count": 52,
     "metadata": {},
     "output_type": "execute_result"
    }
   ],
   "source": [
    "payment_plan = df[df['payment_plan_days']==30]\n",
    "payment_plan.groupby(['registered_via'])[['is_churn','is_auto_renew']].mean().sort_values(by='is_churn',ascending=True)"
   ]
  },
  {
   "cell_type": "markdown",
   "metadata": {},
   "source": [
    "### Plan_List_Price"
   ]
  },
  {
   "cell_type": "code",
   "execution_count": 53,
   "metadata": {},
   "outputs": [
    {
     "data": {
      "text/plain": [
       "149.0     11796\n",
       "99.0       7630\n",
       "180.0      1930\n",
       "129.0       974\n",
       "NaN         784\n",
       "100.0       687\n",
       "0.0         115\n",
       "1788.0       85\n",
       "894.0        68\n",
       "536.0        52\n",
       "1200.0       49\n",
       "300.0        41\n",
       "150.0        31\n",
       "477.0        22\n",
       "447.0        19\n",
       "480.0        15\n",
       "298.0        12\n",
       "600.0        12\n",
       "1599.0       11\n",
       "119.0        11\n",
       "120.0         6\n",
       "35.0          5\n",
       "930.0         4\n",
       "500.0         3\n",
       "400.0         2\n",
       "799.0         2\n",
       "450.0         2\n",
       "131.0         1\n",
       "1299.0        1\n",
       "1000.0        1\n",
       "350.0         1\n",
       "Name: plan_list_price, dtype: int64"
      ]
     },
     "execution_count": 53,
     "metadata": {},
     "output_type": "execute_result"
    }
   ],
   "source": [
    "df['plan_list_price'].value_counts(dropna=False)"
   ]
  },
  {
   "cell_type": "code",
   "execution_count": 54,
   "metadata": {},
   "outputs": [
    {
     "data": {
      "text/html": [
       "<div>\n",
       "<style scoped>\n",
       "    .dataframe tbody tr th:only-of-type {\n",
       "        vertical-align: middle;\n",
       "    }\n",
       "\n",
       "    .dataframe tbody tr th {\n",
       "        vertical-align: top;\n",
       "    }\n",
       "\n",
       "    .dataframe thead th {\n",
       "        text-align: right;\n",
       "    }\n",
       "</style>\n",
       "<table border=\"1\" class=\"dataframe\">\n",
       "  <thead>\n",
       "    <tr style=\"text-align: right;\">\n",
       "      <th></th>\n",
       "      <th></th>\n",
       "      <th>is_churn</th>\n",
       "    </tr>\n",
       "    <tr>\n",
       "      <th>payment_plan_days</th>\n",
       "      <th>plan_list_price</th>\n",
       "      <th></th>\n",
       "    </tr>\n",
       "  </thead>\n",
       "  <tbody>\n",
       "    <tr>\n",
       "      <th rowspan=\"10\" valign=\"top\">30.0</th>\n",
       "      <th>131.0</th>\n",
       "      <td>0.000000</td>\n",
       "    </tr>\n",
       "    <tr>\n",
       "      <th>100.0</th>\n",
       "      <td>0.027656</td>\n",
       "    </tr>\n",
       "    <tr>\n",
       "      <th>99.0</th>\n",
       "      <td>0.044168</td>\n",
       "    </tr>\n",
       "    <tr>\n",
       "      <th>150.0</th>\n",
       "      <td>0.064516</td>\n",
       "    </tr>\n",
       "    <tr>\n",
       "      <th>149.0</th>\n",
       "      <td>0.099610</td>\n",
       "    </tr>\n",
       "    <tr>\n",
       "      <th>180.0</th>\n",
       "      <td>0.107254</td>\n",
       "    </tr>\n",
       "    <tr>\n",
       "      <th>129.0</th>\n",
       "      <td>0.162218</td>\n",
       "    </tr>\n",
       "    <tr>\n",
       "      <th>120.0</th>\n",
       "      <td>0.333333</td>\n",
       "    </tr>\n",
       "    <tr>\n",
       "      <th>119.0</th>\n",
       "      <td>0.545455</td>\n",
       "    </tr>\n",
       "    <tr>\n",
       "      <th>0.0</th>\n",
       "      <td>1.000000</td>\n",
       "    </tr>\n",
       "  </tbody>\n",
       "</table>\n",
       "</div>"
      ],
      "text/plain": [
       "                                   is_churn\n",
       "payment_plan_days plan_list_price          \n",
       "30.0              131.0            0.000000\n",
       "                  100.0            0.027656\n",
       "                  99.0             0.044168\n",
       "                  150.0            0.064516\n",
       "                  149.0            0.099610\n",
       "                  180.0            0.107254\n",
       "                  129.0            0.162218\n",
       "                  120.0            0.333333\n",
       "                  119.0            0.545455\n",
       "                  0.0              1.000000"
      ]
     },
     "execution_count": 54,
     "metadata": {},
     "output_type": "execute_result"
    }
   ],
   "source": [
    "payment_plan.groupby(['payment_plan_days','plan_list_price'])[['is_churn']].mean().sort_values(by='is_churn',ascending=True)"
   ]
  },
  {
   "cell_type": "markdown",
   "metadata": {},
   "source": [
    "### Actual_Amount_Paid"
   ]
  },
  {
   "cell_type": "code",
   "execution_count": 55,
   "metadata": {},
   "outputs": [
    {
     "data": {
      "text/plain": [
       "149.0     11704\n",
       "99.0       7643\n",
       "180.0      1867\n",
       "129.0       983\n",
       "NaN         784\n",
       "100.0       687\n",
       "0.0         162\n",
       "119.0        99\n",
       "1788.0       85\n",
       "894.0        68\n",
       "536.0        52\n",
       "1200.0       49\n",
       "300.0        41\n",
       "150.0        31\n",
       "477.0        22\n",
       "447.0        19\n",
       "480.0        15\n",
       "600.0        12\n",
       "298.0        12\n",
       "1599.0       11\n",
       "35.0          5\n",
       "930.0         4\n",
       "120.0         4\n",
       "500.0         3\n",
       "400.0         2\n",
       "799.0         2\n",
       "450.0         2\n",
       "1299.0        1\n",
       "1000.0        1\n",
       "131.0         1\n",
       "350.0         1\n",
       "Name: actual_amount_paid, dtype: int64"
      ]
     },
     "execution_count": 55,
     "metadata": {},
     "output_type": "execute_result"
    }
   ],
   "source": [
    "df['actual_amount_paid'].value_counts(dropna=False)"
   ]
  },
  {
   "cell_type": "code",
   "execution_count": 56,
   "metadata": {},
   "outputs": [
    {
     "data": {
      "text/html": [
       "<div>\n",
       "<style scoped>\n",
       "    .dataframe tbody tr th:only-of-type {\n",
       "        vertical-align: middle;\n",
       "    }\n",
       "\n",
       "    .dataframe tbody tr th {\n",
       "        vertical-align: top;\n",
       "    }\n",
       "\n",
       "    .dataframe thead th {\n",
       "        text-align: right;\n",
       "    }\n",
       "</style>\n",
       "<table border=\"1\" class=\"dataframe\">\n",
       "  <thead>\n",
       "    <tr style=\"text-align: right;\">\n",
       "      <th></th>\n",
       "      <th></th>\n",
       "      <th>is_churn</th>\n",
       "    </tr>\n",
       "    <tr>\n",
       "      <th>payment_plan_days</th>\n",
       "      <th>actual_amount_paid</th>\n",
       "      <th></th>\n",
       "    </tr>\n",
       "  </thead>\n",
       "  <tbody>\n",
       "    <tr>\n",
       "      <th rowspan=\"10\" valign=\"top\">30.0</th>\n",
       "      <th>120.0</th>\n",
       "      <td>0.000000</td>\n",
       "    </tr>\n",
       "    <tr>\n",
       "      <th>131.0</th>\n",
       "      <td>0.000000</td>\n",
       "    </tr>\n",
       "    <tr>\n",
       "      <th>100.0</th>\n",
       "      <td>0.027656</td>\n",
       "    </tr>\n",
       "    <tr>\n",
       "      <th>99.0</th>\n",
       "      <td>0.044093</td>\n",
       "    </tr>\n",
       "    <tr>\n",
       "      <th>150.0</th>\n",
       "      <td>0.064516</td>\n",
       "    </tr>\n",
       "    <tr>\n",
       "      <th>180.0</th>\n",
       "      <td>0.096411</td>\n",
       "    </tr>\n",
       "    <tr>\n",
       "      <th>149.0</th>\n",
       "      <td>0.098081</td>\n",
       "    </tr>\n",
       "    <tr>\n",
       "      <th>129.0</th>\n",
       "      <td>0.162080</td>\n",
       "    </tr>\n",
       "    <tr>\n",
       "      <th>119.0</th>\n",
       "      <td>0.186813</td>\n",
       "    </tr>\n",
       "    <tr>\n",
       "      <th>0.0</th>\n",
       "      <td>0.545455</td>\n",
       "    </tr>\n",
       "  </tbody>\n",
       "</table>\n",
       "</div>"
      ],
      "text/plain": [
       "                                      is_churn\n",
       "payment_plan_days actual_amount_paid          \n",
       "30.0              120.0               0.000000\n",
       "                  131.0               0.000000\n",
       "                  100.0               0.027656\n",
       "                  99.0                0.044093\n",
       "                  150.0               0.064516\n",
       "                  180.0               0.096411\n",
       "                  149.0               0.098081\n",
       "                  129.0               0.162080\n",
       "                  119.0               0.186813\n",
       "                  0.0                 0.545455"
      ]
     },
     "execution_count": 56,
     "metadata": {},
     "output_type": "execute_result"
    }
   ],
   "source": [
    "payment_plan.groupby(['payment_plan_days','actual_amount_paid'])[['is_churn']].mean().sort_values(by='is_churn',ascending=True)"
   ]
  },
  {
   "cell_type": "code",
   "execution_count": null,
   "metadata": {},
   "outputs": [],
   "source": []
  }
 ],
 "metadata": {
  "kernelspec": {
   "display_name": "Python 3",
   "language": "python",
   "name": "python3"
  },
  "language_info": {
   "codemirror_mode": {
    "name": "ipython",
    "version": 3
   },
   "file_extension": ".py",
   "mimetype": "text/x-python",
   "name": "python",
   "nbconvert_exporter": "python",
   "pygments_lexer": "ipython3",
   "version": "3.7.6"
  }
 },
 "nbformat": 4,
 "nbformat_minor": 4
}
