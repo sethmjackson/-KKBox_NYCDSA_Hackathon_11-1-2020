{
 "cells": [
  {
   "cell_type": "code",
   "execution_count": 135,
   "metadata": {},
   "outputs": [],
   "source": [
    "import numpy as np\n",
    "import pandas as pd\n",
    "\n",
    "%matplotlib inline\n",
    "import matplotlib.pyplot as plt"
   ]
  },
  {
   "cell_type": "code",
   "execution_count": 3,
   "metadata": {},
   "outputs": [],
   "source": [
    "churn_df = pd.read_csv('hackathon_data/trunc_churn.csv')\n",
    "members_df = pd.read_csv('hackathon_data/trunc_members.csv')\n",
    "transact_df = pd.read_csv('hackathon_data/trunc_transaction.csv')\n",
    "users_df = pd.read_csv('hackathon_data/trunc_users.csv')"
   ]
  },
  {
   "cell_type": "code",
   "execution_count": 48,
   "metadata": {},
   "outputs": [
    {
     "data": {
      "text/html": [
       "<div>\n",
       "<style scoped>\n",
       "    .dataframe tbody tr th:only-of-type {\n",
       "        vertical-align: middle;\n",
       "    }\n",
       "\n",
       "    .dataframe tbody tr th {\n",
       "        vertical-align: top;\n",
       "    }\n",
       "\n",
       "    .dataframe thead th {\n",
       "        text-align: right;\n",
       "    }\n",
       "</style>\n",
       "<table border=\"1\" class=\"dataframe\">\n",
       "  <thead>\n",
       "    <tr style=\"text-align: right;\">\n",
       "      <th></th>\n",
       "      <th>msno</th>\n",
       "      <th>is_churn</th>\n",
       "    </tr>\n",
       "  </thead>\n",
       "  <tbody>\n",
       "    <tr>\n",
       "      <th>0</th>\n",
       "      <td>KQChsHhR1fUTZzE2Yw5Fe95WM2sYw1H8nqtjI1pn8B4=</td>\n",
       "      <td>0</td>\n",
       "    </tr>\n",
       "    <tr>\n",
       "      <th>1</th>\n",
       "      <td>+99fNJ7lwiWtspk9jUy2jSEwbB9AaFOGWzR47RZtv9U=</td>\n",
       "      <td>0</td>\n",
       "    </tr>\n",
       "    <tr>\n",
       "      <th>2</th>\n",
       "      <td>hKKm8hMOfJdsSWB0MY0GYD2d8rjrjJYbN/vAfXrmxb8=</td>\n",
       "      <td>0</td>\n",
       "    </tr>\n",
       "    <tr>\n",
       "      <th>3</th>\n",
       "      <td>0GDIiFKxkTPgtTtpMBM/pMC8UL5gcY3yn0Fk5X1XLis=</td>\n",
       "      <td>0</td>\n",
       "    </tr>\n",
       "    <tr>\n",
       "      <th>4</th>\n",
       "      <td>R4CKZzUox0f8NyUbRfzws2fXIjM3V/i4q8COoBbSeSI=</td>\n",
       "      <td>0</td>\n",
       "    </tr>\n",
       "  </tbody>\n",
       "</table>\n",
       "</div>"
      ],
      "text/plain": [
       "                                           msno  is_churn\n",
       "0  KQChsHhR1fUTZzE2Yw5Fe95WM2sYw1H8nqtjI1pn8B4=         0\n",
       "1  +99fNJ7lwiWtspk9jUy2jSEwbB9AaFOGWzR47RZtv9U=         0\n",
       "2  hKKm8hMOfJdsSWB0MY0GYD2d8rjrjJYbN/vAfXrmxb8=         0\n",
       "3  0GDIiFKxkTPgtTtpMBM/pMC8UL5gcY3yn0Fk5X1XLis=         0\n",
       "4  R4CKZzUox0f8NyUbRfzws2fXIjM3V/i4q8COoBbSeSI=         0"
      ]
     },
     "execution_count": 48,
     "metadata": {},
     "output_type": "execute_result"
    }
   ],
   "source": [
    "churn_df.head()"
   ]
  },
  {
   "cell_type": "code",
   "execution_count": 20,
   "metadata": {},
   "outputs": [
    {
     "data": {
      "text/html": [
       "<div>\n",
       "<style scoped>\n",
       "    .dataframe tbody tr th:only-of-type {\n",
       "        vertical-align: middle;\n",
       "    }\n",
       "\n",
       "    .dataframe tbody tr th {\n",
       "        vertical-align: top;\n",
       "    }\n",
       "\n",
       "    .dataframe thead th {\n",
       "        text-align: right;\n",
       "    }\n",
       "</style>\n",
       "<table border=\"1\" class=\"dataframe\">\n",
       "  <thead>\n",
       "    <tr style=\"text-align: right;\">\n",
       "      <th></th>\n",
       "      <th>msno</th>\n",
       "      <th>city</th>\n",
       "      <th>bd</th>\n",
       "      <th>gender</th>\n",
       "      <th>registered_via</th>\n",
       "      <th>registration_init_time</th>\n",
       "    </tr>\n",
       "  </thead>\n",
       "  <tbody>\n",
       "    <tr>\n",
       "      <th>0</th>\n",
       "      <td>yLkV2gbZ4GLFwqTOXLVHz0VGrMYcgBGgKZ3kj9RiYu8=</td>\n",
       "      <td>4</td>\n",
       "      <td>30</td>\n",
       "      <td>male</td>\n",
       "      <td>9</td>\n",
       "      <td>20110916</td>\n",
       "    </tr>\n",
       "    <tr>\n",
       "      <th>1</th>\n",
       "      <td>oQCja0OLsoCRoltknOOcdk99Eb+GzOU3ck9Rkhk8ixY=</td>\n",
       "      <td>1</td>\n",
       "      <td>0</td>\n",
       "      <td>NaN</td>\n",
       "      <td>7</td>\n",
       "      <td>20170101</td>\n",
       "    </tr>\n",
       "    <tr>\n",
       "      <th>2</th>\n",
       "      <td>14UsNUmAV8hPhH20iItmTwdj4WuPdSgl+IFxxYv2UAs=</td>\n",
       "      <td>13</td>\n",
       "      <td>26</td>\n",
       "      <td>female</td>\n",
       "      <td>9</td>\n",
       "      <td>20060904</td>\n",
       "    </tr>\n",
       "    <tr>\n",
       "      <th>3</th>\n",
       "      <td>U1sC/tbHj1wxzTlS1MSkkNebBe+1Tl1D7EQD2a1eohU=</td>\n",
       "      <td>4</td>\n",
       "      <td>28</td>\n",
       "      <td>female</td>\n",
       "      <td>9</td>\n",
       "      <td>20061107</td>\n",
       "    </tr>\n",
       "    <tr>\n",
       "      <th>4</th>\n",
       "      <td>UlMtrW+Fd1orwHKvujHcuLE7al80WF4Bw8C9ypL19HA=</td>\n",
       "      <td>13</td>\n",
       "      <td>35</td>\n",
       "      <td>female</td>\n",
       "      <td>9</td>\n",
       "      <td>20061120</td>\n",
       "    </tr>\n",
       "  </tbody>\n",
       "</table>\n",
       "</div>"
      ],
      "text/plain": [
       "                                           msno  city  bd  gender  \\\n",
       "0  yLkV2gbZ4GLFwqTOXLVHz0VGrMYcgBGgKZ3kj9RiYu8=     4  30    male   \n",
       "1  oQCja0OLsoCRoltknOOcdk99Eb+GzOU3ck9Rkhk8ixY=     1   0     NaN   \n",
       "2  14UsNUmAV8hPhH20iItmTwdj4WuPdSgl+IFxxYv2UAs=    13  26  female   \n",
       "3  U1sC/tbHj1wxzTlS1MSkkNebBe+1Tl1D7EQD2a1eohU=     4  28  female   \n",
       "4  UlMtrW+Fd1orwHKvujHcuLE7al80WF4Bw8C9ypL19HA=    13  35  female   \n",
       "\n",
       "   registered_via  registration_init_time  \n",
       "0               9                20110916  \n",
       "1               7                20170101  \n",
       "2               9                20060904  \n",
       "3               9                20061107  \n",
       "4               9                20061120  "
      ]
     },
     "execution_count": 20,
     "metadata": {},
     "output_type": "execute_result"
    }
   ],
   "source": [
    "members_df.head()"
   ]
  },
  {
   "cell_type": "code",
   "execution_count": 51,
   "metadata": {},
   "outputs": [
    {
     "data": {
      "text/html": [
       "<div>\n",
       "<style scoped>\n",
       "    .dataframe tbody tr th:only-of-type {\n",
       "        vertical-align: middle;\n",
       "    }\n",
       "\n",
       "    .dataframe tbody tr th {\n",
       "        vertical-align: top;\n",
       "    }\n",
       "\n",
       "    .dataframe thead th {\n",
       "        text-align: right;\n",
       "    }\n",
       "</style>\n",
       "<table border=\"1\" class=\"dataframe\">\n",
       "  <thead>\n",
       "    <tr style=\"text-align: right;\">\n",
       "      <th></th>\n",
       "      <th>msno</th>\n",
       "      <th>payment_method_id</th>\n",
       "      <th>payment_plan_days</th>\n",
       "      <th>plan_list_price</th>\n",
       "      <th>actual_amount_paid</th>\n",
       "      <th>is_auto_renew</th>\n",
       "      <th>transaction_date</th>\n",
       "      <th>membership_expire_date</th>\n",
       "      <th>is_cancel</th>\n",
       "    </tr>\n",
       "  </thead>\n",
       "  <tbody>\n",
       "    <tr>\n",
       "      <th>0</th>\n",
       "      <td>+vT9Q27OExl3SBsFN6c4qUu4JvqCpRMh8bCYTXr79xk=</td>\n",
       "      <td>41</td>\n",
       "      <td>30</td>\n",
       "      <td>99</td>\n",
       "      <td>99</td>\n",
       "      <td>1</td>\n",
       "      <td>20170312</td>\n",
       "      <td>20170412</td>\n",
       "      <td>0</td>\n",
       "    </tr>\n",
       "    <tr>\n",
       "      <th>1</th>\n",
       "      <td>/CQ/QEofoZl1RDyTxTiiqEPkyndOB8jmrVcfPWl3fSM=</td>\n",
       "      <td>39</td>\n",
       "      <td>30</td>\n",
       "      <td>149</td>\n",
       "      <td>149</td>\n",
       "      <td>1</td>\n",
       "      <td>20170331</td>\n",
       "      <td>20170512</td>\n",
       "      <td>0</td>\n",
       "    </tr>\n",
       "    <tr>\n",
       "      <th>2</th>\n",
       "      <td>/PhaKznHrHOIGcb+hrYFfjjHeyLelfWejGDbbaGpruQ=</td>\n",
       "      <td>41</td>\n",
       "      <td>30</td>\n",
       "      <td>99</td>\n",
       "      <td>99</td>\n",
       "      <td>1</td>\n",
       "      <td>20170305</td>\n",
       "      <td>20170404</td>\n",
       "      <td>0</td>\n",
       "    </tr>\n",
       "    <tr>\n",
       "      <th>3</th>\n",
       "      <td>/WNj5NAZ74mcdDcTVTjnshGiJbheNdHmoAzew/7AUQc=</td>\n",
       "      <td>41</td>\n",
       "      <td>30</td>\n",
       "      <td>149</td>\n",
       "      <td>149</td>\n",
       "      <td>1</td>\n",
       "      <td>20170331</td>\n",
       "      <td>20170430</td>\n",
       "      <td>0</td>\n",
       "    </tr>\n",
       "    <tr>\n",
       "      <th>4</th>\n",
       "      <td>0vd9MiumUNHgTbRS1KIHA+EivDkWZifAijU+ANsLwtI=</td>\n",
       "      <td>41</td>\n",
       "      <td>30</td>\n",
       "      <td>149</td>\n",
       "      <td>149</td>\n",
       "      <td>1</td>\n",
       "      <td>20170326</td>\n",
       "      <td>20170426</td>\n",
       "      <td>0</td>\n",
       "    </tr>\n",
       "  </tbody>\n",
       "</table>\n",
       "</div>"
      ],
      "text/plain": [
       "                                           msno  payment_method_id  \\\n",
       "0  +vT9Q27OExl3SBsFN6c4qUu4JvqCpRMh8bCYTXr79xk=                 41   \n",
       "1  /CQ/QEofoZl1RDyTxTiiqEPkyndOB8jmrVcfPWl3fSM=                 39   \n",
       "2  /PhaKznHrHOIGcb+hrYFfjjHeyLelfWejGDbbaGpruQ=                 41   \n",
       "3  /WNj5NAZ74mcdDcTVTjnshGiJbheNdHmoAzew/7AUQc=                 41   \n",
       "4  0vd9MiumUNHgTbRS1KIHA+EivDkWZifAijU+ANsLwtI=                 41   \n",
       "\n",
       "   payment_plan_days  plan_list_price  actual_amount_paid  is_auto_renew  \\\n",
       "0                 30               99                  99              1   \n",
       "1                 30              149                 149              1   \n",
       "2                 30               99                  99              1   \n",
       "3                 30              149                 149              1   \n",
       "4                 30              149                 149              1   \n",
       "\n",
       "   transaction_date  membership_expire_date  is_cancel  \n",
       "0          20170312                20170412          0  \n",
       "1          20170331                20170512          0  \n",
       "2          20170305                20170404          0  \n",
       "3          20170331                20170430          0  \n",
       "4          20170326                20170426          0  "
      ]
     },
     "execution_count": 51,
     "metadata": {},
     "output_type": "execute_result"
    }
   ],
   "source": [
    "transact_df.head()"
   ]
  },
  {
   "cell_type": "code",
   "execution_count": 13,
   "metadata": {},
   "outputs": [
    {
     "data": {
      "text/html": [
       "<div>\n",
       "<style scoped>\n",
       "    .dataframe tbody tr th:only-of-type {\n",
       "        vertical-align: middle;\n",
       "    }\n",
       "\n",
       "    .dataframe tbody tr th {\n",
       "        vertical-align: top;\n",
       "    }\n",
       "\n",
       "    .dataframe thead th {\n",
       "        text-align: right;\n",
       "    }\n",
       "</style>\n",
       "<table border=\"1\" class=\"dataframe\">\n",
       "  <thead>\n",
       "    <tr style=\"text-align: right;\">\n",
       "      <th></th>\n",
       "      <th>msno</th>\n",
       "      <th>date</th>\n",
       "      <th>num_25</th>\n",
       "      <th>num_50</th>\n",
       "      <th>num_75</th>\n",
       "      <th>num_985</th>\n",
       "      <th>num_100</th>\n",
       "      <th>num_unq</th>\n",
       "      <th>total_secs</th>\n",
       "    </tr>\n",
       "  </thead>\n",
       "  <tbody>\n",
       "    <tr>\n",
       "      <th>0</th>\n",
       "      <td>HlAmwB3IHrDG4ViLtgggCLZOodjpFxLRTFIide0Q0RI=</td>\n",
       "      <td>20170318</td>\n",
       "      <td>44</td>\n",
       "      <td>1</td>\n",
       "      <td>0</td>\n",
       "      <td>2</td>\n",
       "      <td>52</td>\n",
       "      <td>90</td>\n",
       "      <td>13119.719</td>\n",
       "    </tr>\n",
       "    <tr>\n",
       "      <th>1</th>\n",
       "      <td>xZmokPACIvbzXoCrwp+nxnB3SLiLLT+QnFy6ZOYofLE=</td>\n",
       "      <td>20170318</td>\n",
       "      <td>0</td>\n",
       "      <td>1</td>\n",
       "      <td>0</td>\n",
       "      <td>0</td>\n",
       "      <td>22</td>\n",
       "      <td>3</td>\n",
       "      <td>4194.039</td>\n",
       "    </tr>\n",
       "    <tr>\n",
       "      <th>2</th>\n",
       "      <td>pPqWvqnGC8h3FV6370ZxYp7uXKK2b5cka2YtDJxxLJ4=</td>\n",
       "      <td>20170313</td>\n",
       "      <td>1</td>\n",
       "      <td>1</td>\n",
       "      <td>1</td>\n",
       "      <td>1</td>\n",
       "      <td>190</td>\n",
       "      <td>163</td>\n",
       "      <td>42843.440</td>\n",
       "    </tr>\n",
       "    <tr>\n",
       "      <th>3</th>\n",
       "      <td>jh5kzIBBC08MzHTEdiKs7v+EUYJEQvGc8cD4hNeriFQ=</td>\n",
       "      <td>20170326</td>\n",
       "      <td>9</td>\n",
       "      <td>6</td>\n",
       "      <td>3</td>\n",
       "      <td>0</td>\n",
       "      <td>49</td>\n",
       "      <td>29</td>\n",
       "      <td>14877.251</td>\n",
       "    </tr>\n",
       "    <tr>\n",
       "      <th>4</th>\n",
       "      <td>0LsJiAOivwsbXT5bT4RYjWQdPOmsPPJbQtSAPtNgnBM=</td>\n",
       "      <td>20170327</td>\n",
       "      <td>18</td>\n",
       "      <td>2</td>\n",
       "      <td>1</td>\n",
       "      <td>5</td>\n",
       "      <td>112</td>\n",
       "      <td>129</td>\n",
       "      <td>27387.476</td>\n",
       "    </tr>\n",
       "  </tbody>\n",
       "</table>\n",
       "</div>"
      ],
      "text/plain": [
       "                                           msno      date  num_25  num_50  \\\n",
       "0  HlAmwB3IHrDG4ViLtgggCLZOodjpFxLRTFIide0Q0RI=  20170318      44       1   \n",
       "1  xZmokPACIvbzXoCrwp+nxnB3SLiLLT+QnFy6ZOYofLE=  20170318       0       1   \n",
       "2  pPqWvqnGC8h3FV6370ZxYp7uXKK2b5cka2YtDJxxLJ4=  20170313       1       1   \n",
       "3  jh5kzIBBC08MzHTEdiKs7v+EUYJEQvGc8cD4hNeriFQ=  20170326       9       6   \n",
       "4  0LsJiAOivwsbXT5bT4RYjWQdPOmsPPJbQtSAPtNgnBM=  20170327      18       2   \n",
       "\n",
       "   num_75  num_985  num_100  num_unq  total_secs  \n",
       "0       0        2       52       90   13119.719  \n",
       "1       0        0       22        3    4194.039  \n",
       "2       1        1      190      163   42843.440  \n",
       "3       3        0       49       29   14877.251  \n",
       "4       1        5      112      129   27387.476  "
      ]
     },
     "execution_count": 13,
     "metadata": {},
     "output_type": "execute_result"
    }
   ],
   "source": [
    "users_df.head()"
   ]
  },
  {
   "cell_type": "code",
   "execution_count": 18,
   "metadata": {},
   "outputs": [
    {
     "data": {
      "text/plain": [
       "9652"
      ]
     },
     "execution_count": 18,
     "metadata": {},
     "output_type": "execute_result"
    }
   ],
   "source": [
    "# missing values for gender in members_df. no other missing values\n",
    "\n",
    "members_df['gender'].isna().sum() #LOTS of missing values."
   ]
  },
  {
   "cell_type": "code",
   "execution_count": 23,
   "metadata": {},
   "outputs": [
    {
     "data": {
      "text/plain": [
       " 0      23361\n",
       " 30        80\n",
       " 180       63\n",
       "-149       30\n",
       " 149       22\n",
       " 50        13\n",
       "-119        8\n",
       " 20         7\n",
       "-129        2\n",
       " 120        2\n",
       "dtype: int64"
      ]
     },
     "execution_count": 23,
     "metadata": {},
     "output_type": "execute_result"
    }
   ],
   "source": [
    "(transact_df['plan_list_price'] - transact_df['actual_amount_paid']).value_counts()\n",
    "#very few people pay some other than the plan list price"
   ]
  },
  {
   "cell_type": "code",
   "execution_count": 24,
   "metadata": {},
   "outputs": [
    {
     "data": {
      "text/plain": [
       "1    21636\n",
       "0     1952\n",
       "Name: is_auto_renew, dtype: int64"
      ]
     },
     "execution_count": 24,
     "metadata": {},
     "output_type": "execute_result"
    }
   ],
   "source": [
    "transact_df['is_auto_renew'].value_counts() #most user auto-renew"
   ]
  },
  {
   "cell_type": "code",
   "execution_count": 28,
   "metadata": {},
   "outputs": [
    {
     "data": {
      "text/plain": [
       "0        30\n",
       "2        26\n",
       "3        28\n",
       "4        35\n",
       "5        23\n",
       "         ..\n",
       "17650    28\n",
       "17653    25\n",
       "17654    23\n",
       "17657    25\n",
       "17658    33\n",
       "Name: bd, Length: 7940, dtype: int64"
      ]
     },
     "execution_count": 28,
     "metadata": {},
     "output_type": "execute_result"
    }
   ],
   "source": [
    "ages = members_df['bd']\n",
    "ages[(ages < 100) & (ages > 15)]"
   ]
  },
  {
   "cell_type": "code",
   "execution_count": 45,
   "metadata": {},
   "outputs": [],
   "source": [
    "common_plans = transact_df['plan_list_price'].value_counts().index[:5]"
   ]
  },
  {
   "cell_type": "code",
   "execution_count": 54,
   "metadata": {},
   "outputs": [],
   "source": [
    "plan_vs_churn = pd.merge(transact_df, churn_df, on = 'msno', how = 'inner')\n",
    "plan_vs_churn = plan_vs_churn[plan_vs_churn['plan_list_price'].isin(common_plans)]\n",
    "plan_vs_churn = plan_vs_churn[['plan_list_price', 'is_churn']]"
   ]
  },
  {
   "cell_type": "code",
   "execution_count": 58,
   "metadata": {},
   "outputs": [
    {
     "data": {
      "text/plain": [
       "plan_list_price\n",
       "99     0.044168\n",
       "100    0.027656\n",
       "129    0.162218\n",
       "149    0.099610\n",
       "180    0.107254\n",
       "Name: is_churn, dtype: float64"
      ]
     },
     "execution_count": 58,
     "metadata": {},
     "output_type": "execute_result"
    }
   ],
   "source": [
    "plan_vs_churn.groupby('plan_list_price')['is_churn'].mean()\n",
    "\n",
    "#lower prices give lower churn rates, in general."
   ]
  },
  {
   "cell_type": "code",
   "execution_count": 56,
   "metadata": {},
   "outputs": [
    {
     "data": {
      "text/plain": [
       "149     11796\n",
       "99       7630\n",
       "180      1930\n",
       "129       974\n",
       "100       687\n",
       "0         115\n",
       "1788       85\n",
       "894        68\n",
       "536        52\n",
       "1200       49\n",
       "300        41\n",
       "150        31\n",
       "477        22\n",
       "447        19\n",
       "480        15\n",
       "298        12\n",
       "600        12\n",
       "1599       11\n",
       "119        11\n",
       "120         6\n",
       "35          5\n",
       "930         4\n",
       "500         3\n",
       "799         2\n",
       "450         2\n",
       "400         2\n",
       "1299        1\n",
       "131         1\n",
       "1000        1\n",
       "350         1\n",
       "Name: plan_list_price, dtype: int64"
      ]
     },
     "execution_count": 56,
     "metadata": {},
     "output_type": "execute_result"
    }
   ],
   "source": []
  },
  {
   "cell_type": "code",
   "execution_count": 64,
   "metadata": {},
   "outputs": [
    {
     "data": {
      "text/plain": [
       "payment_plan_days  plan_list_price\n",
       "0                  0                     40\n",
       "1                  0                      3\n",
       "7                  0                     25\n",
       "                   35                     5\n",
       "14                 0                      1\n",
       "30                 0                      1\n",
       "                   99                  7630\n",
       "                   100                  687\n",
       "                   119                   11\n",
       "                   120                    6\n",
       "                   129                  974\n",
       "                   131                    1\n",
       "                   149                11796\n",
       "                   150                   31\n",
       "                   180                 1930\n",
       "60                 0                     20\n",
       "                   300                   16\n",
       "70                 350                    1\n",
       "80                 400                    2\n",
       "90                 298                   12\n",
       "                   300                   25\n",
       "                   447                   16\n",
       "                   450                    2\n",
       "                   477                   21\n",
       "100                480                   15\n",
       "                   500                    3\n",
       "110                447                    1\n",
       "120                0                      7\n",
       "                   447                    2\n",
       "                   477                    1\n",
       "                   600                    4\n",
       "180                536                   52\n",
       "                   600                    8\n",
       "                   799                    2\n",
       "                   894                    1\n",
       "195                894                   67\n",
       "200                930                    4\n",
       "                   1000                   1\n",
       "240                0                     18\n",
       "                   1200                  20\n",
       "360                1200                  29\n",
       "365                1299                   1\n",
       "                   1788                   1\n",
       "395                1599                   6\n",
       "400                1599                   4\n",
       "410                1788                  82\n",
       "415                1599                   1\n",
       "450                1788                   2\n",
       "dtype: int64"
      ]
     },
     "execution_count": 64,
     "metadata": {},
     "output_type": "execute_result"
    }
   ],
   "source": [
    "transact_df[['payment_plan_days', 'plan_list_price']].groupby(['payment_plan_days', 'plan_list_price']).size()"
   ]
  },
  {
   "cell_type": "code",
   "execution_count": 65,
   "metadata": {},
   "outputs": [
    {
     "data": {
      "text/plain": [
       "payment_plan_days\n",
       "0      0.175000\n",
       "1      1.000000\n",
       "7      0.800000\n",
       "14     1.000000\n",
       "30     0.082672\n",
       "60     0.722222\n",
       "70     1.000000\n",
       "80     1.000000\n",
       "90     0.894737\n",
       "100    1.000000\n",
       "110    1.000000\n",
       "120    1.000000\n",
       "180    0.968254\n",
       "195    1.000000\n",
       "200    1.000000\n",
       "240    1.000000\n",
       "360    1.000000\n",
       "365    1.000000\n",
       "395    1.000000\n",
       "400    1.000000\n",
       "410    1.000000\n",
       "415    1.000000\n",
       "450    1.000000\n",
       "Name: is_churn, dtype: float64"
      ]
     },
     "execution_count": 65,
     "metadata": {},
     "output_type": "execute_result"
    }
   ],
   "source": [
    "days_vs_churn = pd.merge(transact_df, churn_df, on = 'msno', how = 'inner')\n",
    "days_vs_churn.groupby('payment_plan_days')['is_churn'].mean()\n",
    "\n",
    "#very high churn rates for every payment plan length except 0 (whatever 0 means) and 30. nearly all users have 30-day\n",
    "#plans (97.79%)"
   ]
  },
  {
   "cell_type": "code",
   "execution_count": 67,
   "metadata": {},
   "outputs": [
    {
     "data": {
      "text/plain": [
       "0.9779124978802781"
      ]
     },
     "execution_count": 67,
     "metadata": {},
     "output_type": "execute_result"
    }
   ],
   "source": [
    "(transact_df['payment_plan_days']==30).mean()"
   ]
  },
  {
   "cell_type": "code",
   "execution_count": 68,
   "metadata": {},
   "outputs": [],
   "source": [
    "col_list = [(members_df,'registration_init_time'), (transact_df,'transaction_date'),\n",
    "            (transact_df,'membership_expire_date'),(users_df,'date')]\n",
    "\n",
    "for df, col in col_list:\n",
    "    df[col] = pd.to_datetime(df[col],format='%Y%m%d')"
   ]
  },
  {
   "cell_type": "code",
   "execution_count": 72,
   "metadata": {},
   "outputs": [],
   "source": [
    "transact_df['transaction_year'] = transact_df['transaction_date'].apply(lambda date: date.year)"
   ]
  },
  {
   "cell_type": "code",
   "execution_count": 78,
   "metadata": {},
   "outputs": [
    {
     "data": {
      "text/plain": [
       "transaction_year  payment_plan_days\n",
       "2015              0                       40\n",
       "                  30                    1529\n",
       "2016              7                        2\n",
       "                  30                     191\n",
       "                  60                       1\n",
       "                  90                       2\n",
       "                  110                      1\n",
       "                  120                      3\n",
       "                  195                      1\n",
       "                  360                      1\n",
       "                  395                      4\n",
       "                  410                      2\n",
       "                  415                      1\n",
       "2017              1                        3\n",
       "                  7                       28\n",
       "                  14                       1\n",
       "                  30                   21347\n",
       "                  60                      35\n",
       "                  70                       1\n",
       "                  80                       2\n",
       "                  90                      74\n",
       "                  100                     18\n",
       "                  120                     11\n",
       "                  180                     63\n",
       "                  195                     66\n",
       "                  200                      5\n",
       "                  240                     38\n",
       "                  360                     28\n",
       "                  365                      2\n",
       "                  395                      2\n",
       "                  400                      4\n",
       "                  410                     80\n",
       "                  450                      2\n",
       "dtype: int64"
      ]
     },
     "execution_count": 78,
     "metadata": {},
     "output_type": "execute_result"
    }
   ],
   "source": [
    "transact_df.groupby(['transaction_year', 'payment_plan_days']).size()"
   ]
  },
  {
   "cell_type": "code",
   "execution_count": 79,
   "metadata": {},
   "outputs": [
    {
     "data": {
      "text/plain": [
       "transaction_year\n",
       "2015    0.256851\n",
       "2016    0.870813\n",
       "2017    0.081797\n",
       "Name: is_churn, dtype: float64"
      ]
     },
     "execution_count": 79,
     "metadata": {},
     "output_type": "execute_result"
    }
   ],
   "source": [
    "year_vs_churn = pd.merge(transact_df, churn_df, on = 'msno', how = 'inner')\n",
    "year_vs_churn.groupby('transaction_year')['is_churn'].mean()"
   ]
  },
  {
   "cell_type": "code",
   "execution_count": 80,
   "metadata": {},
   "outputs": [
    {
     "data": {
      "text/plain": [
       "is_auto_renew\n",
       "0    0.365266\n",
       "1    0.076539\n",
       "Name: is_churn, dtype: float64"
      ]
     },
     "execution_count": 80,
     "metadata": {},
     "output_type": "execute_result"
    }
   ],
   "source": [
    "auto_vs_churn = pd.merge(transact_df, churn_df, on = 'msno', how = 'inner')\n",
    "auto_vs_churn.groupby('is_auto_renew')['is_churn'].mean()\n",
    "\n",
    "# customers more likely to churn if they do not auto-renew"
   ]
  },
  {
   "cell_type": "code",
   "execution_count": 97,
   "metadata": {},
   "outputs": [
    {
     "data": {
      "text/plain": [
       "<matplotlib.axes._subplots.AxesSubplot at 0x123fcab20>"
      ]
     },
     "execution_count": 97,
     "metadata": {},
     "output_type": "execute_result"
    },
    {
     "data": {
      "image/png": "[encoded data removed]",
      "text/plain": [
       "<Figure size 288x864 with 1 Axes>"
      ]
     },
     "metadata": {
      "needs_background": "light"
     },
     "output_type": "display_data"
    }
   ],
   "source": [
    "age_vs_churn = pd.merge(members_df, churn_df, on = 'msno', how = 'inner')\n",
    "age_vs_churn = age_vs_churn[(age_vs_churn['bd'] < 100) & (age_vs_churn['bd'] > 12)]\n",
    "age_vs_churn.groupby('bd')['is_churn'].mean().plot(kind = 'barh',\n",
    "                                                   figsize = (4,12))"
   ]
  },
  {
   "cell_type": "code",
   "execution_count": 105,
   "metadata": {},
   "outputs": [
    {
     "data": {
      "text/plain": [
       "<matplotlib.axes._subplots.AxesSubplot at 0x124d391c0>"
      ]
     },
     "execution_count": 105,
     "metadata": {},
     "output_type": "execute_result"
    },
    {
     "data": {
      "image/png": "[encoded data removed]",
      "text/plain": [
       "<Figure size 432x288 with 1 Axes>"
      ]
     },
     "metadata": {
      "needs_background": "light"
     },
     "output_type": "display_data"
    }
   ],
   "source": [
    "age_vs_churn['bd'].plot.hist(bins = 20) #most users in late teens to late thirties"
   ]
  },
  {
   "cell_type": "code",
   "execution_count": 106,
   "metadata": {},
   "outputs": [
    {
     "data": {
      "text/plain": [
       "43       0\n",
       "219      0\n",
       "350      0\n",
       "463      0\n",
       "550      0\n",
       "        ..\n",
       "21744    0\n",
       "22199    0\n",
       "22381    0\n",
       "22567    0\n",
       "22961    0\n",
       "Name: plan_list_price, Length: 115, dtype: int64"
      ]
     },
     "execution_count": 106,
     "metadata": {},
     "output_type": "execute_result"
    }
   ],
   "source": [
    "transact_df['plan_list_price'][transact_df['plan_list_price'] == 0]"
   ]
  },
  {
   "cell_type": "markdown",
   "metadata": {},
   "source": [
    "# USING MERGED DATA"
   ]
  },
  {
   "cell_type": "code",
   "execution_count": 115,
   "metadata": {},
   "outputs": [],
   "source": [
    "Data = pd.read_csv('Data.csv')"
   ]
  },
  {
   "cell_type": "code",
   "execution_count": 116,
   "metadata": {},
   "outputs": [
    {
     "data": {
      "image/png": "[encoded data removed]",
      "text/plain": [
       "<Figure size 432x288 with 1 Axes>"
      ]
     },
     "metadata": {
      "needs_background": "light"
     },
     "output_type": "display_data"
    },
    {
     "data": {
      "image/png": "[encoded data removed]",
      "text/plain": [
       "<Figure size 432x288 with 1 Axes>"
      ]
     },
     "metadata": {
      "needs_background": "light"
     },
     "output_type": "display_data"
    },
    {
     "data": {
      "image/png": "[encoded data removed]",
      "text/plain": [
       "<Figure size 432x288 with 1 Axes>"
      ]
     },
     "metadata": {
      "needs_background": "light"
     },
     "output_type": "display_data"
    },
    {
     "data": {
      "image/png": "[encoded data removed]",
      "text/plain": [
       "<Figure size 432x288 with 1 Axes>"
      ]
     },
     "metadata": {
      "needs_background": "light"
     },
     "output_type": "display_data"
    },
    {
     "data": {
      "image/png": "[encoded data removed]",
      "text/plain": [
       "<Figure size 432x288 with 1 Axes>"
      ]
     },
     "metadata": {
      "needs_background": "light"
     },
     "output_type": "display_data"
    },
    {
     "data": {
      "image/png": "[encoded data removed]",
      "text/plain": [
       "<Figure size 432x288 with 1 Axes>"
      ]
     },
     "metadata": {
      "needs_background": "light"
     },
     "output_type": "display_data"
    }
   ],
   "source": [
    "for x in ['num_25', 'num_50', 'num_75', 'num_985', 'num_100', 'num_unq']:\n",
    "    Data.plot(kind = 'scatter', x = x, y = 'is_churn')\n",
    "    \n",
    "#users who listen to songs longer are less likely to churn?"
   ]
  },
  {
   "cell_type": "code",
   "execution_count": 126,
   "metadata": {},
   "outputs": [
    {
     "name": "stderr",
     "output_type": "stream",
     "text": [
      "<ipython-input-126-8dcac83333f2>:2: DeprecationWarning: The default dtype for empty Series will be 'object' instead of 'float64' in a future version. Specify a dtype explicitly to silence this warning.\n",
      "  plays_majority = pd.Series([])\n"
     ]
    }
   ],
   "source": [
    "listens_df = Data[['num_25', 'num_50', 'num_75', 'num_985', 'num_100']].copy()\n",
    "plays_majority = pd.Series([])\n",
    "for index in Data.index:\n",
    "    listens = [(col, listens_df.loc[index, col]) for col in listens_df.columns]\n",
    "    listens = sorted(listens, key = lambda x: x[1])\n",
    "    plays_majority[index] = listens[0][0]"
   ]
  },
  {
   "cell_type": "code",
   "execution_count": 128,
   "metadata": {},
   "outputs": [],
   "source": [
    "Data['plays_majority'] = plays_majority"
   ]
  },
  {
   "cell_type": "code",
   "execution_count": 129,
   "metadata": {},
   "outputs": [
    {
     "data": {
      "text/plain": [
       "num_100    0.080732\n",
       "num_25     0.082830\n",
       "num_50     0.088595\n",
       "num_75     0.096392\n",
       "num_985    0.097655\n",
       "Name: is_churn, dtype: float64"
      ]
     },
     "execution_count": 129,
     "metadata": {},
     "output_type": "execute_result"
    }
   ],
   "source": [
    "Data.groupby(plays_majority)['is_churn'].mean()"
   ]
  },
  {
   "cell_type": "code",
   "execution_count": 130,
   "metadata": {},
   "outputs": [
    {
     "data": {
      "text/plain": [
       "num_50     121688\n",
       "num_25      96547\n",
       "num_75      75546\n",
       "num_985     41237\n",
       "num_100       929\n",
       "dtype: int64"
      ]
     },
     "execution_count": 130,
     "metadata": {},
     "output_type": "execute_result"
    }
   ],
   "source": [
    "plays_majority.value_counts()"
   ]
  },
  {
   "cell_type": "code",
   "execution_count": 132,
   "metadata": {},
   "outputs": [
    {
     "data": {
      "text/plain": [
       "<matplotlib.axes._subplots.AxesSubplot at 0x1247336a0>"
      ]
     },
     "execution_count": 132,
     "metadata": {},
     "output_type": "execute_result"
    },
    {
     "data": {
      "image/png": "[encoded data removed]",
      "text/plain": [
       "<Figure size 432x288 with 1 Axes>"
      ]
     },
     "metadata": {
      "needs_background": "light"
     },
     "output_type": "display_data"
    }
   ],
   "source": [
    "Data.plot.scatter(x = 'total_secs', y = 'is_churn')"
   ]
  },
  {
   "cell_type": "code",
   "execution_count": 136,
   "metadata": {},
   "outputs": [
    {
     "data": {
      "text/plain": [
       "(13.0, 99.0)"
      ]
     },
     "execution_count": 136,
     "metadata": {},
     "output_type": "execute_result"
    },
    {
     "data": {
      "image/png": "[encoded data removed]",
      "text/plain": [
       "<Figure size 432x288 with 1 Axes>"
      ]
     },
     "metadata": {
      "needs_background": "light"
     },
     "output_type": "display_data"
    }
   ],
   "source": [
    "Data.plot.scatter(x = 'bd', y = 'is_churn')\n",
    "plt.xlim(13,99)"
   ]
  },
  {
   "cell_type": "code",
   "execution_count": 137,
   "metadata": {},
   "outputs": [
    {
     "data": {
      "text/plain": [
       "is_cancel\n",
       "0    0.084370\n",
       "1    0.343154\n",
       "Name: is_churn, dtype: float64"
      ]
     },
     "execution_count": 137,
     "metadata": {},
     "output_type": "execute_result"
    }
   ],
   "source": [
    "Data.groupby('is_cancel')['is_churn'].mean()\n",
    "\n",
    "#people who have canceled are, unsurprisingly, 4x more likely to churn"
   ]
  },
  {
   "cell_type": "code",
   "execution_count": 141,
   "metadata": {},
   "outputs": [
    {
     "data": {
      "text/plain": [
       "<matplotlib.axes._subplots.AxesSubplot at 0x1204e3250>"
      ]
     },
     "execution_count": 141,
     "metadata": {},
     "output_type": "execute_result"
    },
    {
     "data": {
      "image/png": "[encoded data removed]",
      "text/plain": [
       "<Figure size 432x288 with 1 Axes>"
      ]
     },
     "metadata": {
      "needs_background": "light"
     },
     "output_type": "display_data"
    }
   ],
   "source": [
    "Data.groupby('total_secs')['is_churn'].mean().reset_index().plot.scatter(x = 'total_secs', y = 'is_churn')"
   ]
  },
  {
   "cell_type": "code",
   "execution_count": 142,
   "metadata": {},
   "outputs": [],
   "source": [
    "col_list = ['registration_init_time', 'transaction_date',\n",
    "            'membership_expire_date', 'date']"
   ]
  },
  {
   "cell_type": "code",
   "execution_count": 143,
   "metadata": {},
   "outputs": [],
   "source": [
    "for name in col_list:\n",
    "    Data[name] = pd.to_datetime(df[col],format='%Y%m%d')"
   ]
  },
  {
   "cell_type": "code",
   "execution_count": 153,
   "metadata": {},
   "outputs": [
    {
     "name": "stdout",
     "output_type": "stream",
     "text": [
      "2004-03-26 00:00:00 2017-03-24 00:00:00\n"
     ]
    }
   ],
   "source": [
    "print(members_df['registration_init_time'].min(), members_df['registration_init_time'].max())"
   ]
  },
  {
   "cell_type": "code",
   "execution_count": 157,
   "metadata": {},
   "outputs": [
    {
     "data": {
      "text/html": [
       "<div>\n",
       "<style scoped>\n",
       "    .dataframe tbody tr th:only-of-type {\n",
       "        vertical-align: middle;\n",
       "    }\n",
       "\n",
       "    .dataframe tbody tr th {\n",
       "        vertical-align: top;\n",
       "    }\n",
       "\n",
       "    .dataframe thead th {\n",
       "        text-align: right;\n",
       "    }\n",
       "</style>\n",
       "<table border=\"1\" class=\"dataframe\">\n",
       "  <thead>\n",
       "    <tr style=\"text-align: right;\">\n",
       "      <th></th>\n",
       "      <th>size</th>\n",
       "      <th>mean</th>\n",
       "    </tr>\n",
       "    <tr>\n",
       "      <th>registered_via</th>\n",
       "      <th></th>\n",
       "      <th></th>\n",
       "    </tr>\n",
       "  </thead>\n",
       "  <tbody>\n",
       "    <tr>\n",
       "      <th>3</th>\n",
       "      <td>49515</td>\n",
       "      <td>0.126386</td>\n",
       "    </tr>\n",
       "    <tr>\n",
       "      <th>4</th>\n",
       "      <td>22359</td>\n",
       "      <td>0.177110</td>\n",
       "    </tr>\n",
       "    <tr>\n",
       "      <th>7</th>\n",
       "      <td>158292</td>\n",
       "      <td>0.052593</td>\n",
       "    </tr>\n",
       "    <tr>\n",
       "      <th>9</th>\n",
       "      <td>104585</td>\n",
       "      <td>0.111096</td>\n",
       "    </tr>\n",
       "    <tr>\n",
       "      <th>13</th>\n",
       "      <td>1196</td>\n",
       "      <td>0.000000</td>\n",
       "    </tr>\n",
       "  </tbody>\n",
       "</table>\n",
       "</div>"
      ],
      "text/plain": [
       "                  size      mean\n",
       "registered_via                  \n",
       "3                49515  0.126386\n",
       "4                22359  0.177110\n",
       "7               158292  0.052593\n",
       "9               104585  0.111096\n",
       "13                1196  0.000000"
      ]
     },
     "execution_count": 157,
     "metadata": {},
     "output_type": "execute_result"
    }
   ],
   "source": [
    "Data.groupby('registered_via')['is_churn'].agg(['size', 'mean'])"
   ]
  },
  {
   "cell_type": "code",
   "execution_count": 163,
   "metadata": {},
   "outputs": [],
   "source": [
    "Data['age_bin'] = (5 + Data['bd'].copy()).round(-1)"
   ]
  },
  {
   "cell_type": "code",
   "execution_count": 167,
   "metadata": {},
   "outputs": [],
   "source": [
    "Data_binned = Data[Data['age_bin'].isin(np.arange(2,11)*10)].copy()"
   ]
  },
  {
   "cell_type": "code",
   "execution_count": 173,
   "metadata": {},
   "outputs": [],
   "source": [
    "xx = Data_binned.groupby(['age_bin', 'is_auto_renew'])[['is_churn']].agg(['size', 'mean'])"
   ]
  },
  {
   "cell_type": "code",
   "execution_count": 188,
   "metadata": {},
   "outputs": [],
   "source": [
    "xx = xx.reset_index()\n",
    "xx.columns = ['age_bin', 'is_auto_renew', 'size', 'churn_likelihood']"
   ]
  },
  {
   "cell_type": "code",
   "execution_count": 190,
   "metadata": {},
   "outputs": [
    {
     "data": {
      "text/html": [
       "<div>\n",
       "<style scoped>\n",
       "    .dataframe tbody tr th:only-of-type {\n",
       "        vertical-align: middle;\n",
       "    }\n",
       "\n",
       "    .dataframe tbody tr th {\n",
       "        vertical-align: top;\n",
       "    }\n",
       "\n",
       "    .dataframe thead th {\n",
       "        text-align: right;\n",
       "    }\n",
       "</style>\n",
       "<table border=\"1\" class=\"dataframe\">\n",
       "  <thead>\n",
       "    <tr style=\"text-align: right;\">\n",
       "      <th></th>\n",
       "      <th>age_bin</th>\n",
       "      <th>is_auto_renew</th>\n",
       "      <th>size</th>\n",
       "      <th>churn_likelihood</th>\n",
       "    </tr>\n",
       "  </thead>\n",
       "  <tbody>\n",
       "    <tr>\n",
       "      <th>0</th>\n",
       "      <td>20</td>\n",
       "      <td>0</td>\n",
       "      <td>9771</td>\n",
       "      <td>0.350834</td>\n",
       "    </tr>\n",
       "    <tr>\n",
       "      <th>1</th>\n",
       "      <td>20</td>\n",
       "      <td>1</td>\n",
       "      <td>9932</td>\n",
       "      <td>0.060411</td>\n",
       "    </tr>\n",
       "    <tr>\n",
       "      <th>2</th>\n",
       "      <td>30</td>\n",
       "      <td>0</td>\n",
       "      <td>14118</td>\n",
       "      <td>0.365987</td>\n",
       "    </tr>\n",
       "    <tr>\n",
       "      <th>3</th>\n",
       "      <td>30</td>\n",
       "      <td>1</td>\n",
       "      <td>75677</td>\n",
       "      <td>0.059120</td>\n",
       "    </tr>\n",
       "    <tr>\n",
       "      <th>4</th>\n",
       "      <td>40</td>\n",
       "      <td>0</td>\n",
       "      <td>3857</td>\n",
       "      <td>0.471869</td>\n",
       "    </tr>\n",
       "    <tr>\n",
       "      <th>5</th>\n",
       "      <td>40</td>\n",
       "      <td>1</td>\n",
       "      <td>49563</td>\n",
       "      <td>0.063959</td>\n",
       "    </tr>\n",
       "    <tr>\n",
       "      <th>6</th>\n",
       "      <td>50</td>\n",
       "      <td>0</td>\n",
       "      <td>791</td>\n",
       "      <td>0.651075</td>\n",
       "    </tr>\n",
       "    <tr>\n",
       "      <th>7</th>\n",
       "      <td>50</td>\n",
       "      <td>1</td>\n",
       "      <td>11848</td>\n",
       "      <td>0.069970</td>\n",
       "    </tr>\n",
       "    <tr>\n",
       "      <th>8</th>\n",
       "      <td>60</td>\n",
       "      <td>0</td>\n",
       "      <td>225</td>\n",
       "      <td>0.337778</td>\n",
       "    </tr>\n",
       "    <tr>\n",
       "      <th>9</th>\n",
       "      <td>60</td>\n",
       "      <td>1</td>\n",
       "      <td>4294</td>\n",
       "      <td>0.019096</td>\n",
       "    </tr>\n",
       "    <tr>\n",
       "      <th>10</th>\n",
       "      <td>70</td>\n",
       "      <td>0</td>\n",
       "      <td>78</td>\n",
       "      <td>0.615385</td>\n",
       "    </tr>\n",
       "    <tr>\n",
       "      <th>11</th>\n",
       "      <td>70</td>\n",
       "      <td>1</td>\n",
       "      <td>417</td>\n",
       "      <td>0.067146</td>\n",
       "    </tr>\n",
       "    <tr>\n",
       "      <th>12</th>\n",
       "      <td>80</td>\n",
       "      <td>1</td>\n",
       "      <td>18</td>\n",
       "      <td>0.000000</td>\n",
       "    </tr>\n",
       "    <tr>\n",
       "      <th>13</th>\n",
       "      <td>100</td>\n",
       "      <td>0</td>\n",
       "      <td>24</td>\n",
       "      <td>0.000000</td>\n",
       "    </tr>\n",
       "    <tr>\n",
       "      <th>14</th>\n",
       "      <td>100</td>\n",
       "      <td>1</td>\n",
       "      <td>31</td>\n",
       "      <td>0.000000</td>\n",
       "    </tr>\n",
       "  </tbody>\n",
       "</table>\n",
       "</div>"
      ],
      "text/plain": [
       "    age_bin  is_auto_renew   size  churn_likelihood\n",
       "0        20              0   9771          0.350834\n",
       "1        20              1   9932          0.060411\n",
       "2        30              0  14118          0.365987\n",
       "3        30              1  75677          0.059120\n",
       "4        40              0   3857          0.471869\n",
       "5        40              1  49563          0.063959\n",
       "6        50              0    791          0.651075\n",
       "7        50              1  11848          0.069970\n",
       "8        60              0    225          0.337778\n",
       "9        60              1   4294          0.019096\n",
       "10       70              0     78          0.615385\n",
       "11       70              1    417          0.067146\n",
       "12       80              1     18          0.000000\n",
       "13      100              0     24          0.000000\n",
       "14      100              1     31          0.000000"
      ]
     },
     "execution_count": 190,
     "metadata": {},
     "output_type": "execute_result"
    }
   ],
   "source": [
    "xx"
   ]
  },
  {
   "cell_type": "code",
   "execution_count": 197,
   "metadata": {},
   "outputs": [
    {
     "data": {
      "text/plain": [
       "<matplotlib.axes._subplots.AxesSubplot at 0x15215c7c0>"
      ]
     },
     "execution_count": 197,
     "metadata": {},
     "output_type": "execute_result"
    },
    {
     "data": {
      "image/png": "[encoded data removed]",
      "text/plain": [
       "<Figure size 432x288 with 1 Axes>"
      ]
     },
     "metadata": {
      "needs_background": "light"
     },
     "output_type": "display_data"
    }
   ],
   "source": [
    "Data['city'].plot.hist(bins = 22)"
   ]
  },
  {
   "cell_type": "code",
   "execution_count": 233,
   "metadata": {},
   "outputs": [
    {
     "data": {
      "text/plain": [
       "city\n",
       "20    1.000000\n",
       "16    1.000000\n",
       "7     0.985523\n",
       "3     0.937179\n",
       "17    0.932878\n",
       "10    0.931295\n",
       "1     0.931238\n",
       "15    0.924838\n",
       "8     0.915286\n",
       "22    0.913448\n",
       "14    0.908443\n",
       "4     0.903877\n",
       "11    0.898126\n",
       "13    0.889217\n",
       "6     0.882565\n",
       "5     0.882158\n",
       "21    0.879444\n",
       "12    0.850913\n",
       "18    0.840099\n",
       "9     0.764275\n",
       "Name: is_churn, dtype: float64"
      ]
     },
     "execution_count": 233,
     "metadata": {},
     "output_type": "execute_result"
    }
   ],
   "source": [
    "1-Data.groupby('city')['is_churn'].mean().sort_values(ascending = True)\n",
    "\n",
    "#percentage who have not churned in last pay period by city"
   ]
  },
  {
   "cell_type": "code",
   "execution_count": 209,
   "metadata": {},
   "outputs": [],
   "source": [
    "pct = Data.groupby('city')['is_churn'].mean() #percent that churn by city\n",
    "raw = Data.groupby('city')['is_churn'].size() #number in each city"
   ]
  },
  {
   "cell_type": "code",
   "execution_count": 210,
   "metadata": {},
   "outputs": [
    {
     "data": {
      "text/plain": [
       "city\n",
       "1     9740.0\n",
       "13    5028.0\n",
       "5     3517.0\n",
       "4     2090.0\n",
       "22    1741.0\n",
       "15    1592.0\n",
       "6     1531.0\n",
       "9     1222.0\n",
       "14     848.0\n",
       "12     776.0\n",
       "18     579.0\n",
       "11     435.0\n",
       "8      271.0\n",
       "21     234.0\n",
       "10     209.0\n",
       "17     177.0\n",
       "3      159.0\n",
       "7       13.0\n",
       "16       0.0\n",
       "20       0.0\n",
       "Name: is_churn, dtype: float64"
      ]
     },
     "execution_count": 210,
     "metadata": {},
     "output_type": "execute_result"
    }
   ],
   "source": [
    "(pct*raw).sort_values(ascending = False)"
   ]
  },
  {
   "cell_type": "code",
   "execution_count": 211,
   "metadata": {},
   "outputs": [
    {
     "data": {
      "text/plain": [
       "city\n",
       "1     131907.0\n",
       "13     40358.0\n",
       "5      26328.0\n",
       "4      19653.0\n",
       "15     19589.0\n",
       "22     18374.0\n",
       "6      11506.0\n",
       "14      8414.0\n",
       "12      4429.0\n",
       "9       3962.0\n",
       "11      3835.0\n",
       "18      3042.0\n",
       "8       2928.0\n",
       "10      2833.0\n",
       "17      2460.0\n",
       "3       2372.0\n",
       "21      1707.0\n",
       "7        885.0\n",
       "20       801.0\n",
       "16       402.0\n",
       "Name: is_churn, dtype: float64"
      ]
     },
     "execution_count": 211,
     "metadata": {},
     "output_type": "execute_result"
    }
   ],
   "source": [
    "((1-pct)*raw).sort_values(ascending = False) #number of return customers by city"
   ]
  },
  {
   "cell_type": "code",
   "execution_count": 239,
   "metadata": {},
   "outputs": [
    {
     "data": {
      "text/html": [
       "<div>\n",
       "<style scoped>\n",
       "    .dataframe tbody tr th:only-of-type {\n",
       "        vertical-align: middle;\n",
       "    }\n",
       "\n",
       "    .dataframe tbody tr th {\n",
       "        vertical-align: top;\n",
       "    }\n",
       "\n",
       "    .dataframe thead th {\n",
       "        text-align: right;\n",
       "    }\n",
       "</style>\n",
       "<table border=\"1\" class=\"dataframe\">\n",
       "  <thead>\n",
       "    <tr style=\"text-align: right;\">\n",
       "      <th></th>\n",
       "      <th>size</th>\n",
       "      <th>mean</th>\n",
       "    </tr>\n",
       "    <tr>\n",
       "      <th>city</th>\n",
       "      <th></th>\n",
       "      <th></th>\n",
       "    </tr>\n",
       "  </thead>\n",
       "  <tbody>\n",
       "    <tr>\n",
       "      <th>13</th>\n",
       "      <td>40908</td>\n",
       "      <td>30.061651</td>\n",
       "    </tr>\n",
       "    <tr>\n",
       "      <th>5</th>\n",
       "      <td>27058</td>\n",
       "      <td>30.735346</td>\n",
       "    </tr>\n",
       "    <tr>\n",
       "      <th>4</th>\n",
       "      <td>19713</td>\n",
       "      <td>27.984173</td>\n",
       "    </tr>\n",
       "    <tr>\n",
       "      <th>15</th>\n",
       "      <td>18842</td>\n",
       "      <td>28.687878</td>\n",
       "    </tr>\n",
       "    <tr>\n",
       "      <th>22</th>\n",
       "      <td>18341</td>\n",
       "      <td>29.023336</td>\n",
       "    </tr>\n",
       "    <tr>\n",
       "      <th>6</th>\n",
       "      <td>11312</td>\n",
       "      <td>29.339905</td>\n",
       "    </tr>\n",
       "    <tr>\n",
       "      <th>14</th>\n",
       "      <td>8485</td>\n",
       "      <td>30.187861</td>\n",
       "    </tr>\n",
       "    <tr>\n",
       "      <th>1</th>\n",
       "      <td>5211</td>\n",
       "      <td>27.170984</td>\n",
       "    </tr>\n",
       "    <tr>\n",
       "      <th>12</th>\n",
       "      <td>4716</td>\n",
       "      <td>27.126378</td>\n",
       "    </tr>\n",
       "    <tr>\n",
       "      <th>9</th>\n",
       "      <td>4690</td>\n",
       "      <td>28.448401</td>\n",
       "    </tr>\n",
       "    <tr>\n",
       "      <th>11</th>\n",
       "      <td>3877</td>\n",
       "      <td>28.311065</td>\n",
       "    </tr>\n",
       "    <tr>\n",
       "      <th>18</th>\n",
       "      <td>3307</td>\n",
       "      <td>27.354097</td>\n",
       "    </tr>\n",
       "    <tr>\n",
       "      <th>8</th>\n",
       "      <td>2932</td>\n",
       "      <td>27.427012</td>\n",
       "    </tr>\n",
       "    <tr>\n",
       "      <th>10</th>\n",
       "      <td>2706</td>\n",
       "      <td>28.568736</td>\n",
       "    </tr>\n",
       "    <tr>\n",
       "      <th>17</th>\n",
       "      <td>2504</td>\n",
       "      <td>29.115415</td>\n",
       "    </tr>\n",
       "    <tr>\n",
       "      <th>3</th>\n",
       "      <td>2225</td>\n",
       "      <td>27.880000</td>\n",
       "    </tr>\n",
       "    <tr>\n",
       "      <th>21</th>\n",
       "      <td>1823</td>\n",
       "      <td>24.050466</td>\n",
       "    </tr>\n",
       "    <tr>\n",
       "      <th>7</th>\n",
       "      <td>811</td>\n",
       "      <td>27.995068</td>\n",
       "    </tr>\n",
       "    <tr>\n",
       "      <th>20</th>\n",
       "      <td>781</td>\n",
       "      <td>29.102433</td>\n",
       "    </tr>\n",
       "    <tr>\n",
       "      <th>16</th>\n",
       "      <td>402</td>\n",
       "      <td>30.308458</td>\n",
       "    </tr>\n",
       "  </tbody>\n",
       "</table>\n",
       "</div>"
      ],
      "text/plain": [
       "       size       mean\n",
       "city                  \n",
       "13    40908  30.061651\n",
       "5     27058  30.735346\n",
       "4     19713  27.984173\n",
       "15    18842  28.687878\n",
       "22    18341  29.023336\n",
       "6     11312  29.339905\n",
       "14     8485  30.187861\n",
       "1      5211  27.170984\n",
       "12     4716  27.126378\n",
       "9      4690  28.448401\n",
       "11     3877  28.311065\n",
       "18     3307  27.354097\n",
       "8      2932  27.427012\n",
       "10     2706  28.568736\n",
       "17     2504  29.115415\n",
       "3      2225  27.880000\n",
       "21     1823  24.050466\n",
       "7       811  27.995068\n",
       "20      781  29.102433\n",
       "16      402  30.308458"
      ]
     },
     "execution_count": 239,
     "metadata": {},
     "output_type": "execute_result"
    }
   ],
   "source": [
    "Data_binned.groupby('city')['bd'].agg(['size', 'mean']).sort_values(by = 'size', ascending = False)"
   ]
  },
  {
   "cell_type": "code",
   "execution_count": 235,
   "metadata": {},
   "outputs": [
    {
     "data": {
      "text/plain": [
       "<seaborn.axisgrid.FacetGrid at 0x157832fa0>"
      ]
     },
     "execution_count": 235,
     "metadata": {},
     "output_type": "execute_result"
    },
    {
     "data": {
      "image/png": "[encoded data removed]",
      "text/plain": [
       "<Figure size 216x4320 with 20 Axes>"
      ]
     },
     "metadata": {
      "needs_background": "light"
     },
     "output_type": "display_data"
    }
   ],
   "source": [
    "import seaborn as sns\n",
    "\n",
    "sns.FacetGrid(Data_binned, row = 'city', sharey = False).map(sns.distplot, 'bd')"
   ]
  },
  {
   "cell_type": "code",
   "execution_count": 220,
   "metadata": {},
   "outputs": [
    {
     "data": {
      "text/html": [
       "<div>\n",
       "<style scoped>\n",
       "    .dataframe tbody tr th:only-of-type {\n",
       "        vertical-align: middle;\n",
       "    }\n",
       "\n",
       "    .dataframe tbody tr th {\n",
       "        vertical-align: top;\n",
       "    }\n",
       "\n",
       "    .dataframe thead th {\n",
       "        text-align: right;\n",
       "    }\n",
       "</style>\n",
       "<table border=\"1\" class=\"dataframe\">\n",
       "  <thead>\n",
       "    <tr style=\"text-align: right;\">\n",
       "      <th></th>\n",
       "      <th>msno</th>\n",
       "      <th>is_churn</th>\n",
       "      <th>city</th>\n",
       "      <th>bd</th>\n",
       "      <th>gender</th>\n",
       "      <th>registered_via</th>\n",
       "      <th>registration_init_time</th>\n",
       "      <th>payment_method_id</th>\n",
       "      <th>payment_plan_days</th>\n",
       "      <th>plan_list_price</th>\n",
       "      <th>...</th>\n",
       "      <th>date</th>\n",
       "      <th>num_25</th>\n",
       "      <th>num_50</th>\n",
       "      <th>num_75</th>\n",
       "      <th>num_985</th>\n",
       "      <th>num_100</th>\n",
       "      <th>num_unq</th>\n",
       "      <th>total_secs</th>\n",
       "      <th>plays_majority</th>\n",
       "      <th>age_bin</th>\n",
       "    </tr>\n",
       "  </thead>\n",
       "  <tbody>\n",
       "    <tr>\n",
       "      <th>0</th>\n",
       "      <td>KQChsHhR1fUTZzE2Yw5Fe95WM2sYw1H8nqtjI1pn8B4=</td>\n",
       "      <td>0</td>\n",
       "      <td>4</td>\n",
       "      <td>27</td>\n",
       "      <td>male</td>\n",
       "      <td>9</td>\n",
       "      <td>2017-03-18</td>\n",
       "      <td>39</td>\n",
       "      <td>30</td>\n",
       "      <td>149</td>\n",
       "      <td>...</td>\n",
       "      <td>2017-03-18</td>\n",
       "      <td>0</td>\n",
       "      <td>1</td>\n",
       "      <td>0</td>\n",
       "      <td>0</td>\n",
       "      <td>38</td>\n",
       "      <td>39</td>\n",
       "      <td>9616.313</td>\n",
       "      <td>num_25</td>\n",
       "      <td>30</td>\n",
       "    </tr>\n",
       "    <tr>\n",
       "      <th>1</th>\n",
       "      <td>KQChsHhR1fUTZzE2Yw5Fe95WM2sYw1H8nqtjI1pn8B4=</td>\n",
       "      <td>0</td>\n",
       "      <td>4</td>\n",
       "      <td>27</td>\n",
       "      <td>male</td>\n",
       "      <td>9</td>\n",
       "      <td>2017-03-18</td>\n",
       "      <td>39</td>\n",
       "      <td>30</td>\n",
       "      <td>149</td>\n",
       "      <td>...</td>\n",
       "      <td>2017-03-18</td>\n",
       "      <td>3</td>\n",
       "      <td>1</td>\n",
       "      <td>0</td>\n",
       "      <td>0</td>\n",
       "      <td>26</td>\n",
       "      <td>27</td>\n",
       "      <td>5963.866</td>\n",
       "      <td>num_75</td>\n",
       "      <td>30</td>\n",
       "    </tr>\n",
       "    <tr>\n",
       "      <th>2</th>\n",
       "      <td>KQChsHhR1fUTZzE2Yw5Fe95WM2sYw1H8nqtjI1pn8B4=</td>\n",
       "      <td>0</td>\n",
       "      <td>4</td>\n",
       "      <td>27</td>\n",
       "      <td>male</td>\n",
       "      <td>9</td>\n",
       "      <td>2017-03-13</td>\n",
       "      <td>39</td>\n",
       "      <td>30</td>\n",
       "      <td>149</td>\n",
       "      <td>...</td>\n",
       "      <td>2017-03-13</td>\n",
       "      <td>0</td>\n",
       "      <td>0</td>\n",
       "      <td>0</td>\n",
       "      <td>0</td>\n",
       "      <td>4</td>\n",
       "      <td>4</td>\n",
       "      <td>978.785</td>\n",
       "      <td>num_25</td>\n",
       "      <td>30</td>\n",
       "    </tr>\n",
       "    <tr>\n",
       "      <th>3</th>\n",
       "      <td>KQChsHhR1fUTZzE2Yw5Fe95WM2sYw1H8nqtjI1pn8B4=</td>\n",
       "      <td>0</td>\n",
       "      <td>4</td>\n",
       "      <td>27</td>\n",
       "      <td>male</td>\n",
       "      <td>9</td>\n",
       "      <td>2017-03-26</td>\n",
       "      <td>39</td>\n",
       "      <td>30</td>\n",
       "      <td>149</td>\n",
       "      <td>...</td>\n",
       "      <td>2017-03-26</td>\n",
       "      <td>1</td>\n",
       "      <td>1</td>\n",
       "      <td>0</td>\n",
       "      <td>0</td>\n",
       "      <td>30</td>\n",
       "      <td>32</td>\n",
       "      <td>7583.396</td>\n",
       "      <td>num_75</td>\n",
       "      <td>30</td>\n",
       "    </tr>\n",
       "    <tr>\n",
       "      <th>4</th>\n",
       "      <td>KQChsHhR1fUTZzE2Yw5Fe95WM2sYw1H8nqtjI1pn8B4=</td>\n",
       "      <td>0</td>\n",
       "      <td>4</td>\n",
       "      <td>27</td>\n",
       "      <td>male</td>\n",
       "      <td>9</td>\n",
       "      <td>2017-03-27</td>\n",
       "      <td>39</td>\n",
       "      <td>30</td>\n",
       "      <td>149</td>\n",
       "      <td>...</td>\n",
       "      <td>2017-03-27</td>\n",
       "      <td>0</td>\n",
       "      <td>0</td>\n",
       "      <td>1</td>\n",
       "      <td>1</td>\n",
       "      <td>20</td>\n",
       "      <td>22</td>\n",
       "      <td>4885.992</td>\n",
       "      <td>num_25</td>\n",
       "      <td>30</td>\n",
       "    </tr>\n",
       "    <tr>\n",
       "      <th>...</th>\n",
       "      <td>...</td>\n",
       "      <td>...</td>\n",
       "      <td>...</td>\n",
       "      <td>...</td>\n",
       "      <td>...</td>\n",
       "      <td>...</td>\n",
       "      <td>...</td>\n",
       "      <td>...</td>\n",
       "      <td>...</td>\n",
       "      <td>...</td>\n",
       "      <td>...</td>\n",
       "      <td>...</td>\n",
       "      <td>...</td>\n",
       "      <td>...</td>\n",
       "      <td>...</td>\n",
       "      <td>...</td>\n",
       "      <td>...</td>\n",
       "      <td>...</td>\n",
       "      <td>...</td>\n",
       "      <td>...</td>\n",
       "      <td>...</td>\n",
       "    </tr>\n",
       "    <tr>\n",
       "      <th>335917</th>\n",
       "      <td>SQmLpJbkZiRINbPUkiXH6P4/3GwkVv9H7EHbpn0e8Z4=</td>\n",
       "      <td>0</td>\n",
       "      <td>13</td>\n",
       "      <td>33</td>\n",
       "      <td>male</td>\n",
       "      <td>3</td>\n",
       "      <td>NaT</td>\n",
       "      <td>39</td>\n",
       "      <td>30</td>\n",
       "      <td>149</td>\n",
       "      <td>...</td>\n",
       "      <td>NaT</td>\n",
       "      <td>11</td>\n",
       "      <td>1</td>\n",
       "      <td>1</td>\n",
       "      <td>2</td>\n",
       "      <td>40</td>\n",
       "      <td>42</td>\n",
       "      <td>11368.180</td>\n",
       "      <td>num_50</td>\n",
       "      <td>40</td>\n",
       "    </tr>\n",
       "    <tr>\n",
       "      <th>335918</th>\n",
       "      <td>SQmLpJbkZiRINbPUkiXH6P4/3GwkVv9H7EHbpn0e8Z4=</td>\n",
       "      <td>0</td>\n",
       "      <td>13</td>\n",
       "      <td>33</td>\n",
       "      <td>male</td>\n",
       "      <td>3</td>\n",
       "      <td>NaT</td>\n",
       "      <td>39</td>\n",
       "      <td>30</td>\n",
       "      <td>149</td>\n",
       "      <td>...</td>\n",
       "      <td>NaT</td>\n",
       "      <td>4</td>\n",
       "      <td>1</td>\n",
       "      <td>1</td>\n",
       "      <td>1</td>\n",
       "      <td>35</td>\n",
       "      <td>39</td>\n",
       "      <td>9240.199</td>\n",
       "      <td>num_50</td>\n",
       "      <td>40</td>\n",
       "    </tr>\n",
       "    <tr>\n",
       "      <th>335919</th>\n",
       "      <td>SQmLpJbkZiRINbPUkiXH6P4/3GwkVv9H7EHbpn0e8Z4=</td>\n",
       "      <td>0</td>\n",
       "      <td>13</td>\n",
       "      <td>33</td>\n",
       "      <td>male</td>\n",
       "      <td>3</td>\n",
       "      <td>NaT</td>\n",
       "      <td>39</td>\n",
       "      <td>30</td>\n",
       "      <td>149</td>\n",
       "      <td>...</td>\n",
       "      <td>NaT</td>\n",
       "      <td>0</td>\n",
       "      <td>0</td>\n",
       "      <td>1</td>\n",
       "      <td>0</td>\n",
       "      <td>6</td>\n",
       "      <td>5</td>\n",
       "      <td>1675.688</td>\n",
       "      <td>num_25</td>\n",
       "      <td>40</td>\n",
       "    </tr>\n",
       "    <tr>\n",
       "      <th>335920</th>\n",
       "      <td>SQmLpJbkZiRINbPUkiXH6P4/3GwkVv9H7EHbpn0e8Z4=</td>\n",
       "      <td>0</td>\n",
       "      <td>13</td>\n",
       "      <td>33</td>\n",
       "      <td>male</td>\n",
       "      <td>3</td>\n",
       "      <td>NaT</td>\n",
       "      <td>39</td>\n",
       "      <td>30</td>\n",
       "      <td>149</td>\n",
       "      <td>...</td>\n",
       "      <td>NaT</td>\n",
       "      <td>2</td>\n",
       "      <td>0</td>\n",
       "      <td>0</td>\n",
       "      <td>0</td>\n",
       "      <td>13</td>\n",
       "      <td>15</td>\n",
       "      <td>3381.208</td>\n",
       "      <td>num_50</td>\n",
       "      <td>40</td>\n",
       "    </tr>\n",
       "    <tr>\n",
       "      <th>335921</th>\n",
       "      <td>SQmLpJbkZiRINbPUkiXH6P4/3GwkVv9H7EHbpn0e8Z4=</td>\n",
       "      <td>0</td>\n",
       "      <td>13</td>\n",
       "      <td>33</td>\n",
       "      <td>male</td>\n",
       "      <td>3</td>\n",
       "      <td>NaT</td>\n",
       "      <td>39</td>\n",
       "      <td>30</td>\n",
       "      <td>149</td>\n",
       "      <td>...</td>\n",
       "      <td>NaT</td>\n",
       "      <td>1</td>\n",
       "      <td>0</td>\n",
       "      <td>0</td>\n",
       "      <td>0</td>\n",
       "      <td>51</td>\n",
       "      <td>50</td>\n",
       "      <td>13001.186</td>\n",
       "      <td>num_50</td>\n",
       "      <td>40</td>\n",
       "    </tr>\n",
       "  </tbody>\n",
       "</table>\n",
       "<p>180644 rows × 25 columns</p>\n",
       "</div>"
      ],
      "text/plain": [
       "                                                msno  is_churn  city  bd  \\\n",
       "0       KQChsHhR1fUTZzE2Yw5Fe95WM2sYw1H8nqtjI1pn8B4=         0     4  27   \n",
       "1       KQChsHhR1fUTZzE2Yw5Fe95WM2sYw1H8nqtjI1pn8B4=         0     4  27   \n",
       "2       KQChsHhR1fUTZzE2Yw5Fe95WM2sYw1H8nqtjI1pn8B4=         0     4  27   \n",
       "3       KQChsHhR1fUTZzE2Yw5Fe95WM2sYw1H8nqtjI1pn8B4=         0     4  27   \n",
       "4       KQChsHhR1fUTZzE2Yw5Fe95WM2sYw1H8nqtjI1pn8B4=         0     4  27   \n",
       "...                                              ...       ...   ...  ..   \n",
       "335917  SQmLpJbkZiRINbPUkiXH6P4/3GwkVv9H7EHbpn0e8Z4=         0    13  33   \n",
       "335918  SQmLpJbkZiRINbPUkiXH6P4/3GwkVv9H7EHbpn0e8Z4=         0    13  33   \n",
       "335919  SQmLpJbkZiRINbPUkiXH6P4/3GwkVv9H7EHbpn0e8Z4=         0    13  33   \n",
       "335920  SQmLpJbkZiRINbPUkiXH6P4/3GwkVv9H7EHbpn0e8Z4=         0    13  33   \n",
       "335921  SQmLpJbkZiRINbPUkiXH6P4/3GwkVv9H7EHbpn0e8Z4=         0    13  33   \n",
       "\n",
       "       gender  registered_via registration_init_time  payment_method_id  \\\n",
       "0        male               9             2017-03-18                 39   \n",
       "1        male               9             2017-03-18                 39   \n",
       "2        male               9             2017-03-13                 39   \n",
       "3        male               9             2017-03-26                 39   \n",
       "4        male               9             2017-03-27                 39   \n",
       "...       ...             ...                    ...                ...   \n",
       "335917   male               3                    NaT                 39   \n",
       "335918   male               3                    NaT                 39   \n",
       "335919   male               3                    NaT                 39   \n",
       "335920   male               3                    NaT                 39   \n",
       "335921   male               3                    NaT                 39   \n",
       "\n",
       "        payment_plan_days  plan_list_price  ...       date  num_25 num_50  \\\n",
       "0                      30              149  ... 2017-03-18       0      1   \n",
       "1                      30              149  ... 2017-03-18       3      1   \n",
       "2                      30              149  ... 2017-03-13       0      0   \n",
       "3                      30              149  ... 2017-03-26       1      1   \n",
       "4                      30              149  ... 2017-03-27       0      0   \n",
       "...                   ...              ...  ...        ...     ...    ...   \n",
       "335917                 30              149  ...        NaT      11      1   \n",
       "335918                 30              149  ...        NaT       4      1   \n",
       "335919                 30              149  ...        NaT       0      0   \n",
       "335920                 30              149  ...        NaT       2      0   \n",
       "335921                 30              149  ...        NaT       1      0   \n",
       "\n",
       "       num_75  num_985 num_100  num_unq  total_secs  plays_majority  age_bin  \n",
       "0           0        0      38       39    9616.313          num_25       30  \n",
       "1           0        0      26       27    5963.866          num_75       30  \n",
       "2           0        0       4        4     978.785          num_25       30  \n",
       "3           0        0      30       32    7583.396          num_75       30  \n",
       "4           1        1      20       22    4885.992          num_25       30  \n",
       "...       ...      ...     ...      ...         ...             ...      ...  \n",
       "335917      1        2      40       42   11368.180          num_50       40  \n",
       "335918      1        1      35       39    9240.199          num_50       40  \n",
       "335919      1        0       6        5    1675.688          num_25       40  \n",
       "335920      0        0      13       15    3381.208          num_50       40  \n",
       "335921      0        0      51       50   13001.186          num_50       40  \n",
       "\n",
       "[180644 rows x 25 columns]"
      ]
     },
     "execution_count": 220,
     "metadata": {},
     "output_type": "execute_result"
    }
   ],
   "source": []
  },
  {
   "cell_type": "code",
   "execution_count": 231,
   "metadata": {},
   "outputs": [
    {
     "data": {
      "text/html": [
       "<div>\n",
       "<style scoped>\n",
       "    .dataframe tbody tr th:only-of-type {\n",
       "        vertical-align: middle;\n",
       "    }\n",
       "\n",
       "    .dataframe tbody tr th {\n",
       "        vertical-align: top;\n",
       "    }\n",
       "\n",
       "    .dataframe thead th {\n",
       "        text-align: right;\n",
       "    }\n",
       "</style>\n",
       "<table border=\"1\" class=\"dataframe\">\n",
       "  <thead>\n",
       "    <tr style=\"text-align: right;\">\n",
       "      <th></th>\n",
       "      <th>mean</th>\n",
       "      <th>size</th>\n",
       "    </tr>\n",
       "    <tr>\n",
       "      <th>city</th>\n",
       "      <th></th>\n",
       "      <th></th>\n",
       "    </tr>\n",
       "  </thead>\n",
       "  <tbody>\n",
       "    <tr>\n",
       "      <th>1</th>\n",
       "      <td>27.170984</td>\n",
       "      <td>5211</td>\n",
       "    </tr>\n",
       "    <tr>\n",
       "      <th>3</th>\n",
       "      <td>27.880000</td>\n",
       "      <td>2225</td>\n",
       "    </tr>\n",
       "    <tr>\n",
       "      <th>4</th>\n",
       "      <td>27.984173</td>\n",
       "      <td>19713</td>\n",
       "    </tr>\n",
       "    <tr>\n",
       "      <th>5</th>\n",
       "      <td>30.735346</td>\n",
       "      <td>27058</td>\n",
       "    </tr>\n",
       "    <tr>\n",
       "      <th>6</th>\n",
       "      <td>29.339905</td>\n",
       "      <td>11312</td>\n",
       "    </tr>\n",
       "    <tr>\n",
       "      <th>7</th>\n",
       "      <td>27.995068</td>\n",
       "      <td>811</td>\n",
       "    </tr>\n",
       "    <tr>\n",
       "      <th>8</th>\n",
       "      <td>27.427012</td>\n",
       "      <td>2932</td>\n",
       "    </tr>\n",
       "    <tr>\n",
       "      <th>9</th>\n",
       "      <td>28.448401</td>\n",
       "      <td>4690</td>\n",
       "    </tr>\n",
       "    <tr>\n",
       "      <th>10</th>\n",
       "      <td>28.568736</td>\n",
       "      <td>2706</td>\n",
       "    </tr>\n",
       "    <tr>\n",
       "      <th>11</th>\n",
       "      <td>28.311065</td>\n",
       "      <td>3877</td>\n",
       "    </tr>\n",
       "    <tr>\n",
       "      <th>12</th>\n",
       "      <td>27.126378</td>\n",
       "      <td>4716</td>\n",
       "    </tr>\n",
       "    <tr>\n",
       "      <th>13</th>\n",
       "      <td>30.061651</td>\n",
       "      <td>40908</td>\n",
       "    </tr>\n",
       "    <tr>\n",
       "      <th>14</th>\n",
       "      <td>30.187861</td>\n",
       "      <td>8485</td>\n",
       "    </tr>\n",
       "    <tr>\n",
       "      <th>15</th>\n",
       "      <td>28.687878</td>\n",
       "      <td>18842</td>\n",
       "    </tr>\n",
       "    <tr>\n",
       "      <th>16</th>\n",
       "      <td>30.308458</td>\n",
       "      <td>402</td>\n",
       "    </tr>\n",
       "    <tr>\n",
       "      <th>17</th>\n",
       "      <td>29.115415</td>\n",
       "      <td>2504</td>\n",
       "    </tr>\n",
       "    <tr>\n",
       "      <th>18</th>\n",
       "      <td>27.354097</td>\n",
       "      <td>3307</td>\n",
       "    </tr>\n",
       "    <tr>\n",
       "      <th>20</th>\n",
       "      <td>29.102433</td>\n",
       "      <td>781</td>\n",
       "    </tr>\n",
       "    <tr>\n",
       "      <th>21</th>\n",
       "      <td>24.050466</td>\n",
       "      <td>1823</td>\n",
       "    </tr>\n",
       "    <tr>\n",
       "      <th>22</th>\n",
       "      <td>29.023336</td>\n",
       "      <td>18341</td>\n",
       "    </tr>\n",
       "  </tbody>\n",
       "</table>\n",
       "</div>"
      ],
      "text/plain": [
       "           mean   size\n",
       "city                  \n",
       "1     27.170984   5211\n",
       "3     27.880000   2225\n",
       "4     27.984173  19713\n",
       "5     30.735346  27058\n",
       "6     29.339905  11312\n",
       "7     27.995068    811\n",
       "8     27.427012   2932\n",
       "9     28.448401   4690\n",
       "10    28.568736   2706\n",
       "11    28.311065   3877\n",
       "12    27.126378   4716\n",
       "13    30.061651  40908\n",
       "14    30.187861   8485\n",
       "15    28.687878  18842\n",
       "16    30.308458    402\n",
       "17    29.115415   2504\n",
       "18    27.354097   3307\n",
       "20    29.102433    781\n",
       "21    24.050466   1823\n",
       "22    29.023336  18341"
      ]
     },
     "execution_count": 231,
     "metadata": {},
     "output_type": "execute_result"
    }
   ],
   "source": [
    "Data_binned.groupby('city')['bd'].agg(['mean', 'size'])"
   ]
  },
  {
   "cell_type": "code",
   "execution_count": 241,
   "metadata": {},
   "outputs": [
    {
     "data": {
      "text/plain": [
       " 0      155071\n",
       " 27      11993\n",
       " 25      11862\n",
       " 26      10645\n",
       " 29      10270\n",
       "         ...  \n",
       " 76          4\n",
       " 71          4\n",
       "-46          4\n",
       " 4           3\n",
       " 100         2\n",
       "Name: bd, Length: 72, dtype: int64"
      ]
     },
     "execution_count": 241,
     "metadata": {},
     "output_type": "execute_result"
    }
   ],
   "source": [
    "Data['bd'].value_counts()"
   ]
  },
  {
   "cell_type": "code",
   "execution_count": 244,
   "metadata": {},
   "outputs": [
    {
     "data": {
      "text/plain": [
       "0.46159364423554905"
      ]
     },
     "execution_count": 244,
     "metadata": {},
     "output_type": "execute_result"
    }
   ],
   "source": [
    "Data['bd'][Data['bd'] == 0].shape[0]/Data.shape[0] #percent of age column consisting of zeros"
   ]
  },
  {
   "cell_type": "code",
   "execution_count": null,
   "metadata": {},
   "outputs": [],
   "source": []
  }
 ],
 "metadata": {
  "kernelspec": {
   "display_name": "Python 3",
   "language": "python",
   "name": "python3"
  },
  "language_info": {
   "codemirror_mode": {
    "name": "ipython",
    "version": 3
   },
   "file_extension": ".py",
   "mimetype": "text/x-python",
   "name": "python",
   "nbconvert_exporter": "python",
   "pygments_lexer": "ipython3",
   "version": "3.8.3"
  }
 },
 "nbformat": 4,
 "nbformat_minor": 4
}
